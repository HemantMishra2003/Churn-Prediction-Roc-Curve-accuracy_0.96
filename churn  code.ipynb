{
  "metadata": {
    "kernelspec": {
      "display_name": "Python 3",
      "name": "python3"
    },
    "language_info": {
      "codemirror_mode": {
        "name": "ipython",
        "version": 3
      },
      "file_extension": ".py",
      "mimetype": "text/x-python",
      "name": "python",
      "nbconvert_exporter": "python",
      "pygments_lexer": "ipython3",
      "version": "3.11.13"
    },
    "kaggle": {
      "accelerator": "none",
      "dataSources": [
        {
          "sourceId": 1265963,
          "sourceType": "datasetVersion",
          "datasetId": 729058
        }
      ],
      "dockerImageVersionId": 31089,
      "isInternetEnabled": true,
      "language": "python",
      "sourceType": "notebook",
      "isGpuEnabled": false
    },
    "papermill": {
      "default_parameters": {},
      "duration": 30.543778,
      "end_time": "2025-10-02T14:18:16.373101",
      "environment_variables": {},
      "exception": true,
      "input_path": "__notebook__.ipynb",
      "output_path": "__notebook__.ipynb",
      "parameters": {},
      "start_time": "2025-10-02T14:17:45.829323",
      "version": "2.6.0"
    },
    "colab": {
      "provenance": [],
      "gpuType": "T4"
    },
    "accelerator": "GPU"
  },
  "nbformat_minor": 0,
  "nbformat": 4,
  "cells": [
    {
      "cell_type": "markdown",
      "source": [
        "# Important Module"
      ],
      "metadata": {
        "id": "6tLPKdNWcCR5"
      }
    },
    {
      "cell_type": "code",
      "source": [
        " pip install catboost"
      ],
      "metadata": {
        "colab": {
          "base_uri": "https://localhost:8080/"
        },
        "id": "lQ1oN-ByUC8s",
        "outputId": "a9b4508a-58b5-4f6b-89ad-e0a145d53c7e"
      },
      "execution_count": 4,
      "outputs": [
        {
          "output_type": "stream",
          "name": "stdout",
          "text": [
            "Requirement already satisfied: catboost in /usr/local/lib/python3.12/dist-packages (1.2.8)\n",
            "Requirement already satisfied: graphviz in /usr/local/lib/python3.12/dist-packages (from catboost) (0.21)\n",
            "Requirement already satisfied: matplotlib in /usr/local/lib/python3.12/dist-packages (from catboost) (3.10.0)\n",
            "Requirement already satisfied: numpy<3.0,>=1.16.0 in /usr/local/lib/python3.12/dist-packages (from catboost) (2.0.2)\n",
            "Requirement already satisfied: pandas>=0.24 in /usr/local/lib/python3.12/dist-packages (from catboost) (2.2.2)\n",
            "Requirement already satisfied: scipy in /usr/local/lib/python3.12/dist-packages (from catboost) (1.16.2)\n",
            "Requirement already satisfied: plotly in /usr/local/lib/python3.12/dist-packages (from catboost) (5.24.1)\n",
            "Requirement already satisfied: six in /usr/local/lib/python3.12/dist-packages (from catboost) (1.17.0)\n",
            "Requirement already satisfied: python-dateutil>=2.8.2 in /usr/local/lib/python3.12/dist-packages (from pandas>=0.24->catboost) (2.9.0.post0)\n",
            "Requirement already satisfied: pytz>=2020.1 in /usr/local/lib/python3.12/dist-packages (from pandas>=0.24->catboost) (2025.2)\n",
            "Requirement already satisfied: tzdata>=2022.7 in /usr/local/lib/python3.12/dist-packages (from pandas>=0.24->catboost) (2025.2)\n",
            "Requirement already satisfied: contourpy>=1.0.1 in /usr/local/lib/python3.12/dist-packages (from matplotlib->catboost) (1.3.3)\n",
            "Requirement already satisfied: cycler>=0.10 in /usr/local/lib/python3.12/dist-packages (from matplotlib->catboost) (0.12.1)\n",
            "Requirement already satisfied: fonttools>=4.22.0 in /usr/local/lib/python3.12/dist-packages (from matplotlib->catboost) (4.60.1)\n",
            "Requirement already satisfied: kiwisolver>=1.3.1 in /usr/local/lib/python3.12/dist-packages (from matplotlib->catboost) (1.4.9)\n",
            "Requirement already satisfied: packaging>=20.0 in /usr/local/lib/python3.12/dist-packages (from matplotlib->catboost) (25.0)\n",
            "Requirement already satisfied: pillow>=8 in /usr/local/lib/python3.12/dist-packages (from matplotlib->catboost) (11.3.0)\n",
            "Requirement already satisfied: pyparsing>=2.3.1 in /usr/local/lib/python3.12/dist-packages (from matplotlib->catboost) (3.2.5)\n",
            "Requirement already satisfied: tenacity>=6.2.0 in /usr/local/lib/python3.12/dist-packages (from plotly->catboost) (8.5.0)\n"
          ]
        }
      ]
    },
    {
      "cell_type": "markdown",
      "source": [
        "# Important Imported Libraries"
      ],
      "metadata": {
        "id": "EC1dmcGCfRn2"
      }
    },
    {
      "cell_type": "code",
      "source": [
        "import numpy as np\n",
        "import pandas as pd\n",
        "import matplotlib.pyplot as plt\n",
        "import seaborn as sns\n",
        "from sklearn.metrics import accuracy_score, precision_score, recall_score, f1_score\n",
        "import tensorflow as tf\n",
        "from tensorflow.keras.callbacks import EarlyStopping\n",
        "\n",
        "\n",
        "\n",
        "from sklearn.metrics import (\n",
        "    confusion_matrix,\n",
        "    ConfusionMatrixDisplay,\n",
        "    roc_curve,\n",
        "    roc_auc_score,\n",
        "    cohen_kappa_score,\n",
        "    accuracy_score,\n",
        "    classification_report\n",
        ")\n",
        "\n",
        "\n",
        "from imblearn.over_sampling import ADASYN\n",
        "from imblearn.over_sampling import SMOTE\n",
        "from sklearn.model_selection import train_test_split\n",
        "from sklearn.preprocessing import StandardScaler\n",
        "from sklearn.linear_model import LogisticRegression\n",
        "from sklearn.model_selection import GridSearchCV\n",
        "from sklearn.ensemble import RandomForestClassifier\n",
        "from xgboost import XGBClassifier\n",
        "from catboost import CatBoostClassifier\n"
      ],
      "metadata": {
        "id": "gZEQfD0UcSsJ"
      },
      "execution_count": 5,
      "outputs": []
    },
    {
      "cell_type": "markdown",
      "source": [
        "# Dataset"
      ],
      "metadata": {
        "id": "9TkvUFSsbztf"
      }
    },
    {
      "cell_type": "code",
      "source": [
        "v = pd.read_csv(\"/content/Churn_Modelling.csv\")"
      ],
      "metadata": {
        "id": "L7kmK6pUb6RP"
      },
      "execution_count": 6,
      "outputs": []
    },
    {
      "cell_type": "code",
      "source": [
        "v.sample(5)"
      ],
      "metadata": {
        "colab": {
          "base_uri": "https://localhost:8080/",
          "height": 226
        },
        "id": "JQYzrCA1xkyQ",
        "outputId": "fb62091b-d0b1-433f-add6-d5e69ede663d"
      },
      "execution_count": 7,
      "outputs": [
        {
          "output_type": "execute_result",
          "data": {
            "text/plain": [
              "      RowNumber  CustomerId     Surname  CreditScore Geography  Gender  Age  \\\n",
              "9649       9650    15788025       Tseng          715    France  Female   38   \n",
              "4317       4318    15592194     Metcalf          492    France  Female   28   \n",
              "9243       9244    15815534      Guidry          505     Spain    Male   37   \n",
              "5535       5536    15694444  Buttenshaw          648   Germany  Female   32   \n",
              "1112       1113    15714750     Northey          690    France  Female   42   \n",
              "\n",
              "      Tenure    Balance  NumOfProducts  HasCrCard  IsActiveMember  \\\n",
              "9649       0       0.00              2          1               1   \n",
              "4317       9       0.00              2          1               0   \n",
              "9243       0  134006.39              1          1               1   \n",
              "5535       8  157138.99              3          1               0   \n",
              "1112       3   92578.14              2          0               0   \n",
              "\n",
              "      EstimatedSalary  Exited  \n",
              "9649           332.81       0  \n",
              "4317         95957.09       0  \n",
              "9243         93736.69       0  \n",
              "5535        190994.48       1  \n",
              "1112         70810.60       0  "
            ],
            "text/html": [
              "\n",
              "  <div id=\"df-c7d6739f-7ce1-48ec-bde9-0d4bac01b232\" class=\"colab-df-container\">\n",
              "    <div>\n",
              "<style scoped>\n",
              "    .dataframe tbody tr th:only-of-type {\n",
              "        vertical-align: middle;\n",
              "    }\n",
              "\n",
              "    .dataframe tbody tr th {\n",
              "        vertical-align: top;\n",
              "    }\n",
              "\n",
              "    .dataframe thead th {\n",
              "        text-align: right;\n",
              "    }\n",
              "</style>\n",
              "<table border=\"1\" class=\"dataframe\">\n",
              "  <thead>\n",
              "    <tr style=\"text-align: right;\">\n",
              "      <th></th>\n",
              "      <th>RowNumber</th>\n",
              "      <th>CustomerId</th>\n",
              "      <th>Surname</th>\n",
              "      <th>CreditScore</th>\n",
              "      <th>Geography</th>\n",
              "      <th>Gender</th>\n",
              "      <th>Age</th>\n",
              "      <th>Tenure</th>\n",
              "      <th>Balance</th>\n",
              "      <th>NumOfProducts</th>\n",
              "      <th>HasCrCard</th>\n",
              "      <th>IsActiveMember</th>\n",
              "      <th>EstimatedSalary</th>\n",
              "      <th>Exited</th>\n",
              "    </tr>\n",
              "  </thead>\n",
              "  <tbody>\n",
              "    <tr>\n",
              "      <th>9649</th>\n",
              "      <td>9650</td>\n",
              "      <td>15788025</td>\n",
              "      <td>Tseng</td>\n",
              "      <td>715</td>\n",
              "      <td>France</td>\n",
              "      <td>Female</td>\n",
              "      <td>38</td>\n",
              "      <td>0</td>\n",
              "      <td>0.00</td>\n",
              "      <td>2</td>\n",
              "      <td>1</td>\n",
              "      <td>1</td>\n",
              "      <td>332.81</td>\n",
              "      <td>0</td>\n",
              "    </tr>\n",
              "    <tr>\n",
              "      <th>4317</th>\n",
              "      <td>4318</td>\n",
              "      <td>15592194</td>\n",
              "      <td>Metcalf</td>\n",
              "      <td>492</td>\n",
              "      <td>France</td>\n",
              "      <td>Female</td>\n",
              "      <td>28</td>\n",
              "      <td>9</td>\n",
              "      <td>0.00</td>\n",
              "      <td>2</td>\n",
              "      <td>1</td>\n",
              "      <td>0</td>\n",
              "      <td>95957.09</td>\n",
              "      <td>0</td>\n",
              "    </tr>\n",
              "    <tr>\n",
              "      <th>9243</th>\n",
              "      <td>9244</td>\n",
              "      <td>15815534</td>\n",
              "      <td>Guidry</td>\n",
              "      <td>505</td>\n",
              "      <td>Spain</td>\n",
              "      <td>Male</td>\n",
              "      <td>37</td>\n",
              "      <td>0</td>\n",
              "      <td>134006.39</td>\n",
              "      <td>1</td>\n",
              "      <td>1</td>\n",
              "      <td>1</td>\n",
              "      <td>93736.69</td>\n",
              "      <td>0</td>\n",
              "    </tr>\n",
              "    <tr>\n",
              "      <th>5535</th>\n",
              "      <td>5536</td>\n",
              "      <td>15694444</td>\n",
              "      <td>Buttenshaw</td>\n",
              "      <td>648</td>\n",
              "      <td>Germany</td>\n",
              "      <td>Female</td>\n",
              "      <td>32</td>\n",
              "      <td>8</td>\n",
              "      <td>157138.99</td>\n",
              "      <td>3</td>\n",
              "      <td>1</td>\n",
              "      <td>0</td>\n",
              "      <td>190994.48</td>\n",
              "      <td>1</td>\n",
              "    </tr>\n",
              "    <tr>\n",
              "      <th>1112</th>\n",
              "      <td>1113</td>\n",
              "      <td>15714750</td>\n",
              "      <td>Northey</td>\n",
              "      <td>690</td>\n",
              "      <td>France</td>\n",
              "      <td>Female</td>\n",
              "      <td>42</td>\n",
              "      <td>3</td>\n",
              "      <td>92578.14</td>\n",
              "      <td>2</td>\n",
              "      <td>0</td>\n",
              "      <td>0</td>\n",
              "      <td>70810.60</td>\n",
              "      <td>0</td>\n",
              "    </tr>\n",
              "  </tbody>\n",
              "</table>\n",
              "</div>\n",
              "    <div class=\"colab-df-buttons\">\n",
              "\n",
              "  <div class=\"colab-df-container\">\n",
              "    <button class=\"colab-df-convert\" onclick=\"convertToInteractive('df-c7d6739f-7ce1-48ec-bde9-0d4bac01b232')\"\n",
              "            title=\"Convert this dataframe to an interactive table.\"\n",
              "            style=\"display:none;\">\n",
              "\n",
              "  <svg xmlns=\"http://www.w3.org/2000/svg\" height=\"24px\" viewBox=\"0 -960 960 960\">\n",
              "    <path d=\"M120-120v-720h720v720H120Zm60-500h600v-160H180v160Zm220 220h160v-160H400v160Zm0 220h160v-160H400v160ZM180-400h160v-160H180v160Zm440 0h160v-160H620v160ZM180-180h160v-160H180v160Zm440 0h160v-160H620v160Z\"/>\n",
              "  </svg>\n",
              "    </button>\n",
              "\n",
              "  <style>\n",
              "    .colab-df-container {\n",
              "      display:flex;\n",
              "      gap: 12px;\n",
              "    }\n",
              "\n",
              "    .colab-df-convert {\n",
              "      background-color: #E8F0FE;\n",
              "      border: none;\n",
              "      border-radius: 50%;\n",
              "      cursor: pointer;\n",
              "      display: none;\n",
              "      fill: #1967D2;\n",
              "      height: 32px;\n",
              "      padding: 0 0 0 0;\n",
              "      width: 32px;\n",
              "    }\n",
              "\n",
              "    .colab-df-convert:hover {\n",
              "      background-color: #E2EBFA;\n",
              "      box-shadow: 0px 1px 2px rgba(60, 64, 67, 0.3), 0px 1px 3px 1px rgba(60, 64, 67, 0.15);\n",
              "      fill: #174EA6;\n",
              "    }\n",
              "\n",
              "    .colab-df-buttons div {\n",
              "      margin-bottom: 4px;\n",
              "    }\n",
              "\n",
              "    [theme=dark] .colab-df-convert {\n",
              "      background-color: #3B4455;\n",
              "      fill: #D2E3FC;\n",
              "    }\n",
              "\n",
              "    [theme=dark] .colab-df-convert:hover {\n",
              "      background-color: #434B5C;\n",
              "      box-shadow: 0px 1px 3px 1px rgba(0, 0, 0, 0.15);\n",
              "      filter: drop-shadow(0px 1px 2px rgba(0, 0, 0, 0.3));\n",
              "      fill: #FFFFFF;\n",
              "    }\n",
              "  </style>\n",
              "\n",
              "    <script>\n",
              "      const buttonEl =\n",
              "        document.querySelector('#df-c7d6739f-7ce1-48ec-bde9-0d4bac01b232 button.colab-df-convert');\n",
              "      buttonEl.style.display =\n",
              "        google.colab.kernel.accessAllowed ? 'block' : 'none';\n",
              "\n",
              "      async function convertToInteractive(key) {\n",
              "        const element = document.querySelector('#df-c7d6739f-7ce1-48ec-bde9-0d4bac01b232');\n",
              "        const dataTable =\n",
              "          await google.colab.kernel.invokeFunction('convertToInteractive',\n",
              "                                                    [key], {});\n",
              "        if (!dataTable) return;\n",
              "\n",
              "        const docLinkHtml = 'Like what you see? Visit the ' +\n",
              "          '<a target=\"_blank\" href=https://colab.research.google.com/notebooks/data_table.ipynb>data table notebook</a>'\n",
              "          + ' to learn more about interactive tables.';\n",
              "        element.innerHTML = '';\n",
              "        dataTable['output_type'] = 'display_data';\n",
              "        await google.colab.output.renderOutput(dataTable, element);\n",
              "        const docLink = document.createElement('div');\n",
              "        docLink.innerHTML = docLinkHtml;\n",
              "        element.appendChild(docLink);\n",
              "      }\n",
              "    </script>\n",
              "  </div>\n",
              "\n",
              "\n",
              "    <div id=\"df-d3da823d-87c7-475d-9c76-4dd237c525d9\">\n",
              "      <button class=\"colab-df-quickchart\" onclick=\"quickchart('df-d3da823d-87c7-475d-9c76-4dd237c525d9')\"\n",
              "                title=\"Suggest charts\"\n",
              "                style=\"display:none;\">\n",
              "\n",
              "<svg xmlns=\"http://www.w3.org/2000/svg\" height=\"24px\"viewBox=\"0 0 24 24\"\n",
              "     width=\"24px\">\n",
              "    <g>\n",
              "        <path d=\"M19 3H5c-1.1 0-2 .9-2 2v14c0 1.1.9 2 2 2h14c1.1 0 2-.9 2-2V5c0-1.1-.9-2-2-2zM9 17H7v-7h2v7zm4 0h-2V7h2v10zm4 0h-2v-4h2v4z\"/>\n",
              "    </g>\n",
              "</svg>\n",
              "      </button>\n",
              "\n",
              "<style>\n",
              "  .colab-df-quickchart {\n",
              "      --bg-color: #E8F0FE;\n",
              "      --fill-color: #1967D2;\n",
              "      --hover-bg-color: #E2EBFA;\n",
              "      --hover-fill-color: #174EA6;\n",
              "      --disabled-fill-color: #AAA;\n",
              "      --disabled-bg-color: #DDD;\n",
              "  }\n",
              "\n",
              "  [theme=dark] .colab-df-quickchart {\n",
              "      --bg-color: #3B4455;\n",
              "      --fill-color: #D2E3FC;\n",
              "      --hover-bg-color: #434B5C;\n",
              "      --hover-fill-color: #FFFFFF;\n",
              "      --disabled-bg-color: #3B4455;\n",
              "      --disabled-fill-color: #666;\n",
              "  }\n",
              "\n",
              "  .colab-df-quickchart {\n",
              "    background-color: var(--bg-color);\n",
              "    border: none;\n",
              "    border-radius: 50%;\n",
              "    cursor: pointer;\n",
              "    display: none;\n",
              "    fill: var(--fill-color);\n",
              "    height: 32px;\n",
              "    padding: 0;\n",
              "    width: 32px;\n",
              "  }\n",
              "\n",
              "  .colab-df-quickchart:hover {\n",
              "    background-color: var(--hover-bg-color);\n",
              "    box-shadow: 0 1px 2px rgba(60, 64, 67, 0.3), 0 1px 3px 1px rgba(60, 64, 67, 0.15);\n",
              "    fill: var(--button-hover-fill-color);\n",
              "  }\n",
              "\n",
              "  .colab-df-quickchart-complete:disabled,\n",
              "  .colab-df-quickchart-complete:disabled:hover {\n",
              "    background-color: var(--disabled-bg-color);\n",
              "    fill: var(--disabled-fill-color);\n",
              "    box-shadow: none;\n",
              "  }\n",
              "\n",
              "  .colab-df-spinner {\n",
              "    border: 2px solid var(--fill-color);\n",
              "    border-color: transparent;\n",
              "    border-bottom-color: var(--fill-color);\n",
              "    animation:\n",
              "      spin 1s steps(1) infinite;\n",
              "  }\n",
              "\n",
              "  @keyframes spin {\n",
              "    0% {\n",
              "      border-color: transparent;\n",
              "      border-bottom-color: var(--fill-color);\n",
              "      border-left-color: var(--fill-color);\n",
              "    }\n",
              "    20% {\n",
              "      border-color: transparent;\n",
              "      border-left-color: var(--fill-color);\n",
              "      border-top-color: var(--fill-color);\n",
              "    }\n",
              "    30% {\n",
              "      border-color: transparent;\n",
              "      border-left-color: var(--fill-color);\n",
              "      border-top-color: var(--fill-color);\n",
              "      border-right-color: var(--fill-color);\n",
              "    }\n",
              "    40% {\n",
              "      border-color: transparent;\n",
              "      border-right-color: var(--fill-color);\n",
              "      border-top-color: var(--fill-color);\n",
              "    }\n",
              "    60% {\n",
              "      border-color: transparent;\n",
              "      border-right-color: var(--fill-color);\n",
              "    }\n",
              "    80% {\n",
              "      border-color: transparent;\n",
              "      border-right-color: var(--fill-color);\n",
              "      border-bottom-color: var(--fill-color);\n",
              "    }\n",
              "    90% {\n",
              "      border-color: transparent;\n",
              "      border-bottom-color: var(--fill-color);\n",
              "    }\n",
              "  }\n",
              "</style>\n",
              "\n",
              "      <script>\n",
              "        async function quickchart(key) {\n",
              "          const quickchartButtonEl =\n",
              "            document.querySelector('#' + key + ' button');\n",
              "          quickchartButtonEl.disabled = true;  // To prevent multiple clicks.\n",
              "          quickchartButtonEl.classList.add('colab-df-spinner');\n",
              "          try {\n",
              "            const charts = await google.colab.kernel.invokeFunction(\n",
              "                'suggestCharts', [key], {});\n",
              "          } catch (error) {\n",
              "            console.error('Error during call to suggestCharts:', error);\n",
              "          }\n",
              "          quickchartButtonEl.classList.remove('colab-df-spinner');\n",
              "          quickchartButtonEl.classList.add('colab-df-quickchart-complete');\n",
              "        }\n",
              "        (() => {\n",
              "          let quickchartButtonEl =\n",
              "            document.querySelector('#df-d3da823d-87c7-475d-9c76-4dd237c525d9 button');\n",
              "          quickchartButtonEl.style.display =\n",
              "            google.colab.kernel.accessAllowed ? 'block' : 'none';\n",
              "        })();\n",
              "      </script>\n",
              "    </div>\n",
              "\n",
              "    </div>\n",
              "  </div>\n"
            ],
            "application/vnd.google.colaboratory.intrinsic+json": {
              "type": "dataframe",
              "summary": "{\n  \"name\": \"v\",\n  \"rows\": 5,\n  \"fields\": [\n    {\n      \"column\": \"RowNumber\",\n      \"properties\": {\n        \"dtype\": \"number\",\n        \"std\": 3562,\n        \"min\": 1113,\n        \"max\": 9650,\n        \"num_unique_values\": 5,\n        \"samples\": [\n          4318,\n          1113,\n          9244\n        ],\n        \"semantic_type\": \"\",\n        \"description\": \"\"\n      }\n    },\n    {\n      \"column\": \"CustomerId\",\n      \"properties\": {\n        \"dtype\": \"number\",\n        \"std\": 87698,\n        \"min\": 15592194,\n        \"max\": 15815534,\n        \"num_unique_values\": 5,\n        \"samples\": [\n          15592194,\n          15714750,\n          15815534\n        ],\n        \"semantic_type\": \"\",\n        \"description\": \"\"\n      }\n    },\n    {\n      \"column\": \"Surname\",\n      \"properties\": {\n        \"dtype\": \"string\",\n        \"num_unique_values\": 5,\n        \"samples\": [\n          \"Metcalf\",\n          \"Northey\",\n          \"Guidry\"\n        ],\n        \"semantic_type\": \"\",\n        \"description\": \"\"\n      }\n    },\n    {\n      \"column\": \"CreditScore\",\n      \"properties\": {\n        \"dtype\": \"number\",\n        \"std\": 104,\n        \"min\": 492,\n        \"max\": 715,\n        \"num_unique_values\": 5,\n        \"samples\": [\n          492,\n          690,\n          505\n        ],\n        \"semantic_type\": \"\",\n        \"description\": \"\"\n      }\n    },\n    {\n      \"column\": \"Geography\",\n      \"properties\": {\n        \"dtype\": \"string\",\n        \"num_unique_values\": 3,\n        \"samples\": [\n          \"France\",\n          \"Spain\",\n          \"Germany\"\n        ],\n        \"semantic_type\": \"\",\n        \"description\": \"\"\n      }\n    },\n    {\n      \"column\": \"Gender\",\n      \"properties\": {\n        \"dtype\": \"category\",\n        \"num_unique_values\": 2,\n        \"samples\": [\n          \"Male\",\n          \"Female\"\n        ],\n        \"semantic_type\": \"\",\n        \"description\": \"\"\n      }\n    },\n    {\n      \"column\": \"Age\",\n      \"properties\": {\n        \"dtype\": \"number\",\n        \"std\": 5,\n        \"min\": 28,\n        \"max\": 42,\n        \"num_unique_values\": 5,\n        \"samples\": [\n          28,\n          42\n        ],\n        \"semantic_type\": \"\",\n        \"description\": \"\"\n      }\n    },\n    {\n      \"column\": \"Tenure\",\n      \"properties\": {\n        \"dtype\": \"number\",\n        \"std\": 4,\n        \"min\": 0,\n        \"max\": 9,\n        \"num_unique_values\": 4,\n        \"samples\": [\n          9,\n          3\n        ],\n        \"semantic_type\": \"\",\n        \"description\": \"\"\n      }\n    },\n    {\n      \"column\": \"Balance\",\n      \"properties\": {\n        \"dtype\": \"number\",\n        \"std\": 73777.26408703721,\n        \"min\": 0.0,\n        \"max\": 157138.99,\n        \"num_unique_values\": 4,\n        \"samples\": [\n          134006.39,\n          92578.14\n        ],\n        \"semantic_type\": \"\",\n        \"description\": \"\"\n      }\n    },\n    {\n      \"column\": \"NumOfProducts\",\n      \"properties\": {\n        \"dtype\": \"number\",\n        \"std\": 0,\n        \"min\": 1,\n        \"max\": 3,\n        \"num_unique_values\": 3,\n        \"samples\": [\n          2,\n          1\n        ],\n        \"semantic_type\": \"\",\n        \"description\": \"\"\n      }\n    },\n    {\n      \"column\": \"HasCrCard\",\n      \"properties\": {\n        \"dtype\": \"number\",\n        \"std\": 0,\n        \"min\": 0,\n        \"max\": 1,\n        \"num_unique_values\": 2,\n        \"samples\": [\n          0,\n          1\n        ],\n        \"semantic_type\": \"\",\n        \"description\": \"\"\n      }\n    },\n    {\n      \"column\": \"IsActiveMember\",\n      \"properties\": {\n        \"dtype\": \"number\",\n        \"std\": 0,\n        \"min\": 0,\n        \"max\": 1,\n        \"num_unique_values\": 2,\n        \"samples\": [\n          0,\n          1\n        ],\n        \"semantic_type\": \"\",\n        \"description\": \"\"\n      }\n    },\n    {\n      \"column\": \"EstimatedSalary\",\n      \"properties\": {\n        \"dtype\": \"number\",\n        \"std\": 68295.50094214281,\n        \"min\": 332.81,\n        \"max\": 190994.48,\n        \"num_unique_values\": 5,\n        \"samples\": [\n          95957.09,\n          70810.6\n        ],\n        \"semantic_type\": \"\",\n        \"description\": \"\"\n      }\n    },\n    {\n      \"column\": \"Exited\",\n      \"properties\": {\n        \"dtype\": \"number\",\n        \"std\": 0,\n        \"min\": 0,\n        \"max\": 1,\n        \"num_unique_values\": 2,\n        \"samples\": [\n          1,\n          0\n        ],\n        \"semantic_type\": \"\",\n        \"description\": \"\"\n      }\n    }\n  ]\n}"
            }
          },
          "metadata": {},
          "execution_count": 7
        }
      ]
    },
    {
      "cell_type": "markdown",
      "source": [
        "# About dataset\n",
        "\n",
        "what is churn ??\n",
        "\n",
        "\n",
        "                  In banking (and business in general), the word “churn” means the loss of customers over time — basically when existing customers stop using the bank’s services.\n",
        "                  \n",
        "\n",
        " what is exited term used here as output ??\n",
        "\n",
        "\n",
        "                     bank churn datasets, \"Exited = 1\" means the customer left the bank.\n",
        "        The word “exited” comes from the verb “to exit”.\n",
        "\n",
        "\n",
        "  what is no.of products here ??\n",
        "\n",
        "\n",
        "           means  how much customers are engaged\n",
        "           in banking systems ..like saving acc, personal loans , mutual funds\n",
        "           etc ....\n",
        "             impotant points : it is considered that customer who is engaged in lesser number of products\n",
        "             have more chance to churn out.\n",
        "\n",
        "\n",
        "  Tenure ??\n",
        "\n",
        "  \n",
        "              from how much time custmer has retain thier account in bank\n",
        "              low tenure leads to more possibility of being churn out .    "
      ],
      "metadata": {
        "id": "B9yD8sxYxX9G"
      }
    },
    {
      "cell_type": "markdown",
      "source": [
        "# Understanding Data"
      ],
      "metadata": {
        "id": "KUy4CEvMyvJl"
      }
    },
    {
      "cell_type": "code",
      "source": [
        "v.shape\n",
        "# 1000 rows and 14 columns"
      ],
      "metadata": {
        "execution": {
          "iopub.status.busy": "2025-10-21T07:26:51.120198Z",
          "iopub.execute_input": "2025-10-21T07:26:51.120491Z",
          "iopub.status.idle": "2025-10-21T07:26:51.127648Z",
          "shell.execute_reply.started": "2025-10-21T07:26:51.120467Z",
          "shell.execute_reply": "2025-10-21T07:26:51.126263Z"
        },
        "papermill": {
          "duration": 0.014932,
          "end_time": "2025-10-02T14:17:54.594518",
          "exception": false,
          "start_time": "2025-10-02T14:17:54.579586",
          "status": "completed"
        },
        "tags": [],
        "trusted": true,
        "id": "2EWwzDtBxX9I",
        "colab": {
          "base_uri": "https://localhost:8080/"
        },
        "outputId": "f3e5f5dc-5b58-4f97-f4e3-7be6a98263c5"
      },
      "outputs": [
        {
          "output_type": "execute_result",
          "data": {
            "text/plain": [
              "(10000, 14)"
            ]
          },
          "metadata": {},
          "execution_count": 8
        }
      ],
      "execution_count": 8
    },
    {
      "cell_type": "code",
      "source": [
        "v.columns\n",
        "# columns  shape"
      ],
      "metadata": {
        "execution": {
          "iopub.status.busy": "2025-10-21T07:26:51.128733Z",
          "iopub.execute_input": "2025-10-21T07:26:51.129102Z",
          "iopub.status.idle": "2025-10-21T07:26:51.149449Z",
          "shell.execute_reply.started": "2025-10-21T07:26:51.129070Z",
          "shell.execute_reply": "2025-10-21T07:26:51.148050Z"
        },
        "papermill": {
          "duration": 0.016957,
          "end_time": "2025-10-02T14:17:54.618830",
          "exception": false,
          "start_time": "2025-10-02T14:17:54.601873",
          "status": "completed"
        },
        "tags": [],
        "trusted": true,
        "id": "Lh8-gg8qxX9I",
        "colab": {
          "base_uri": "https://localhost:8080/"
        },
        "outputId": "31defe90-41cf-411f-9092-154042e5c3d3"
      },
      "outputs": [
        {
          "output_type": "execute_result",
          "data": {
            "text/plain": [
              "Index(['RowNumber', 'CustomerId', 'Surname', 'CreditScore', 'Geography',\n",
              "       'Gender', 'Age', 'Tenure', 'Balance', 'NumOfProducts', 'HasCrCard',\n",
              "       'IsActiveMember', 'EstimatedSalary', 'Exited'],\n",
              "      dtype='object')"
            ]
          },
          "metadata": {},
          "execution_count": 9
        }
      ],
      "execution_count": 9
    },
    {
      "cell_type": "code",
      "source": [
        "v.describe()\n",
        "\n",
        "# its gives a strong understanding of whole dataset\n"
      ],
      "metadata": {
        "execution": {
          "iopub.status.busy": "2025-10-21T07:26:51.153453Z",
          "iopub.execute_input": "2025-10-21T07:26:51.153848Z",
          "iopub.status.idle": "2025-10-21T07:26:51.210784Z",
          "shell.execute_reply.started": "2025-10-21T07:26:51.153814Z",
          "shell.execute_reply": "2025-10-21T07:26:51.209723Z"
        },
        "papermill": {
          "duration": 0.054586,
          "end_time": "2025-10-02T14:17:54.680962",
          "exception": false,
          "start_time": "2025-10-02T14:17:54.626376",
          "status": "completed"
        },
        "tags": [],
        "trusted": true,
        "id": "8NTveUTcxX9I",
        "colab": {
          "base_uri": "https://localhost:8080/",
          "height": 320
        },
        "outputId": "aa573140-072d-432e-a154-f976693f40d0"
      },
      "outputs": [
        {
          "output_type": "execute_result",
          "data": {
            "text/plain": [
              "         RowNumber    CustomerId   CreditScore           Age        Tenure  \\\n",
              "count  10000.00000  1.000000e+04  10000.000000  10000.000000  10000.000000   \n",
              "mean    5000.50000  1.569094e+07    650.528800     38.921800      5.012800   \n",
              "std     2886.89568  7.193619e+04     96.653299     10.487806      2.892174   \n",
              "min        1.00000  1.556570e+07    350.000000     18.000000      0.000000   \n",
              "25%     2500.75000  1.562853e+07    584.000000     32.000000      3.000000   \n",
              "50%     5000.50000  1.569074e+07    652.000000     37.000000      5.000000   \n",
              "75%     7500.25000  1.575323e+07    718.000000     44.000000      7.000000   \n",
              "max    10000.00000  1.581569e+07    850.000000     92.000000     10.000000   \n",
              "\n",
              "             Balance  NumOfProducts    HasCrCard  IsActiveMember  \\\n",
              "count   10000.000000   10000.000000  10000.00000    10000.000000   \n",
              "mean    76485.889288       1.530200      0.70550        0.515100   \n",
              "std     62397.405202       0.581654      0.45584        0.499797   \n",
              "min         0.000000       1.000000      0.00000        0.000000   \n",
              "25%         0.000000       1.000000      0.00000        0.000000   \n",
              "50%     97198.540000       1.000000      1.00000        1.000000   \n",
              "75%    127644.240000       2.000000      1.00000        1.000000   \n",
              "max    250898.090000       4.000000      1.00000        1.000000   \n",
              "\n",
              "       EstimatedSalary        Exited  \n",
              "count     10000.000000  10000.000000  \n",
              "mean     100090.239881      0.203700  \n",
              "std       57510.492818      0.402769  \n",
              "min          11.580000      0.000000  \n",
              "25%       51002.110000      0.000000  \n",
              "50%      100193.915000      0.000000  \n",
              "75%      149388.247500      0.000000  \n",
              "max      199992.480000      1.000000  "
            ],
            "text/html": [
              "\n",
              "  <div id=\"df-3d267154-5127-4241-9176-f1f971ba1932\" class=\"colab-df-container\">\n",
              "    <div>\n",
              "<style scoped>\n",
              "    .dataframe tbody tr th:only-of-type {\n",
              "        vertical-align: middle;\n",
              "    }\n",
              "\n",
              "    .dataframe tbody tr th {\n",
              "        vertical-align: top;\n",
              "    }\n",
              "\n",
              "    .dataframe thead th {\n",
              "        text-align: right;\n",
              "    }\n",
              "</style>\n",
              "<table border=\"1\" class=\"dataframe\">\n",
              "  <thead>\n",
              "    <tr style=\"text-align: right;\">\n",
              "      <th></th>\n",
              "      <th>RowNumber</th>\n",
              "      <th>CustomerId</th>\n",
              "      <th>CreditScore</th>\n",
              "      <th>Age</th>\n",
              "      <th>Tenure</th>\n",
              "      <th>Balance</th>\n",
              "      <th>NumOfProducts</th>\n",
              "      <th>HasCrCard</th>\n",
              "      <th>IsActiveMember</th>\n",
              "      <th>EstimatedSalary</th>\n",
              "      <th>Exited</th>\n",
              "    </tr>\n",
              "  </thead>\n",
              "  <tbody>\n",
              "    <tr>\n",
              "      <th>count</th>\n",
              "      <td>10000.00000</td>\n",
              "      <td>1.000000e+04</td>\n",
              "      <td>10000.000000</td>\n",
              "      <td>10000.000000</td>\n",
              "      <td>10000.000000</td>\n",
              "      <td>10000.000000</td>\n",
              "      <td>10000.000000</td>\n",
              "      <td>10000.00000</td>\n",
              "      <td>10000.000000</td>\n",
              "      <td>10000.000000</td>\n",
              "      <td>10000.000000</td>\n",
              "    </tr>\n",
              "    <tr>\n",
              "      <th>mean</th>\n",
              "      <td>5000.50000</td>\n",
              "      <td>1.569094e+07</td>\n",
              "      <td>650.528800</td>\n",
              "      <td>38.921800</td>\n",
              "      <td>5.012800</td>\n",
              "      <td>76485.889288</td>\n",
              "      <td>1.530200</td>\n",
              "      <td>0.70550</td>\n",
              "      <td>0.515100</td>\n",
              "      <td>100090.239881</td>\n",
              "      <td>0.203700</td>\n",
              "    </tr>\n",
              "    <tr>\n",
              "      <th>std</th>\n",
              "      <td>2886.89568</td>\n",
              "      <td>7.193619e+04</td>\n",
              "      <td>96.653299</td>\n",
              "      <td>10.487806</td>\n",
              "      <td>2.892174</td>\n",
              "      <td>62397.405202</td>\n",
              "      <td>0.581654</td>\n",
              "      <td>0.45584</td>\n",
              "      <td>0.499797</td>\n",
              "      <td>57510.492818</td>\n",
              "      <td>0.402769</td>\n",
              "    </tr>\n",
              "    <tr>\n",
              "      <th>min</th>\n",
              "      <td>1.00000</td>\n",
              "      <td>1.556570e+07</td>\n",
              "      <td>350.000000</td>\n",
              "      <td>18.000000</td>\n",
              "      <td>0.000000</td>\n",
              "      <td>0.000000</td>\n",
              "      <td>1.000000</td>\n",
              "      <td>0.00000</td>\n",
              "      <td>0.000000</td>\n",
              "      <td>11.580000</td>\n",
              "      <td>0.000000</td>\n",
              "    </tr>\n",
              "    <tr>\n",
              "      <th>25%</th>\n",
              "      <td>2500.75000</td>\n",
              "      <td>1.562853e+07</td>\n",
              "      <td>584.000000</td>\n",
              "      <td>32.000000</td>\n",
              "      <td>3.000000</td>\n",
              "      <td>0.000000</td>\n",
              "      <td>1.000000</td>\n",
              "      <td>0.00000</td>\n",
              "      <td>0.000000</td>\n",
              "      <td>51002.110000</td>\n",
              "      <td>0.000000</td>\n",
              "    </tr>\n",
              "    <tr>\n",
              "      <th>50%</th>\n",
              "      <td>5000.50000</td>\n",
              "      <td>1.569074e+07</td>\n",
              "      <td>652.000000</td>\n",
              "      <td>37.000000</td>\n",
              "      <td>5.000000</td>\n",
              "      <td>97198.540000</td>\n",
              "      <td>1.000000</td>\n",
              "      <td>1.00000</td>\n",
              "      <td>1.000000</td>\n",
              "      <td>100193.915000</td>\n",
              "      <td>0.000000</td>\n",
              "    </tr>\n",
              "    <tr>\n",
              "      <th>75%</th>\n",
              "      <td>7500.25000</td>\n",
              "      <td>1.575323e+07</td>\n",
              "      <td>718.000000</td>\n",
              "      <td>44.000000</td>\n",
              "      <td>7.000000</td>\n",
              "      <td>127644.240000</td>\n",
              "      <td>2.000000</td>\n",
              "      <td>1.00000</td>\n",
              "      <td>1.000000</td>\n",
              "      <td>149388.247500</td>\n",
              "      <td>0.000000</td>\n",
              "    </tr>\n",
              "    <tr>\n",
              "      <th>max</th>\n",
              "      <td>10000.00000</td>\n",
              "      <td>1.581569e+07</td>\n",
              "      <td>850.000000</td>\n",
              "      <td>92.000000</td>\n",
              "      <td>10.000000</td>\n",
              "      <td>250898.090000</td>\n",
              "      <td>4.000000</td>\n",
              "      <td>1.00000</td>\n",
              "      <td>1.000000</td>\n",
              "      <td>199992.480000</td>\n",
              "      <td>1.000000</td>\n",
              "    </tr>\n",
              "  </tbody>\n",
              "</table>\n",
              "</div>\n",
              "    <div class=\"colab-df-buttons\">\n",
              "\n",
              "  <div class=\"colab-df-container\">\n",
              "    <button class=\"colab-df-convert\" onclick=\"convertToInteractive('df-3d267154-5127-4241-9176-f1f971ba1932')\"\n",
              "            title=\"Convert this dataframe to an interactive table.\"\n",
              "            style=\"display:none;\">\n",
              "\n",
              "  <svg xmlns=\"http://www.w3.org/2000/svg\" height=\"24px\" viewBox=\"0 -960 960 960\">\n",
              "    <path d=\"M120-120v-720h720v720H120Zm60-500h600v-160H180v160Zm220 220h160v-160H400v160Zm0 220h160v-160H400v160ZM180-400h160v-160H180v160Zm440 0h160v-160H620v160ZM180-180h160v-160H180v160Zm440 0h160v-160H620v160Z\"/>\n",
              "  </svg>\n",
              "    </button>\n",
              "\n",
              "  <style>\n",
              "    .colab-df-container {\n",
              "      display:flex;\n",
              "      gap: 12px;\n",
              "    }\n",
              "\n",
              "    .colab-df-convert {\n",
              "      background-color: #E8F0FE;\n",
              "      border: none;\n",
              "      border-radius: 50%;\n",
              "      cursor: pointer;\n",
              "      display: none;\n",
              "      fill: #1967D2;\n",
              "      height: 32px;\n",
              "      padding: 0 0 0 0;\n",
              "      width: 32px;\n",
              "    }\n",
              "\n",
              "    .colab-df-convert:hover {\n",
              "      background-color: #E2EBFA;\n",
              "      box-shadow: 0px 1px 2px rgba(60, 64, 67, 0.3), 0px 1px 3px 1px rgba(60, 64, 67, 0.15);\n",
              "      fill: #174EA6;\n",
              "    }\n",
              "\n",
              "    .colab-df-buttons div {\n",
              "      margin-bottom: 4px;\n",
              "    }\n",
              "\n",
              "    [theme=dark] .colab-df-convert {\n",
              "      background-color: #3B4455;\n",
              "      fill: #D2E3FC;\n",
              "    }\n",
              "\n",
              "    [theme=dark] .colab-df-convert:hover {\n",
              "      background-color: #434B5C;\n",
              "      box-shadow: 0px 1px 3px 1px rgba(0, 0, 0, 0.15);\n",
              "      filter: drop-shadow(0px 1px 2px rgba(0, 0, 0, 0.3));\n",
              "      fill: #FFFFFF;\n",
              "    }\n",
              "  </style>\n",
              "\n",
              "    <script>\n",
              "      const buttonEl =\n",
              "        document.querySelector('#df-3d267154-5127-4241-9176-f1f971ba1932 button.colab-df-convert');\n",
              "      buttonEl.style.display =\n",
              "        google.colab.kernel.accessAllowed ? 'block' : 'none';\n",
              "\n",
              "      async function convertToInteractive(key) {\n",
              "        const element = document.querySelector('#df-3d267154-5127-4241-9176-f1f971ba1932');\n",
              "        const dataTable =\n",
              "          await google.colab.kernel.invokeFunction('convertToInteractive',\n",
              "                                                    [key], {});\n",
              "        if (!dataTable) return;\n",
              "\n",
              "        const docLinkHtml = 'Like what you see? Visit the ' +\n",
              "          '<a target=\"_blank\" href=https://colab.research.google.com/notebooks/data_table.ipynb>data table notebook</a>'\n",
              "          + ' to learn more about interactive tables.';\n",
              "        element.innerHTML = '';\n",
              "        dataTable['output_type'] = 'display_data';\n",
              "        await google.colab.output.renderOutput(dataTable, element);\n",
              "        const docLink = document.createElement('div');\n",
              "        docLink.innerHTML = docLinkHtml;\n",
              "        element.appendChild(docLink);\n",
              "      }\n",
              "    </script>\n",
              "  </div>\n",
              "\n",
              "\n",
              "    <div id=\"df-a5f2cb44-b050-47ba-8619-72e8d8751ea6\">\n",
              "      <button class=\"colab-df-quickchart\" onclick=\"quickchart('df-a5f2cb44-b050-47ba-8619-72e8d8751ea6')\"\n",
              "                title=\"Suggest charts\"\n",
              "                style=\"display:none;\">\n",
              "\n",
              "<svg xmlns=\"http://www.w3.org/2000/svg\" height=\"24px\"viewBox=\"0 0 24 24\"\n",
              "     width=\"24px\">\n",
              "    <g>\n",
              "        <path d=\"M19 3H5c-1.1 0-2 .9-2 2v14c0 1.1.9 2 2 2h14c1.1 0 2-.9 2-2V5c0-1.1-.9-2-2-2zM9 17H7v-7h2v7zm4 0h-2V7h2v10zm4 0h-2v-4h2v4z\"/>\n",
              "    </g>\n",
              "</svg>\n",
              "      </button>\n",
              "\n",
              "<style>\n",
              "  .colab-df-quickchart {\n",
              "      --bg-color: #E8F0FE;\n",
              "      --fill-color: #1967D2;\n",
              "      --hover-bg-color: #E2EBFA;\n",
              "      --hover-fill-color: #174EA6;\n",
              "      --disabled-fill-color: #AAA;\n",
              "      --disabled-bg-color: #DDD;\n",
              "  }\n",
              "\n",
              "  [theme=dark] .colab-df-quickchart {\n",
              "      --bg-color: #3B4455;\n",
              "      --fill-color: #D2E3FC;\n",
              "      --hover-bg-color: #434B5C;\n",
              "      --hover-fill-color: #FFFFFF;\n",
              "      --disabled-bg-color: #3B4455;\n",
              "      --disabled-fill-color: #666;\n",
              "  }\n",
              "\n",
              "  .colab-df-quickchart {\n",
              "    background-color: var(--bg-color);\n",
              "    border: none;\n",
              "    border-radius: 50%;\n",
              "    cursor: pointer;\n",
              "    display: none;\n",
              "    fill: var(--fill-color);\n",
              "    height: 32px;\n",
              "    padding: 0;\n",
              "    width: 32px;\n",
              "  }\n",
              "\n",
              "  .colab-df-quickchart:hover {\n",
              "    background-color: var(--hover-bg-color);\n",
              "    box-shadow: 0 1px 2px rgba(60, 64, 67, 0.3), 0 1px 3px 1px rgba(60, 64, 67, 0.15);\n",
              "    fill: var(--button-hover-fill-color);\n",
              "  }\n",
              "\n",
              "  .colab-df-quickchart-complete:disabled,\n",
              "  .colab-df-quickchart-complete:disabled:hover {\n",
              "    background-color: var(--disabled-bg-color);\n",
              "    fill: var(--disabled-fill-color);\n",
              "    box-shadow: none;\n",
              "  }\n",
              "\n",
              "  .colab-df-spinner {\n",
              "    border: 2px solid var(--fill-color);\n",
              "    border-color: transparent;\n",
              "    border-bottom-color: var(--fill-color);\n",
              "    animation:\n",
              "      spin 1s steps(1) infinite;\n",
              "  }\n",
              "\n",
              "  @keyframes spin {\n",
              "    0% {\n",
              "      border-color: transparent;\n",
              "      border-bottom-color: var(--fill-color);\n",
              "      border-left-color: var(--fill-color);\n",
              "    }\n",
              "    20% {\n",
              "      border-color: transparent;\n",
              "      border-left-color: var(--fill-color);\n",
              "      border-top-color: var(--fill-color);\n",
              "    }\n",
              "    30% {\n",
              "      border-color: transparent;\n",
              "      border-left-color: var(--fill-color);\n",
              "      border-top-color: var(--fill-color);\n",
              "      border-right-color: var(--fill-color);\n",
              "    }\n",
              "    40% {\n",
              "      border-color: transparent;\n",
              "      border-right-color: var(--fill-color);\n",
              "      border-top-color: var(--fill-color);\n",
              "    }\n",
              "    60% {\n",
              "      border-color: transparent;\n",
              "      border-right-color: var(--fill-color);\n",
              "    }\n",
              "    80% {\n",
              "      border-color: transparent;\n",
              "      border-right-color: var(--fill-color);\n",
              "      border-bottom-color: var(--fill-color);\n",
              "    }\n",
              "    90% {\n",
              "      border-color: transparent;\n",
              "      border-bottom-color: var(--fill-color);\n",
              "    }\n",
              "  }\n",
              "</style>\n",
              "\n",
              "      <script>\n",
              "        async function quickchart(key) {\n",
              "          const quickchartButtonEl =\n",
              "            document.querySelector('#' + key + ' button');\n",
              "          quickchartButtonEl.disabled = true;  // To prevent multiple clicks.\n",
              "          quickchartButtonEl.classList.add('colab-df-spinner');\n",
              "          try {\n",
              "            const charts = await google.colab.kernel.invokeFunction(\n",
              "                'suggestCharts', [key], {});\n",
              "          } catch (error) {\n",
              "            console.error('Error during call to suggestCharts:', error);\n",
              "          }\n",
              "          quickchartButtonEl.classList.remove('colab-df-spinner');\n",
              "          quickchartButtonEl.classList.add('colab-df-quickchart-complete');\n",
              "        }\n",
              "        (() => {\n",
              "          let quickchartButtonEl =\n",
              "            document.querySelector('#df-a5f2cb44-b050-47ba-8619-72e8d8751ea6 button');\n",
              "          quickchartButtonEl.style.display =\n",
              "            google.colab.kernel.accessAllowed ? 'block' : 'none';\n",
              "        })();\n",
              "      </script>\n",
              "    </div>\n",
              "\n",
              "    </div>\n",
              "  </div>\n"
            ],
            "application/vnd.google.colaboratory.intrinsic+json": {
              "type": "dataframe",
              "summary": "{\n  \"name\": \"# its gives a strong understanding of whole dataset\",\n  \"rows\": 8,\n  \"fields\": [\n    {\n      \"column\": \"RowNumber\",\n      \"properties\": {\n        \"dtype\": \"number\",\n        \"std\": 3603.743586536124,\n        \"min\": 1.0,\n        \"max\": 10000.0,\n        \"num_unique_values\": 6,\n        \"samples\": [\n          10000.0,\n          5000.5,\n          7500.25\n        ],\n        \"semantic_type\": \"\",\n        \"description\": \"\"\n      }\n    },\n    {\n      \"column\": \"CustomerId\",\n      \"properties\": {\n        \"dtype\": \"number\",\n        \"std\": 7244870.561655487,\n        \"min\": 10000.0,\n        \"max\": 15815690.0,\n        \"num_unique_values\": 8,\n        \"samples\": [\n          15690940.5694,\n          15690738.0,\n          10000.0\n        ],\n        \"semantic_type\": \"\",\n        \"description\": \"\"\n      }\n    },\n    {\n      \"column\": \"CreditScore\",\n      \"properties\": {\n        \"dtype\": \"number\",\n        \"std\": 3346.722396870626,\n        \"min\": 96.65329873613061,\n        \"max\": 10000.0,\n        \"num_unique_values\": 8,\n        \"samples\": [\n          650.5288,\n          652.0,\n          10000.0\n        ],\n        \"semantic_type\": \"\",\n        \"description\": \"\"\n      }\n    },\n    {\n      \"column\": \"Age\",\n      \"properties\": {\n        \"dtype\": \"number\",\n        \"std\": 3521.859127755016,\n        \"min\": 10.487806451704591,\n        \"max\": 10000.0,\n        \"num_unique_values\": 8,\n        \"samples\": [\n          38.9218,\n          37.0,\n          10000.0\n        ],\n        \"semantic_type\": \"\",\n        \"description\": \"\"\n      }\n    },\n    {\n      \"column\": \"Tenure\",\n      \"properties\": {\n        \"dtype\": \"number\",\n        \"std\": 3533.873203213367,\n        \"min\": 0.0,\n        \"max\": 10000.0,\n        \"num_unique_values\": 8,\n        \"samples\": [\n          5.0128,\n          5.0,\n          10000.0\n        ],\n        \"semantic_type\": \"\",\n        \"description\": \"\"\n      }\n    },\n    {\n      \"column\": \"Balance\",\n      \"properties\": {\n        \"dtype\": \"number\",\n        \"std\": 84316.21503683121,\n        \"min\": 0.0,\n        \"max\": 250898.09,\n        \"num_unique_values\": 7,\n        \"samples\": [\n          10000.0,\n          76485.889288,\n          127644.24\n        ],\n        \"semantic_type\": \"\",\n        \"description\": \"\"\n      }\n    },\n    {\n      \"column\": \"NumOfProducts\",\n      \"properties\": {\n        \"dtype\": \"number\",\n        \"std\": 3534.972835009293,\n        \"min\": 0.5816543579989936,\n        \"max\": 10000.0,\n        \"num_unique_values\": 6,\n        \"samples\": [\n          10000.0,\n          1.5302,\n          4.0\n        ],\n        \"semantic_type\": \"\",\n        \"description\": \"\"\n      }\n    },\n    {\n      \"column\": \"HasCrCard\",\n      \"properties\": {\n        \"dtype\": \"number\",\n        \"std\": 3535.323751385342,\n        \"min\": 0.0,\n        \"max\": 10000.0,\n        \"num_unique_values\": 5,\n        \"samples\": [\n          0.7055,\n          1.0,\n          0.45584046447514237\n        ],\n        \"semantic_type\": \"\",\n        \"description\": \"\"\n      }\n    },\n    {\n      \"column\": \"IsActiveMember\",\n      \"properties\": {\n        \"dtype\": \"number\",\n        \"std\": 3535.33114750997,\n        \"min\": 0.0,\n        \"max\": 10000.0,\n        \"num_unique_values\": 5,\n        \"samples\": [\n          0.5151,\n          1.0,\n          0.4997969284589202\n        ],\n        \"semantic_type\": \"\",\n        \"description\": \"\"\n      }\n    },\n    {\n      \"column\": \"EstimatedSalary\",\n      \"properties\": {\n        \"dtype\": \"number\",\n        \"std\": 68211.65700170657,\n        \"min\": 11.58,\n        \"max\": 199992.48,\n        \"num_unique_values\": 8,\n        \"samples\": [\n          100090.239881,\n          100193.915,\n          10000.0\n        ],\n        \"semantic_type\": \"\",\n        \"description\": \"\"\n      }\n    },\n    {\n      \"column\": \"Exited\",\n      \"properties\": {\n        \"dtype\": \"number\",\n        \"std\": 3535.452783887065,\n        \"min\": 0.0,\n        \"max\": 10000.0,\n        \"num_unique_values\": 5,\n        \"samples\": [\n          0.2037,\n          1.0,\n          0.40276858399484955\n        ],\n        \"semantic_type\": \"\",\n        \"description\": \"\"\n      }\n    }\n  ]\n}"
            }
          },
          "metadata": {},
          "execution_count": 10
        }
      ],
      "execution_count": 10
    },
    {
      "cell_type": "code",
      "source": [
        "\n",
        "             # Age\n",
        "\n",
        "# mean is      38\n",
        "# max age is   92\n",
        "# min age is   18\n",
        "\n",
        "\n",
        "\n",
        "           # credit score\n",
        "\n",
        "# mean     credit card score is 650\n",
        "# min      credit card score is  350\n",
        "# max 850  credit card score is 850\n",
        "\n",
        "\n",
        "\n",
        "\n",
        "          # Balance\n",
        "\n",
        "# mean balance is  76485\n",
        "# min balance is   0.000000\n",
        "# max balance is   250898.0\n",
        "\n",
        "\n",
        "\n",
        "          # estimated salary\n",
        "\n",
        "# mean estimated salary   is   100090.239881\n",
        "# min  estimated salary   is    11.580000\n",
        "# max   estimated salary  is    199992.480000"
      ],
      "metadata": {
        "trusted": true,
        "id": "M-tfv0w5xX9I"
      },
      "outputs": [],
      "execution_count": 11
    },
    {
      "cell_type": "markdown",
      "source": [
        "**customer relation with credit card**"
      ],
      "metadata": {
        "id": "Y2W0kkIufAWx"
      }
    },
    {
      "cell_type": "code",
      "source": [
        "\n",
        "\n",
        "# Value counts\n",
        "counts = v['CreditScore'].value_counts()\n",
        "\n",
        "# Pie chart\n",
        "import pandas as pd\n",
        "import matplotlib.pyplot as plt\n",
        "import seaborn as sns\n",
        "\n",
        "# Define credit score ranges\n",
        "bins = [300, 500, 700, 900]  # standard credit score bins\n",
        "labels = ['300-500', '500-700', '700-900']\n",
        "\n",
        "# Create range column\n",
        "v['CreditScoreRange'] = pd.cut(v['CreditScore'], bins=bins, labels=labels, right=False)\n",
        "\n",
        "# Count per range\n",
        "counts = v['CreditScoreRange'].value_counts().sort_index()\n",
        "\n",
        "# Pie chart\n",
        "plt.figure(figsize=(6,6))\n",
        "colors = sns.color_palette(\"Set2\", len(counts))\n",
        "plt.pie(\n",
        "    counts,\n",
        "    labels=counts.index,\n",
        "    autopct='%1.1f%%',\n",
        "    startangle=90,\n",
        "    colors=colors,\n",
        "    explode=[0.05]*len(counts),\n",
        "    shadow=True,\n",
        "    textprops={'fontsize':12, 'fontweight':'bold'}\n",
        ")\n",
        "plt.title('Credit Score Range Distribution', fontsize=16, fontweight='bold')\n",
        "plt.show()\n",
        "\n",
        "# Print exact percentages\n",
        "percentages = counts / counts.sum() * 100\n",
        "print(percentages)\n",
        "\n",
        "# can see 62 % percent peoples  credit card score lies at 500 to 700 .\n",
        "# 31 percent  peoples  credit card score lies at 700 to 900\n",
        "#  omly lesser t than 1 percent people score is between 300 too 500..."
      ],
      "metadata": {
        "id": "TUWKCavT6Cvo",
        "colab": {
          "base_uri": "https://localhost:8080/",
          "height": 612
        },
        "outputId": "65f1c697-7705-40d3-b250-dd523190b50c"
      },
      "execution_count": 12,
      "outputs": [
        {
          "output_type": "display_data",
          "data": {
            "text/plain": [
              "<Figure size 600x600 with 1 Axes>"
            ],
            "image/png": "[encoded data removed]"
          },
          "metadata": {}
        },
        {
          "output_type": "stream",
          "name": "stdout",
          "text": [
            "CreditScoreRange\n",
            "300-500     6.32\n",
            "500-700    62.20\n",
            "700-900    31.48\n",
            "Name: count, dtype: float64\n"
          ]
        }
      ]
    },
    {
      "cell_type": "markdown",
      "source": [
        "**conclusion** : majority of the people have good credit card score ..."
      ],
      "metadata": {
        "id": "sTxqOWeF6yxJ"
      }
    },
    {
      "cell_type": "markdown",
      "source": [
        "**customer relation with  Balance**"
      ],
      "metadata": {
        "id": "wKRqKi3rgO8y"
      }
    },
    {
      "cell_type": "code",
      "source": [
        "\n",
        "\n",
        "# Adjusted bins\n",
        "bins = [0, 10000 , 50000, 100000, 150000 , 350000]  # 3L+ upper limit covers 26 lakh\n",
        "labels = ['0-10k', '10k-50k', '50k-1L', '1L-1.5L', '1.5L+ 3L']\n",
        "\n",
        "# Create range column\n",
        "v['BalanceRange'] = pd.cut(v['Balance'], bins=bins, labels=labels, right=False)\n",
        "\n",
        "# Count per range\n",
        "balance_counts = v['BalanceRange'].value_counts().sort_index()\n",
        "print(balance_counts)\n",
        "\n"
      ],
      "metadata": {
        "id": "GKjhihkx8nRI",
        "colab": {
          "base_uri": "https://localhost:8080/"
        },
        "outputId": "65c407f7-41f7-4f9f-ca41-ed9888e43b30"
      },
      "execution_count": 13,
      "outputs": [
        {
          "output_type": "stream",
          "name": "stdout",
          "text": [
            "BalanceRange\n",
            "0-10k       3618\n",
            "10k-50k       74\n",
            "50k-1L      1509\n",
            "1L-1.5L     3830\n",
            "1.5L+ 3L     969\n",
            "Name: count, dtype: int64\n"
          ]
        }
      ]
    },
    {
      "cell_type": "code",
      "source": [
        "\n",
        "\n",
        "# Pie chart for BalanceRange\n",
        "plt.figure(figsize=(8,8))\n",
        "balance_counts = v['BalanceRange'].value_counts().sort_index()\n",
        "\n",
        "wedges, texts, autotexts = plt.pie(\n",
        "    balance_counts,\n",
        "    labels=balance_counts.index,\n",
        "    autopct='%1.1f%%',\n",
        "    startangle=90,\n",
        "    explode=[0.05]*len(balance_counts),\n",
        "    pctdistance=0.85,\n",
        "    textprops={'fontsize':12}\n",
        ")\n",
        "\n",
        "# Title\n",
        "plt.title('Balance Range Distribution', fontsize=15)\n",
        "\n",
        "# Better label alignment\n",
        "for t in texts:\n",
        "    t.set_horizontalalignment('right')\n",
        "\n",
        "plt.show()\n"
      ],
      "metadata": {
        "id": "3orNnUr9_7k4",
        "colab": {
          "base_uri": "https://localhost:8080/",
          "height": 677
        },
        "outputId": "87a5ccc6-8bdc-4899-a177-1d27fdc9b02b"
      },
      "execution_count": 14,
      "outputs": [
        {
          "output_type": "display_data",
          "data": {
            "text/plain": [
              "<Figure size 800x800 with 1 Axes>"
            ],
            "image/png": "[encoded data removed]"
          },
          "metadata": {}
        }
      ]
    },
    {
      "cell_type": "code",
      "source": [
        "plt.figure(figsize=(10,5))\n",
        "plt.plot(sorted(v['Balance']), color='green', linewidth=2)\n",
        "plt.title('Sorted Balance Distribution', fontsize=15)\n",
        "plt.xlabel('Customers (sorted)')\n",
        "plt.ylabel('Balance (₹)')\n",
        "plt.grid(True)\n",
        "plt.show()\n"
      ],
      "metadata": {
        "id": "lJCo6mWjAWOU",
        "colab": {
          "base_uri": "https://localhost:8080/",
          "height": 361
        },
        "outputId": "acbda582-dc75-4c33-e564-49cb50d801a2"
      },
      "execution_count": 15,
      "outputs": [
        {
          "output_type": "display_data",
          "data": {
            "text/plain": [
              "<Figure size 1000x500 with 1 Axes>"
            ],
            "image/png": "[encoded data removed]"
          },
          "metadata": {}
        }
      ]
    },
    {
      "cell_type": "markdown",
      "source": [
        "**conlusion**\n",
        "\n",
        "\n",
        "             from inline graph we can see that from out of 10k customers ....\n",
        "             6k customers  have more than 50k\n",
        "             balance..\n",
        "\n",
        "\n",
        "             from pie chart we can say that\n",
        "             more than 50 perecent people\n",
        "             have more than 50k balance\n",
        "\n",
        "\n",
        "        "
      ],
      "metadata": {
        "id": "PHkyVsZUBOZt"
      }
    },
    {
      "cell_type": "markdown",
      "source": [
        "**customer - Age relation**"
      ],
      "metadata": {
        "id": "qRH8E5HfgliA"
      }
    },
    {
      "cell_type": "code",
      "source": [
        "\n",
        "# Set clean style\n",
        "sns.set_theme(style=\"whitegrid\")\n",
        "\n",
        "plt.figure(figsize=(10,6))\n",
        "\n",
        "# Plot kde + histogram normalized to percentage\n",
        "sns.histplot(\n",
        "    data=v,\n",
        "    x='Age',\n",
        "    bins=20,\n",
        "    kde=True,\n",
        "    stat='percent',\n",
        "    color=\"#4C72B0\",\n",
        "    alpha=0.9,\n",
        "    linewidth=1.2\n",
        ")\n",
        "\n",
        "# Labels and title\n",
        "plt.title(\"Age Distribution (in %)\", fontsize=18, fontweight='bold', pad=15)\n",
        "plt.xlabel(\"Age (Years)\", fontsize=13)\n",
        "plt.ylabel(\"Percentage of Customers (%)\", fontsize=13)\n",
        "\n",
        "# Clean styling\n",
        "sns.despine()\n",
        "plt.grid(alpha=0.3)\n",
        "plt.tight_layout()\n",
        "plt.show()\n"
      ],
      "metadata": {
        "id": "oOjYPuMuGBVq",
        "colab": {
          "base_uri": "https://localhost:8080/",
          "height": 396
        },
        "outputId": "a2db60be-68c1-4297-dfe8-ee87a3c44aa4"
      },
      "execution_count": 16,
      "outputs": [
        {
          "output_type": "display_data",
          "data": {
            "text/plain": [
              "<Figure size 1000x600 with 1 Axes>"
            ],
            "image/png": "[encoded data removed]"
          },
          "metadata": {}
        }
      ]
    },
    {
      "cell_type": "code",
      "source": [
        "\n",
        "\n",
        "# Define bins (adjust according to your dataset)\n",
        "bins = [0, 20, 30, 40, 50, 60, 70, 100]\n",
        "labels = ['<20', '20-30', '30-40', '40-50', '50-60', '60-70', '70+']\n",
        "\n",
        "# Create AgeRange column\n",
        "v['AgeRange'] = pd.cut(v['Age'], bins=bins, labels=labels, right=False)\n"
      ],
      "metadata": {
        "id": "ZenPVY4S0MP6"
      },
      "execution_count": 17,
      "outputs": []
    },
    {
      "cell_type": "code",
      "source": [
        "# Count per age range\n",
        "age_counts = v['AgeRange'].value_counts().sort_index()\n",
        "\n",
        "# Bright color palette\n",
        "colors = sns.color_palette(\"bright\", len(age_counts))\n",
        "\n",
        "# Figure setup\n",
        "plt.figure(figsize=(6,6))\n",
        "\n",
        "# Pie chart with donut style\n",
        "wedges, texts, autotexts = plt.pie(\n",
        "    age_counts,\n",
        "    labels=age_counts.index,\n",
        "    autopct='%1.1f%%',\n",
        "    startangle=90,\n",
        "    explode=[0.05]*len(age_counts),\n",
        "    colors=colors,\n",
        "    pctdistance=0.8,\n",
        "    textprops={'fontsize':12, 'color':'#000'},\n",
        "    wedgeprops={'edgecolor':'white', 'linewidth':2},\n",
        "    shadow=True\n",
        ")\n",
        "\n",
        "# Donut hole\n",
        "centre_circle = plt.Circle((0,0),0.6,fc='white')\n",
        "fig = plt.gcf()\n",
        "fig.gca().add_artist(centre_circle)\n",
        "\n",
        "# Bold percentage text with black for contrast\n",
        "for a in autotexts:\n",
        "    a.set_fontsize(12)\n",
        "    a.set_color('black')\n",
        "    a.set_fontweight('bold')\n",
        "\n",
        "# Title\n",
        "plt.title(\"Age Distribution (in %)', fontsize=18, fontweight='bold', pad=20, color='#222\")\n",
        "\n",
        "# Layout and show\n",
        "plt.tight_layout()\n",
        "plt.show()\n"
      ],
      "metadata": {
        "id": "o_WVLvBnKJV6",
        "colab": {
          "base_uri": "https://localhost:8080/",
          "height": 565
        },
        "outputId": "b584018c-38e3-4c8b-b544-7e8e53f43eb0"
      },
      "execution_count": 18,
      "outputs": [
        {
          "output_type": "display_data",
          "data": {
            "text/plain": [
              "<Figure size 600x600 with 1 Axes>"
            ],
            "image/png": "[encoded data removed]"
          },
          "metadata": {}
        }
      ]
    },
    {
      "cell_type": "markdown",
      "source": [
        "**conclusion**\n",
        "\n",
        "                60 percent customres are between the age of 30 to 45 .\n",
        "\n",
        "    "
      ],
      "metadata": {
        "id": "Ia7-Dv7YKni8"
      }
    },
    {
      "cell_type": "markdown",
      "source": [
        "**customer relation with  is active**"
      ],
      "metadata": {
        "id": "GqXxjrL0gv61"
      }
    },
    {
      "cell_type": "code",
      "source": [
        "\n",
        "\n",
        "# Count of active/inactive members\n",
        "member_counts = v['IsActiveMember'].value_counts()\n",
        "\n",
        "# Colors\n",
        "colors = sns.color_palette(\"Set2\", len(member_counts))\n",
        "\n",
        "# Pie chart\n",
        "plt.figure(figsize=(7,7))\n",
        "plt.pie(\n",
        "    member_counts,\n",
        "    labels=['Inactive','Active'],  # 0 = Inactive, 1 = Active\n",
        "    autopct='%1.1f%%',\n",
        "    startangle=90,\n",
        "    explode=[0.05,0.05],\n",
        "    colors=colors,\n",
        "    shadow=True,\n",
        "    textprops={'fontsize':12, 'fontweight':'bold'}\n",
        ")\n",
        "\n",
        "plt.title('Active vs Inactive Members', fontsize=16, fontweight='bold')\n",
        "plt.show()\n"
      ],
      "metadata": {
        "id": "SdEbf-zeezTr",
        "colab": {
          "base_uri": "https://localhost:8080/",
          "height": 591
        },
        "outputId": "4e0139fb-7742-46ba-a879-dfca5c4b2631"
      },
      "execution_count": 19,
      "outputs": [
        {
          "output_type": "display_data",
          "data": {
            "text/plain": [
              "<Figure size 700x700 with 1 Axes>"
            ],
            "image/png": "[encoded data removed]"
          },
          "metadata": {}
        }
      ]
    },
    {
      "cell_type": "markdown",
      "source": [
        "**conclusion**\n",
        "\n",
        "          almost 50 percent active\n",
        "          member in bank and 50 percent\n",
        "          inactive     \n"
      ],
      "metadata": {
        "id": "J4QMtmSUg2_K"
      }
    },
    {
      "cell_type": "code",
      "source": [
        "\n",
        "\n",
        "# Adjusted bins according to max 2L\n",
        "bins = [0, 50000, 100000, 150000, 200000]  # last bin covers max value\n",
        "labels = ['0-50k', '50k-1L', '1L-1.5L', '1.5L-2L']\n",
        "\n",
        "# Create salary range column\n",
        "v['SalaryRange'] = pd.cut(v['EstimatedSalary'], bins=bins, labels=labels, right=False)\n",
        "\n",
        "# Count per range\n",
        "salary_counts = v['SalaryRange'].value_counts().sort_index()\n",
        "\n",
        "# Pie chart\n",
        "plt.figure(figsize=(8,8))\n",
        "colors = sns.color_palette(\"Set3\", len(salary_counts))\n",
        "plt.pie(\n",
        "    salary_counts,\n",
        "    labels=salary_counts.index,\n",
        "    autopct='%1.1f%%',\n",
        "    startangle=90,\n",
        "    explode=[0.05]*len(salary_counts),\n",
        "    colors=colors,\n",
        "    shadow=True,\n",
        "    textprops={'fontsize':12, 'fontweight':'bold'}\n",
        ")\n",
        "\n",
        "plt.title('Estimated Salary Distribution (up to 2L)', fontsize=16, fontweight='bold')\n",
        "plt.show()\n"
      ],
      "metadata": {
        "id": "Lu_iOe0FiFd8",
        "colab": {
          "base_uri": "https://localhost:8080/",
          "height": 677
        },
        "outputId": "47e88521-ca61-435e-8b2d-47bd17769c78"
      },
      "execution_count": 20,
      "outputs": [
        {
          "output_type": "display_data",
          "data": {
            "text/plain": [
              "<Figure size 800x800 with 1 Axes>"
            ],
            "image/png": "[encoded data removed]"
          },
          "metadata": {}
        }
      ]
    },
    {
      "cell_type": "code",
      "source": [
        "plt.figure(figsize=(7,5))\n",
        "plt.plot(sorted(v['EstimatedSalary']), color='green', linewidth=2)\n",
        "plt.title(\"Estimated Salary Trend (sorted)\", fontsize=16, fontweight='bold')\n",
        "plt.xlabel(\"Customers (sorted)\", fontsize=13)\n",
        "plt.ylabel(\"Estimated Salary (₹)\", fontsize=13)\n",
        "plt.grid(True, alpha=0.3)\n",
        "plt.tight_layout()\n",
        "plt.show()\n"
      ],
      "metadata": {
        "id": "JL_cnp47jkd4",
        "colab": {
          "base_uri": "https://localhost:8080/",
          "height": 469
        },
        "outputId": "8809e217-81b2-400e-e761-c68c2887a0bd"
      },
      "execution_count": 21,
      "outputs": [
        {
          "output_type": "display_data",
          "data": {
            "text/plain": [
              "<Figure size 700x500 with 1 Axes>"
            ],
            "image/png": "[encoded data removed]"
          },
          "metadata": {}
        }
      ]
    },
    {
      "cell_type": "markdown",
      "source": [
        "**conclusion**\n",
        "\n",
        "          above 5.5k customer have more than 75k estimated salary."
      ],
      "metadata": {
        "id": "9mF1qwnLwxS5"
      }
    },
    {
      "cell_type": "code",
      "source": [
        "# Count of each class\n",
        "v[\"Exited\"].value_counts(normalize=True) * 100\n",
        "\n",
        "# it is perfectly example of imbalance dataset ....\n",
        "\n"
      ],
      "metadata": {
        "id": "LxTbMIu3EQ11",
        "colab": {
          "base_uri": "https://localhost:8080/",
          "height": 178
        },
        "outputId": "d0ea87b7-bc80-4d1a-d280-261aafcc52f0"
      },
      "execution_count": 22,
      "outputs": [
        {
          "output_type": "execute_result",
          "data": {
            "text/plain": [
              "Exited\n",
              "0    79.63\n",
              "1    20.37\n",
              "Name: proportion, dtype: float64"
            ],
            "text/html": [
              "<div>\n",
              "<style scoped>\n",
              "    .dataframe tbody tr th:only-of-type {\n",
              "        vertical-align: middle;\n",
              "    }\n",
              "\n",
              "    .dataframe tbody tr th {\n",
              "        vertical-align: top;\n",
              "    }\n",
              "\n",
              "    .dataframe thead th {\n",
              "        text-align: right;\n",
              "    }\n",
              "</style>\n",
              "<table border=\"1\" class=\"dataframe\">\n",
              "  <thead>\n",
              "    <tr style=\"text-align: right;\">\n",
              "      <th></th>\n",
              "      <th>proportion</th>\n",
              "    </tr>\n",
              "    <tr>\n",
              "      <th>Exited</th>\n",
              "      <th></th>\n",
              "    </tr>\n",
              "  </thead>\n",
              "  <tbody>\n",
              "    <tr>\n",
              "      <th>0</th>\n",
              "      <td>79.63</td>\n",
              "    </tr>\n",
              "    <tr>\n",
              "      <th>1</th>\n",
              "      <td>20.37</td>\n",
              "    </tr>\n",
              "  </tbody>\n",
              "</table>\n",
              "</div><br><label><b>dtype:</b> float64</label>"
            ]
          },
          "metadata": {},
          "execution_count": 22
        }
      ]
    },
    {
      "cell_type": "code",
      "source": [
        "\n",
        "# Pie chart\n",
        "v['Exited'].value_counts().plot.pie(\n",
        "    autopct='%1.1f%%',\n",
        "    colors=['#66b3ff','#ff6666'],\n",
        "    labels=['Stayed','Exited'],\n",
        "    startangle=90,\n",
        "    explode=[0.05,0.05],\n",
        "    shadow=True\n",
        ")\n",
        "plt.title('Customer Churn Distribution', fontsize=16, fontweight='bold')\n",
        "plt.ylabel('')\n",
        "plt.show()\n",
        "\n",
        "# almost 20 percent people churning the bank\n",
        "# but 80 percent people not ...\n",
        "# quite imbalanced  dataset ....."
      ],
      "metadata": {
        "colab": {
          "base_uri": "https://localhost:8080/",
          "height": 430
        },
        "id": "j5xqjHJMz35Q",
        "outputId": "6d041bf1-51fc-47c6-de48-aa2bb5e2c167"
      },
      "execution_count": 68,
      "outputs": [
        {
          "output_type": "display_data",
          "data": {
            "text/plain": [
              "<Figure size 640x480 with 1 Axes>"
            ],
            "image/png": "[encoded data removed]"
          },
          "metadata": {}
        }
      ]
    },
    {
      "cell_type": "markdown",
      "source": [
        "# Understanding Data Conclusion\n",
        "\n",
        "\n",
        "   Shape of dataset:\n",
        "\n",
        "        1. we have 10000 rows and 14 columns.     \n",
        "                \n",
        "\n",
        "\n",
        "  About customer Age :\n",
        "\n",
        "         2.  average age of customer is 38,  max age is  92.\n",
        "         min age is 21\n",
        "         \n",
        "  \n",
        "   \n",
        "\n",
        "\n",
        "  About customer credit score\n",
        "\n",
        "     3.  average  credit card score of customer is 650.\n",
        "     min credit card score is 350\n",
        "     max credit card score is 850\n",
        "\n",
        "\n",
        "  customer Bank Balance\n",
        "\n",
        "      mean balance is  76485\n",
        "      min balance is   0.000000\n",
        "      max balance is   250898.0\n",
        "\n",
        "\n",
        "  estimated salary of customer\n",
        "\n",
        "    mean estimated salary of customer  is   1 lakh\n",
        "    min  estimated salary   is just 11 rupees\n",
        "    max   estimated salary  is almost 2 lakh.\n",
        "\n",
        "     can see 62 % percent\n",
        "     peoples  credit card score\n",
        "     lies at 500 to 700\n",
        "\n",
        "\n",
        "   about customer and credit card score\n",
        "\n",
        "\n",
        "     can see 62 % percent\n",
        "     peoples  credit card score\n",
        "     lies at 500 to 700\n",
        "\n",
        "\n",
        "    31 percent  peoples  credit\n",
        "    card score lies at 700 to 900.\n",
        "\n",
        "    only lesser  than 1 percent\n",
        "    people score is between 300 too 500.\n",
        "\n",
        "\n",
        "  Understanding customer balannce\n",
        "\n",
        "         from inline graph we can see that from out of 10k           customers ....\n",
        "         6k customers  have more than 50k\n",
        "         balance..\n",
        "\n",
        "         from pie chart we can say that\n",
        "         more than 50 perecent people\n",
        "         have more than 50k balance.\n",
        "\n",
        "\n",
        "  customer age\n",
        "\n",
        "     60 percent customres are\n",
        "     between the age of 30 to 45 .\n",
        "  \n",
        "  About customer active in bank or not\n",
        "\n",
        "      almost 50 percent active\n",
        "      member in bank and 50 percent\n",
        "      inactive.\n",
        "\n",
        "  About customer salary\n",
        "\n",
        "     above 5.5k customer have more\n",
        "     than 75k estimated salary.\n",
        "\n",
        " Exited means churn\n",
        "\n",
        "     about 20 percennt people\n",
        "     are churning and rest reatain with\n",
        "     bank.\n",
        "\n",
        "  Overall data\n",
        "\n",
        "    \"this is very basic understanding about datasets which we have analysed"
      ],
      "metadata": {
        "id": "oZAv4MbLycR9"
      }
    },
    {
      "cell_type": "code",
      "source": [],
      "metadata": {
        "id": "l2KRTH9Kz6fJ"
      },
      "execution_count": 68,
      "outputs": []
    },
    {
      "cell_type": "markdown",
      "source": [
        "# cleaning the dataset"
      ],
      "metadata": {
        "id": "J5dk_uXgxtPF"
      }
    },
    {
      "cell_type": "code",
      "source": [
        "v[\"Geography\"].unique()"
      ],
      "metadata": {
        "id": "ejxrkKVVyBtC",
        "colab": {
          "base_uri": "https://localhost:8080/"
        },
        "outputId": "b7ad4d21-1f73-4333-a0dd-27daf5851241"
      },
      "execution_count": 23,
      "outputs": [
        {
          "output_type": "execute_result",
          "data": {
            "text/plain": [
              "array(['France', 'Spain', 'Germany'], dtype=object)"
            ]
          },
          "metadata": {},
          "execution_count": 23
        }
      ]
    },
    {
      "cell_type": "markdown",
      "source": [
        "**one hot encoding of geography column**"
      ],
      "metadata": {
        "id": "vZ5gCt7T21JF"
      }
    },
    {
      "cell_type": "code",
      "source": [
        "\n",
        "\n",
        "geo_dummies = pd.get_dummies(v['Geography'], drop_first=True)\n",
        "\n",
        "# Optional: convert to int\n",
        "geo_dummies = geo_dummies.astype(int)\n",
        "\n",
        "# Merge back to original dataframe\n",
        "v = pd.concat([v, geo_dummies], axis=1)\n",
        "\n",
        "# Drop original column if not needed\n",
        "v.drop('Geography', axis=1, inplace=True)\n"
      ],
      "metadata": {
        "id": "GMnZ_V1qySDR"
      },
      "execution_count": 24,
      "outputs": []
    },
    {
      "cell_type": "markdown",
      "source": [
        "**Label encoding of gender column**"
      ],
      "metadata": {
        "id": "UL0Yrd5r5D8Y"
      }
    },
    {
      "cell_type": "code",
      "source": [
        "# Binary encoding\n",
        "v['Gender'] = v['Gender'].map({'Male':1, 'Female':0})\n"
      ],
      "metadata": {
        "id": "GP6NF1lV5C2M"
      },
      "execution_count": 25,
      "outputs": []
    },
    {
      "cell_type": "code",
      "source": [
        "v.head(1)"
      ],
      "metadata": {
        "id": "jo8B0N2_0bRB",
        "colab": {
          "base_uri": "https://localhost:8080/",
          "height": 101
        },
        "outputId": "fde1f623-ceaf-4548-9336-bfdf991a7bdd"
      },
      "execution_count": 26,
      "outputs": [
        {
          "output_type": "execute_result",
          "data": {
            "text/plain": [
              "   RowNumber  CustomerId   Surname  CreditScore  Gender  Age  Tenure  Balance  \\\n",
              "0          1    15634602  Hargrave          619       0   42       2      0.0   \n",
              "\n",
              "   NumOfProducts  HasCrCard  IsActiveMember  EstimatedSalary  Exited  \\\n",
              "0              1          1               1        101348.88       1   \n",
              "\n",
              "  CreditScoreRange BalanceRange AgeRange SalaryRange  Germany  Spain  \n",
              "0          500-700        0-10k    40-50     1L-1.5L        0      0  "
            ],
            "text/html": [
              "\n",
              "  <div id=\"df-7dce08a3-f702-45e1-bc5a-aa36af190292\" class=\"colab-df-container\">\n",
              "    <div>\n",
              "<style scoped>\n",
              "    .dataframe tbody tr th:only-of-type {\n",
              "        vertical-align: middle;\n",
              "    }\n",
              "\n",
              "    .dataframe tbody tr th {\n",
              "        vertical-align: top;\n",
              "    }\n",
              "\n",
              "    .dataframe thead th {\n",
              "        text-align: right;\n",
              "    }\n",
              "</style>\n",
              "<table border=\"1\" class=\"dataframe\">\n",
              "  <thead>\n",
              "    <tr style=\"text-align: right;\">\n",
              "      <th></th>\n",
              "      <th>RowNumber</th>\n",
              "      <th>CustomerId</th>\n",
              "      <th>Surname</th>\n",
              "      <th>CreditScore</th>\n",
              "      <th>Gender</th>\n",
              "      <th>Age</th>\n",
              "      <th>Tenure</th>\n",
              "      <th>Balance</th>\n",
              "      <th>NumOfProducts</th>\n",
              "      <th>HasCrCard</th>\n",
              "      <th>IsActiveMember</th>\n",
              "      <th>EstimatedSalary</th>\n",
              "      <th>Exited</th>\n",
              "      <th>CreditScoreRange</th>\n",
              "      <th>BalanceRange</th>\n",
              "      <th>AgeRange</th>\n",
              "      <th>SalaryRange</th>\n",
              "      <th>Germany</th>\n",
              "      <th>Spain</th>\n",
              "    </tr>\n",
              "  </thead>\n",
              "  <tbody>\n",
              "    <tr>\n",
              "      <th>0</th>\n",
              "      <td>1</td>\n",
              "      <td>15634602</td>\n",
              "      <td>Hargrave</td>\n",
              "      <td>619</td>\n",
              "      <td>0</td>\n",
              "      <td>42</td>\n",
              "      <td>2</td>\n",
              "      <td>0.0</td>\n",
              "      <td>1</td>\n",
              "      <td>1</td>\n",
              "      <td>1</td>\n",
              "      <td>101348.88</td>\n",
              "      <td>1</td>\n",
              "      <td>500-700</td>\n",
              "      <td>0-10k</td>\n",
              "      <td>40-50</td>\n",
              "      <td>1L-1.5L</td>\n",
              "      <td>0</td>\n",
              "      <td>0</td>\n",
              "    </tr>\n",
              "  </tbody>\n",
              "</table>\n",
              "</div>\n",
              "    <div class=\"colab-df-buttons\">\n",
              "\n",
              "  <div class=\"colab-df-container\">\n",
              "    <button class=\"colab-df-convert\" onclick=\"convertToInteractive('df-7dce08a3-f702-45e1-bc5a-aa36af190292')\"\n",
              "            title=\"Convert this dataframe to an interactive table.\"\n",
              "            style=\"display:none;\">\n",
              "\n",
              "  <svg xmlns=\"http://www.w3.org/2000/svg\" height=\"24px\" viewBox=\"0 -960 960 960\">\n",
              "    <path d=\"M120-120v-720h720v720H120Zm60-500h600v-160H180v160Zm220 220h160v-160H400v160Zm0 220h160v-160H400v160ZM180-400h160v-160H180v160Zm440 0h160v-160H620v160ZM180-180h160v-160H180v160Zm440 0h160v-160H620v160Z\"/>\n",
              "  </svg>\n",
              "    </button>\n",
              "\n",
              "  <style>\n",
              "    .colab-df-container {\n",
              "      display:flex;\n",
              "      gap: 12px;\n",
              "    }\n",
              "\n",
              "    .colab-df-convert {\n",
              "      background-color: #E8F0FE;\n",
              "      border: none;\n",
              "      border-radius: 50%;\n",
              "      cursor: pointer;\n",
              "      display: none;\n",
              "      fill: #1967D2;\n",
              "      height: 32px;\n",
              "      padding: 0 0 0 0;\n",
              "      width: 32px;\n",
              "    }\n",
              "\n",
              "    .colab-df-convert:hover {\n",
              "      background-color: #E2EBFA;\n",
              "      box-shadow: 0px 1px 2px rgba(60, 64, 67, 0.3), 0px 1px 3px 1px rgba(60, 64, 67, 0.15);\n",
              "      fill: #174EA6;\n",
              "    }\n",
              "\n",
              "    .colab-df-buttons div {\n",
              "      margin-bottom: 4px;\n",
              "    }\n",
              "\n",
              "    [theme=dark] .colab-df-convert {\n",
              "      background-color: #3B4455;\n",
              "      fill: #D2E3FC;\n",
              "    }\n",
              "\n",
              "    [theme=dark] .colab-df-convert:hover {\n",
              "      background-color: #434B5C;\n",
              "      box-shadow: 0px 1px 3px 1px rgba(0, 0, 0, 0.15);\n",
              "      filter: drop-shadow(0px 1px 2px rgba(0, 0, 0, 0.3));\n",
              "      fill: #FFFFFF;\n",
              "    }\n",
              "  </style>\n",
              "\n",
              "    <script>\n",
              "      const buttonEl =\n",
              "        document.querySelector('#df-7dce08a3-f702-45e1-bc5a-aa36af190292 button.colab-df-convert');\n",
              "      buttonEl.style.display =\n",
              "        google.colab.kernel.accessAllowed ? 'block' : 'none';\n",
              "\n",
              "      async function convertToInteractive(key) {\n",
              "        const element = document.querySelector('#df-7dce08a3-f702-45e1-bc5a-aa36af190292');\n",
              "        const dataTable =\n",
              "          await google.colab.kernel.invokeFunction('convertToInteractive',\n",
              "                                                    [key], {});\n",
              "        if (!dataTable) return;\n",
              "\n",
              "        const docLinkHtml = 'Like what you see? Visit the ' +\n",
              "          '<a target=\"_blank\" href=https://colab.research.google.com/notebooks/data_table.ipynb>data table notebook</a>'\n",
              "          + ' to learn more about interactive tables.';\n",
              "        element.innerHTML = '';\n",
              "        dataTable['output_type'] = 'display_data';\n",
              "        await google.colab.output.renderOutput(dataTable, element);\n",
              "        const docLink = document.createElement('div');\n",
              "        docLink.innerHTML = docLinkHtml;\n",
              "        element.appendChild(docLink);\n",
              "      }\n",
              "    </script>\n",
              "  </div>\n",
              "\n",
              "\n",
              "    </div>\n",
              "  </div>\n"
            ],
            "application/vnd.google.colaboratory.intrinsic+json": {
              "type": "dataframe",
              "variable_name": "v",
              "summary": "{\n  \"name\": \"v\",\n  \"rows\": 10000,\n  \"fields\": [\n    {\n      \"column\": \"RowNumber\",\n      \"properties\": {\n        \"dtype\": \"number\",\n        \"std\": 2886,\n        \"min\": 1,\n        \"max\": 10000,\n        \"num_unique_values\": 10000,\n        \"samples\": [\n          6253,\n          4685,\n          1732\n        ],\n        \"semantic_type\": \"\",\n        \"description\": \"\"\n      }\n    },\n    {\n      \"column\": \"CustomerId\",\n      \"properties\": {\n        \"dtype\": \"number\",\n        \"std\": 71936,\n        \"min\": 15565701,\n        \"max\": 15815690,\n        \"num_unique_values\": 10000,\n        \"samples\": [\n          15687492,\n          15736963,\n          15721730\n        ],\n        \"semantic_type\": \"\",\n        \"description\": \"\"\n      }\n    },\n    {\n      \"column\": \"Surname\",\n      \"properties\": {\n        \"dtype\": \"category\",\n        \"num_unique_values\": 2932,\n        \"samples\": [\n          \"McGuirk\",\n          \"Torkelson\",\n          \"Rapuluchukwu\"\n        ],\n        \"semantic_type\": \"\",\n        \"description\": \"\"\n      }\n    },\n    {\n      \"column\": \"CreditScore\",\n      \"properties\": {\n        \"dtype\": \"number\",\n        \"std\": 96,\n        \"min\": 350,\n        \"max\": 850,\n        \"num_unique_values\": 460,\n        \"samples\": [\n          754,\n          533,\n          744\n        ],\n        \"semantic_type\": \"\",\n        \"description\": \"\"\n      }\n    },\n    {\n      \"column\": \"Gender\",\n      \"properties\": {\n        \"dtype\": \"number\",\n        \"std\": 0,\n        \"min\": 0,\n        \"max\": 1,\n        \"num_unique_values\": 2,\n        \"samples\": [\n          1,\n          0\n        ],\n        \"semantic_type\": \"\",\n        \"description\": \"\"\n      }\n    },\n    {\n      \"column\": \"Age\",\n      \"properties\": {\n        \"dtype\": \"number\",\n        \"std\": 10,\n        \"min\": 18,\n        \"max\": 92,\n        \"num_unique_values\": 70,\n        \"samples\": [\n          61,\n          42\n        ],\n        \"semantic_type\": \"\",\n        \"description\": \"\"\n      }\n    },\n    {\n      \"column\": \"Tenure\",\n      \"properties\": {\n        \"dtype\": \"number\",\n        \"std\": 2,\n        \"min\": 0,\n        \"max\": 10,\n        \"num_unique_values\": 11,\n        \"samples\": [\n          6,\n          2\n        ],\n        \"semantic_type\": \"\",\n        \"description\": \"\"\n      }\n    },\n    {\n      \"column\": \"Balance\",\n      \"properties\": {\n        \"dtype\": \"number\",\n        \"std\": 62397.40520238623,\n        \"min\": 0.0,\n        \"max\": 250898.09,\n        \"num_unique_values\": 6382,\n        \"samples\": [\n          117707.18,\n          133050.97\n        ],\n        \"semantic_type\": \"\",\n        \"description\": \"\"\n      }\n    },\n    {\n      \"column\": \"NumOfProducts\",\n      \"properties\": {\n        \"dtype\": \"number\",\n        \"std\": 0,\n        \"min\": 1,\n        \"max\": 4,\n        \"num_unique_values\": 4,\n        \"samples\": [\n          3,\n          4\n        ],\n        \"semantic_type\": \"\",\n        \"description\": \"\"\n      }\n    },\n    {\n      \"column\": \"HasCrCard\",\n      \"properties\": {\n        \"dtype\": \"number\",\n        \"std\": 0,\n        \"min\": 0,\n        \"max\": 1,\n        \"num_unique_values\": 2,\n        \"samples\": [\n          0,\n          1\n        ],\n        \"semantic_type\": \"\",\n        \"description\": \"\"\n      }\n    },\n    {\n      \"column\": \"IsActiveMember\",\n      \"properties\": {\n        \"dtype\": \"number\",\n        \"std\": 0,\n        \"min\": 0,\n        \"max\": 1,\n        \"num_unique_values\": 2,\n        \"samples\": [\n          0,\n          1\n        ],\n        \"semantic_type\": \"\",\n        \"description\": \"\"\n      }\n    },\n    {\n      \"column\": \"EstimatedSalary\",\n      \"properties\": {\n        \"dtype\": \"number\",\n        \"std\": 57510.49281769822,\n        \"min\": 11.58,\n        \"max\": 199992.48,\n        \"num_unique_values\": 9999,\n        \"samples\": [\n          100809.99,\n          95273.73\n        ],\n        \"semantic_type\": \"\",\n        \"description\": \"\"\n      }\n    },\n    {\n      \"column\": \"Exited\",\n      \"properties\": {\n        \"dtype\": \"number\",\n        \"std\": 0,\n        \"min\": 0,\n        \"max\": 1,\n        \"num_unique_values\": 2,\n        \"samples\": [\n          0,\n          1\n        ],\n        \"semantic_type\": \"\",\n        \"description\": \"\"\n      }\n    },\n    {\n      \"column\": \"CreditScoreRange\",\n      \"properties\": {\n        \"dtype\": \"category\",\n        \"num_unique_values\": 3,\n        \"samples\": [\n          \"500-700\",\n          \"700-900\"\n        ],\n        \"semantic_type\": \"\",\n        \"description\": \"\"\n      }\n    },\n    {\n      \"column\": \"BalanceRange\",\n      \"properties\": {\n        \"dtype\": \"category\",\n        \"num_unique_values\": 5,\n        \"samples\": [\n          \"50k-1L\",\n          \"10k-50k\"\n        ],\n        \"semantic_type\": \"\",\n        \"description\": \"\"\n      }\n    },\n    {\n      \"column\": \"AgeRange\",\n      \"properties\": {\n        \"dtype\": \"category\",\n        \"num_unique_values\": 7,\n        \"samples\": [\n          \"40-50\",\n          \"30-40\"\n        ],\n        \"semantic_type\": \"\",\n        \"description\": \"\"\n      }\n    },\n    {\n      \"column\": \"SalaryRange\",\n      \"properties\": {\n        \"dtype\": \"category\",\n        \"num_unique_values\": 4,\n        \"samples\": [\n          \"50k-1L\",\n          \"1.5L-2L\"\n        ],\n        \"semantic_type\": \"\",\n        \"description\": \"\"\n      }\n    },\n    {\n      \"column\": \"Germany\",\n      \"properties\": {\n        \"dtype\": \"number\",\n        \"std\": 0,\n        \"min\": 0,\n        \"max\": 1,\n        \"num_unique_values\": 2,\n        \"samples\": [\n          1,\n          0\n        ],\n        \"semantic_type\": \"\",\n        \"description\": \"\"\n      }\n    },\n    {\n      \"column\": \"Spain\",\n      \"properties\": {\n        \"dtype\": \"number\",\n        \"std\": 0,\n        \"min\": 0,\n        \"max\": 1,\n        \"num_unique_values\": 2,\n        \"samples\": [\n          1,\n          0\n        ],\n        \"semantic_type\": \"\",\n        \"description\": \"\"\n      }\n    }\n  ]\n}"
            }
          },
          "metadata": {},
          "execution_count": 26
        }
      ]
    },
    {
      "cell_type": "code",
      "source": [
        "#v = v.drop([\"AgeRange\" , \"RowNumber\" , \"CustomerId\" , \"Surname\" ,\"SalaryRange\" ,\"BalanceRange\" , \"CreditScoreRange\"] , axis = 1 )"
      ],
      "metadata": {
        "id": "A8IkKkEF3aod"
      },
      "execution_count": 27,
      "outputs": []
    },
    {
      "cell_type": "code",
      "source": [
        "v.head(1)"
      ],
      "metadata": {
        "id": "ovr2JkuY4Ssw",
        "colab": {
          "base_uri": "https://localhost:8080/",
          "height": 101
        },
        "outputId": "420e4054-8ff8-4478-d1ed-6248fbce72fa"
      },
      "execution_count": 28,
      "outputs": [
        {
          "output_type": "execute_result",
          "data": {
            "text/plain": [
              "   RowNumber  CustomerId   Surname  CreditScore  Gender  Age  Tenure  Balance  \\\n",
              "0          1    15634602  Hargrave          619       0   42       2      0.0   \n",
              "\n",
              "   NumOfProducts  HasCrCard  IsActiveMember  EstimatedSalary  Exited  \\\n",
              "0              1          1               1        101348.88       1   \n",
              "\n",
              "  CreditScoreRange BalanceRange AgeRange SalaryRange  Germany  Spain  \n",
              "0          500-700        0-10k    40-50     1L-1.5L        0      0  "
            ],
            "text/html": [
              "\n",
              "  <div id=\"df-a80d44a1-4ebe-418f-88c1-4ffdafeb7cba\" class=\"colab-df-container\">\n",
              "    <div>\n",
              "<style scoped>\n",
              "    .dataframe tbody tr th:only-of-type {\n",
              "        vertical-align: middle;\n",
              "    }\n",
              "\n",
              "    .dataframe tbody tr th {\n",
              "        vertical-align: top;\n",
              "    }\n",
              "\n",
              "    .dataframe thead th {\n",
              "        text-align: right;\n",
              "    }\n",
              "</style>\n",
              "<table border=\"1\" class=\"dataframe\">\n",
              "  <thead>\n",
              "    <tr style=\"text-align: right;\">\n",
              "      <th></th>\n",
              "      <th>RowNumber</th>\n",
              "      <th>CustomerId</th>\n",
              "      <th>Surname</th>\n",
              "      <th>CreditScore</th>\n",
              "      <th>Gender</th>\n",
              "      <th>Age</th>\n",
              "      <th>Tenure</th>\n",
              "      <th>Balance</th>\n",
              "      <th>NumOfProducts</th>\n",
              "      <th>HasCrCard</th>\n",
              "      <th>IsActiveMember</th>\n",
              "      <th>EstimatedSalary</th>\n",
              "      <th>Exited</th>\n",
              "      <th>CreditScoreRange</th>\n",
              "      <th>BalanceRange</th>\n",
              "      <th>AgeRange</th>\n",
              "      <th>SalaryRange</th>\n",
              "      <th>Germany</th>\n",
              "      <th>Spain</th>\n",
              "    </tr>\n",
              "  </thead>\n",
              "  <tbody>\n",
              "    <tr>\n",
              "      <th>0</th>\n",
              "      <td>1</td>\n",
              "      <td>15634602</td>\n",
              "      <td>Hargrave</td>\n",
              "      <td>619</td>\n",
              "      <td>0</td>\n",
              "      <td>42</td>\n",
              "      <td>2</td>\n",
              "      <td>0.0</td>\n",
              "      <td>1</td>\n",
              "      <td>1</td>\n",
              "      <td>1</td>\n",
              "      <td>101348.88</td>\n",
              "      <td>1</td>\n",
              "      <td>500-700</td>\n",
              "      <td>0-10k</td>\n",
              "      <td>40-50</td>\n",
              "      <td>1L-1.5L</td>\n",
              "      <td>0</td>\n",
              "      <td>0</td>\n",
              "    </tr>\n",
              "  </tbody>\n",
              "</table>\n",
              "</div>\n",
              "    <div class=\"colab-df-buttons\">\n",
              "\n",
              "  <div class=\"colab-df-container\">\n",
              "    <button class=\"colab-df-convert\" onclick=\"convertToInteractive('df-a80d44a1-4ebe-418f-88c1-4ffdafeb7cba')\"\n",
              "            title=\"Convert this dataframe to an interactive table.\"\n",
              "            style=\"display:none;\">\n",
              "\n",
              "  <svg xmlns=\"http://www.w3.org/2000/svg\" height=\"24px\" viewBox=\"0 -960 960 960\">\n",
              "    <path d=\"M120-120v-720h720v720H120Zm60-500h600v-160H180v160Zm220 220h160v-160H400v160Zm0 220h160v-160H400v160ZM180-400h160v-160H180v160Zm440 0h160v-160H620v160ZM180-180h160v-160H180v160Zm440 0h160v-160H620v160Z\"/>\n",
              "  </svg>\n",
              "    </button>\n",
              "\n",
              "  <style>\n",
              "    .colab-df-container {\n",
              "      display:flex;\n",
              "      gap: 12px;\n",
              "    }\n",
              "\n",
              "    .colab-df-convert {\n",
              "      background-color: #E8F0FE;\n",
              "      border: none;\n",
              "      border-radius: 50%;\n",
              "      cursor: pointer;\n",
              "      display: none;\n",
              "      fill: #1967D2;\n",
              "      height: 32px;\n",
              "      padding: 0 0 0 0;\n",
              "      width: 32px;\n",
              "    }\n",
              "\n",
              "    .colab-df-convert:hover {\n",
              "      background-color: #E2EBFA;\n",
              "      box-shadow: 0px 1px 2px rgba(60, 64, 67, 0.3), 0px 1px 3px 1px rgba(60, 64, 67, 0.15);\n",
              "      fill: #174EA6;\n",
              "    }\n",
              "\n",
              "    .colab-df-buttons div {\n",
              "      margin-bottom: 4px;\n",
              "    }\n",
              "\n",
              "    [theme=dark] .colab-df-convert {\n",
              "      background-color: #3B4455;\n",
              "      fill: #D2E3FC;\n",
              "    }\n",
              "\n",
              "    [theme=dark] .colab-df-convert:hover {\n",
              "      background-color: #434B5C;\n",
              "      box-shadow: 0px 1px 3px 1px rgba(0, 0, 0, 0.15);\n",
              "      filter: drop-shadow(0px 1px 2px rgba(0, 0, 0, 0.3));\n",
              "      fill: #FFFFFF;\n",
              "    }\n",
              "  </style>\n",
              "\n",
              "    <script>\n",
              "      const buttonEl =\n",
              "        document.querySelector('#df-a80d44a1-4ebe-418f-88c1-4ffdafeb7cba button.colab-df-convert');\n",
              "      buttonEl.style.display =\n",
              "        google.colab.kernel.accessAllowed ? 'block' : 'none';\n",
              "\n",
              "      async function convertToInteractive(key) {\n",
              "        const element = document.querySelector('#df-a80d44a1-4ebe-418f-88c1-4ffdafeb7cba');\n",
              "        const dataTable =\n",
              "          await google.colab.kernel.invokeFunction('convertToInteractive',\n",
              "                                                    [key], {});\n",
              "        if (!dataTable) return;\n",
              "\n",
              "        const docLinkHtml = 'Like what you see? Visit the ' +\n",
              "          '<a target=\"_blank\" href=https://colab.research.google.com/notebooks/data_table.ipynb>data table notebook</a>'\n",
              "          + ' to learn more about interactive tables.';\n",
              "        element.innerHTML = '';\n",
              "        dataTable['output_type'] = 'display_data';\n",
              "        await google.colab.output.renderOutput(dataTable, element);\n",
              "        const docLink = document.createElement('div');\n",
              "        docLink.innerHTML = docLinkHtml;\n",
              "        element.appendChild(docLink);\n",
              "      }\n",
              "    </script>\n",
              "  </div>\n",
              "\n",
              "\n",
              "    </div>\n",
              "  </div>\n"
            ],
            "application/vnd.google.colaboratory.intrinsic+json": {
              "type": "dataframe",
              "variable_name": "v",
              "summary": "{\n  \"name\": \"v\",\n  \"rows\": 10000,\n  \"fields\": [\n    {\n      \"column\": \"RowNumber\",\n      \"properties\": {\n        \"dtype\": \"number\",\n        \"std\": 2886,\n        \"min\": 1,\n        \"max\": 10000,\n        \"num_unique_values\": 10000,\n        \"samples\": [\n          6253,\n          4685,\n          1732\n        ],\n        \"semantic_type\": \"\",\n        \"description\": \"\"\n      }\n    },\n    {\n      \"column\": \"CustomerId\",\n      \"properties\": {\n        \"dtype\": \"number\",\n        \"std\": 71936,\n        \"min\": 15565701,\n        \"max\": 15815690,\n        \"num_unique_values\": 10000,\n        \"samples\": [\n          15687492,\n          15736963,\n          15721730\n        ],\n        \"semantic_type\": \"\",\n        \"description\": \"\"\n      }\n    },\n    {\n      \"column\": \"Surname\",\n      \"properties\": {\n        \"dtype\": \"category\",\n        \"num_unique_values\": 2932,\n        \"samples\": [\n          \"McGuirk\",\n          \"Torkelson\",\n          \"Rapuluchukwu\"\n        ],\n        \"semantic_type\": \"\",\n        \"description\": \"\"\n      }\n    },\n    {\n      \"column\": \"CreditScore\",\n      \"properties\": {\n        \"dtype\": \"number\",\n        \"std\": 96,\n        \"min\": 350,\n        \"max\": 850,\n        \"num_unique_values\": 460,\n        \"samples\": [\n          754,\n          533,\n          744\n        ],\n        \"semantic_type\": \"\",\n        \"description\": \"\"\n      }\n    },\n    {\n      \"column\": \"Gender\",\n      \"properties\": {\n        \"dtype\": \"number\",\n        \"std\": 0,\n        \"min\": 0,\n        \"max\": 1,\n        \"num_unique_values\": 2,\n        \"samples\": [\n          1,\n          0\n        ],\n        \"semantic_type\": \"\",\n        \"description\": \"\"\n      }\n    },\n    {\n      \"column\": \"Age\",\n      \"properties\": {\n        \"dtype\": \"number\",\n        \"std\": 10,\n        \"min\": 18,\n        \"max\": 92,\n        \"num_unique_values\": 70,\n        \"samples\": [\n          61,\n          42\n        ],\n        \"semantic_type\": \"\",\n        \"description\": \"\"\n      }\n    },\n    {\n      \"column\": \"Tenure\",\n      \"properties\": {\n        \"dtype\": \"number\",\n        \"std\": 2,\n        \"min\": 0,\n        \"max\": 10,\n        \"num_unique_values\": 11,\n        \"samples\": [\n          6,\n          2\n        ],\n        \"semantic_type\": \"\",\n        \"description\": \"\"\n      }\n    },\n    {\n      \"column\": \"Balance\",\n      \"properties\": {\n        \"dtype\": \"number\",\n        \"std\": 62397.40520238623,\n        \"min\": 0.0,\n        \"max\": 250898.09,\n        \"num_unique_values\": 6382,\n        \"samples\": [\n          117707.18,\n          133050.97\n        ],\n        \"semantic_type\": \"\",\n        \"description\": \"\"\n      }\n    },\n    {\n      \"column\": \"NumOfProducts\",\n      \"properties\": {\n        \"dtype\": \"number\",\n        \"std\": 0,\n        \"min\": 1,\n        \"max\": 4,\n        \"num_unique_values\": 4,\n        \"samples\": [\n          3,\n          4\n        ],\n        \"semantic_type\": \"\",\n        \"description\": \"\"\n      }\n    },\n    {\n      \"column\": \"HasCrCard\",\n      \"properties\": {\n        \"dtype\": \"number\",\n        \"std\": 0,\n        \"min\": 0,\n        \"max\": 1,\n        \"num_unique_values\": 2,\n        \"samples\": [\n          0,\n          1\n        ],\n        \"semantic_type\": \"\",\n        \"description\": \"\"\n      }\n    },\n    {\n      \"column\": \"IsActiveMember\",\n      \"properties\": {\n        \"dtype\": \"number\",\n        \"std\": 0,\n        \"min\": 0,\n        \"max\": 1,\n        \"num_unique_values\": 2,\n        \"samples\": [\n          0,\n          1\n        ],\n        \"semantic_type\": \"\",\n        \"description\": \"\"\n      }\n    },\n    {\n      \"column\": \"EstimatedSalary\",\n      \"properties\": {\n        \"dtype\": \"number\",\n        \"std\": 57510.49281769822,\n        \"min\": 11.58,\n        \"max\": 199992.48,\n        \"num_unique_values\": 9999,\n        \"samples\": [\n          100809.99,\n          95273.73\n        ],\n        \"semantic_type\": \"\",\n        \"description\": \"\"\n      }\n    },\n    {\n      \"column\": \"Exited\",\n      \"properties\": {\n        \"dtype\": \"number\",\n        \"std\": 0,\n        \"min\": 0,\n        \"max\": 1,\n        \"num_unique_values\": 2,\n        \"samples\": [\n          0,\n          1\n        ],\n        \"semantic_type\": \"\",\n        \"description\": \"\"\n      }\n    },\n    {\n      \"column\": \"CreditScoreRange\",\n      \"properties\": {\n        \"dtype\": \"category\",\n        \"num_unique_values\": 3,\n        \"samples\": [\n          \"500-700\",\n          \"700-900\"\n        ],\n        \"semantic_type\": \"\",\n        \"description\": \"\"\n      }\n    },\n    {\n      \"column\": \"BalanceRange\",\n      \"properties\": {\n        \"dtype\": \"category\",\n        \"num_unique_values\": 5,\n        \"samples\": [\n          \"50k-1L\",\n          \"10k-50k\"\n        ],\n        \"semantic_type\": \"\",\n        \"description\": \"\"\n      }\n    },\n    {\n      \"column\": \"AgeRange\",\n      \"properties\": {\n        \"dtype\": \"category\",\n        \"num_unique_values\": 7,\n        \"samples\": [\n          \"40-50\",\n          \"30-40\"\n        ],\n        \"semantic_type\": \"\",\n        \"description\": \"\"\n      }\n    },\n    {\n      \"column\": \"SalaryRange\",\n      \"properties\": {\n        \"dtype\": \"category\",\n        \"num_unique_values\": 4,\n        \"samples\": [\n          \"50k-1L\",\n          \"1.5L-2L\"\n        ],\n        \"semantic_type\": \"\",\n        \"description\": \"\"\n      }\n    },\n    {\n      \"column\": \"Germany\",\n      \"properties\": {\n        \"dtype\": \"number\",\n        \"std\": 0,\n        \"min\": 0,\n        \"max\": 1,\n        \"num_unique_values\": 2,\n        \"samples\": [\n          1,\n          0\n        ],\n        \"semantic_type\": \"\",\n        \"description\": \"\"\n      }\n    },\n    {\n      \"column\": \"Spain\",\n      \"properties\": {\n        \"dtype\": \"number\",\n        \"std\": 0,\n        \"min\": 0,\n        \"max\": 1,\n        \"num_unique_values\": 2,\n        \"samples\": [\n          1,\n          0\n        ],\n        \"semantic_type\": \"\",\n        \"description\": \"\"\n      }\n    }\n  ]\n}"
            }
          },
          "metadata": {},
          "execution_count": 28
        }
      ]
    },
    {
      "cell_type": "code",
      "source": [
        "v = v.drop( [\"RowNumber\" , \"CustomerId\" , \"Surname\"] , axis = 1 )"
      ],
      "metadata": {
        "id": "ztIqRHVLeMcN"
      },
      "execution_count": 29,
      "outputs": []
    },
    {
      "cell_type": "code",
      "source": [
        "v.isnull().sum()\n",
        "# can see that  in our churn modelling no  values are missing\n",
        "# in any of columns\n"
      ],
      "metadata": {
        "execution": {
          "iopub.status.busy": "2025-10-21T07:26:52.042748Z",
          "iopub.execute_input": "2025-10-21T07:26:52.043069Z",
          "iopub.status.idle": "2025-10-21T07:26:52.055959Z",
          "shell.execute_reply.started": "2025-10-21T07:26:52.043046Z",
          "shell.execute_reply": "2025-10-21T07:26:52.054836Z"
        },
        "papermill": {
          "duration": 0.020439,
          "end_time": "2025-10-02T14:17:55.513396",
          "exception": false,
          "start_time": "2025-10-02T14:17:55.492957",
          "status": "completed"
        },
        "tags": [],
        "trusted": true,
        "id": "gdSD76HzxX9J",
        "colab": {
          "base_uri": "https://localhost:8080/",
          "height": 585
        },
        "outputId": "361d3141-cd2f-4ad0-9817-d7bb6f5f2e90"
      },
      "outputs": [
        {
          "output_type": "execute_result",
          "data": {
            "text/plain": [
              "CreditScore         0\n",
              "Gender              0\n",
              "Age                 0\n",
              "Tenure              0\n",
              "Balance             0\n",
              "NumOfProducts       0\n",
              "HasCrCard           0\n",
              "IsActiveMember      0\n",
              "EstimatedSalary     0\n",
              "Exited              0\n",
              "CreditScoreRange    0\n",
              "BalanceRange        0\n",
              "AgeRange            0\n",
              "SalaryRange         0\n",
              "Germany             0\n",
              "Spain               0\n",
              "dtype: int64"
            ],
            "text/html": [
              "<div>\n",
              "<style scoped>\n",
              "    .dataframe tbody tr th:only-of-type {\n",
              "        vertical-align: middle;\n",
              "    }\n",
              "\n",
              "    .dataframe tbody tr th {\n",
              "        vertical-align: top;\n",
              "    }\n",
              "\n",
              "    .dataframe thead th {\n",
              "        text-align: right;\n",
              "    }\n",
              "</style>\n",
              "<table border=\"1\" class=\"dataframe\">\n",
              "  <thead>\n",
              "    <tr style=\"text-align: right;\">\n",
              "      <th></th>\n",
              "      <th>0</th>\n",
              "    </tr>\n",
              "  </thead>\n",
              "  <tbody>\n",
              "    <tr>\n",
              "      <th>CreditScore</th>\n",
              "      <td>0</td>\n",
              "    </tr>\n",
              "    <tr>\n",
              "      <th>Gender</th>\n",
              "      <td>0</td>\n",
              "    </tr>\n",
              "    <tr>\n",
              "      <th>Age</th>\n",
              "      <td>0</td>\n",
              "    </tr>\n",
              "    <tr>\n",
              "      <th>Tenure</th>\n",
              "      <td>0</td>\n",
              "    </tr>\n",
              "    <tr>\n",
              "      <th>Balance</th>\n",
              "      <td>0</td>\n",
              "    </tr>\n",
              "    <tr>\n",
              "      <th>NumOfProducts</th>\n",
              "      <td>0</td>\n",
              "    </tr>\n",
              "    <tr>\n",
              "      <th>HasCrCard</th>\n",
              "      <td>0</td>\n",
              "    </tr>\n",
              "    <tr>\n",
              "      <th>IsActiveMember</th>\n",
              "      <td>0</td>\n",
              "    </tr>\n",
              "    <tr>\n",
              "      <th>EstimatedSalary</th>\n",
              "      <td>0</td>\n",
              "    </tr>\n",
              "    <tr>\n",
              "      <th>Exited</th>\n",
              "      <td>0</td>\n",
              "    </tr>\n",
              "    <tr>\n",
              "      <th>CreditScoreRange</th>\n",
              "      <td>0</td>\n",
              "    </tr>\n",
              "    <tr>\n",
              "      <th>BalanceRange</th>\n",
              "      <td>0</td>\n",
              "    </tr>\n",
              "    <tr>\n",
              "      <th>AgeRange</th>\n",
              "      <td>0</td>\n",
              "    </tr>\n",
              "    <tr>\n",
              "      <th>SalaryRange</th>\n",
              "      <td>0</td>\n",
              "    </tr>\n",
              "    <tr>\n",
              "      <th>Germany</th>\n",
              "      <td>0</td>\n",
              "    </tr>\n",
              "    <tr>\n",
              "      <th>Spain</th>\n",
              "      <td>0</td>\n",
              "    </tr>\n",
              "  </tbody>\n",
              "</table>\n",
              "</div><br><label><b>dtype:</b> int64</label>"
            ]
          },
          "metadata": {},
          "execution_count": 30
        }
      ],
      "execution_count": 30
    },
    {
      "cell_type": "code",
      "source": [
        "v.duplicated().sum()\n",
        "# can see no duplicates row we found"
      ],
      "metadata": {
        "id": "ma7q6NPmoUiv",
        "colab": {
          "base_uri": "https://localhost:8080/"
        },
        "outputId": "465f7baa-8d5d-48b0-e3ae-b3f297b3d17b"
      },
      "execution_count": 31,
      "outputs": [
        {
          "output_type": "execute_result",
          "data": {
            "text/plain": [
              "np.int64(0)"
            ]
          },
          "metadata": {},
          "execution_count": 31
        }
      ]
    },
    {
      "cell_type": "code",
      "source": [
        "v.shape"
      ],
      "metadata": {
        "id": "79yB99Nyj3OF",
        "colab": {
          "base_uri": "https://localhost:8080/"
        },
        "outputId": "9aa6e1d0-a388-461c-f57a-7793d6c49d5f"
      },
      "execution_count": 32,
      "outputs": [
        {
          "output_type": "execute_result",
          "data": {
            "text/plain": [
              "(10000, 16)"
            ]
          },
          "metadata": {},
          "execution_count": 32
        }
      ]
    },
    {
      "cell_type": "code",
      "source": [
        " # 'Exited' column ko last me move karna\n",
        "col = v.pop('Exited')\n",
        "v['Exited'] = col\n"
      ],
      "metadata": {
        "id": "OLLVs_6mH-2P"
      },
      "execution_count": 33,
      "outputs": []
    },
    {
      "cell_type": "code",
      "source": [
        "\n",
        "# Pie chart\n",
        "v['Exited'].value_counts().plot.pie(\n",
        "    autopct='%1.1f%%',\n",
        "    colors=['#66b3ff','#ff6666'],\n",
        "    labels=['Stayed','Exited'],\n",
        "    startangle=90,\n",
        "    explode=[0.05,0.05],\n",
        "    shadow=True\n",
        ")\n",
        "plt.title('Customer Churn Distribution', fontsize=16, fontweight='bold')\n",
        "plt.ylabel('')\n",
        "plt.show()\n",
        "\n",
        "# almost 20 percent people churning the bank\n",
        "# but 80 percent people not ...\n",
        "# quite imbalanced  dataset ....."
      ],
      "metadata": {
        "id": "y4hYf1XrEZOZ",
        "colab": {
          "base_uri": "https://localhost:8080/",
          "height": 430
        },
        "outputId": "89201405-b8e2-4f27-8a92-19c4dc866106"
      },
      "execution_count": 34,
      "outputs": [
        {
          "output_type": "display_data",
          "data": {
            "text/plain": [
              "<Figure size 640x480 with 1 Axes>"
            ],
            "image/png": "[encoded data removed]"
          },
          "metadata": {}
        }
      ]
    },
    {
      "cell_type": "code",
      "source": [
        "v.head(1)"
      ],
      "metadata": {
        "id": "mwvQARE8IApT",
        "colab": {
          "base_uri": "https://localhost:8080/",
          "height": 101
        },
        "outputId": "cd95b1d4-d4f7-42e7-8529-ceb6c3d76149"
      },
      "execution_count": 35,
      "outputs": [
        {
          "output_type": "execute_result",
          "data": {
            "text/plain": [
              "   CreditScore  Gender  Age  Tenure  Balance  NumOfProducts  HasCrCard  \\\n",
              "0          619       0   42       2      0.0              1          1   \n",
              "\n",
              "   IsActiveMember  EstimatedSalary CreditScoreRange BalanceRange AgeRange  \\\n",
              "0               1        101348.88          500-700        0-10k    40-50   \n",
              "\n",
              "  SalaryRange  Germany  Spain  Exited  \n",
              "0     1L-1.5L        0      0       1  "
            ],
            "text/html": [
              "\n",
              "  <div id=\"df-ea7b2f1a-9c74-480a-a58a-f0312260eb1c\" class=\"colab-df-container\">\n",
              "    <div>\n",
              "<style scoped>\n",
              "    .dataframe tbody tr th:only-of-type {\n",
              "        vertical-align: middle;\n",
              "    }\n",
              "\n",
              "    .dataframe tbody tr th {\n",
              "        vertical-align: top;\n",
              "    }\n",
              "\n",
              "    .dataframe thead th {\n",
              "        text-align: right;\n",
              "    }\n",
              "</style>\n",
              "<table border=\"1\" class=\"dataframe\">\n",
              "  <thead>\n",
              "    <tr style=\"text-align: right;\">\n",
              "      <th></th>\n",
              "      <th>CreditScore</th>\n",
              "      <th>Gender</th>\n",
              "      <th>Age</th>\n",
              "      <th>Tenure</th>\n",
              "      <th>Balance</th>\n",
              "      <th>NumOfProducts</th>\n",
              "      <th>HasCrCard</th>\n",
              "      <th>IsActiveMember</th>\n",
              "      <th>EstimatedSalary</th>\n",
              "      <th>CreditScoreRange</th>\n",
              "      <th>BalanceRange</th>\n",
              "      <th>AgeRange</th>\n",
              "      <th>SalaryRange</th>\n",
              "      <th>Germany</th>\n",
              "      <th>Spain</th>\n",
              "      <th>Exited</th>\n",
              "    </tr>\n",
              "  </thead>\n",
              "  <tbody>\n",
              "    <tr>\n",
              "      <th>0</th>\n",
              "      <td>619</td>\n",
              "      <td>0</td>\n",
              "      <td>42</td>\n",
              "      <td>2</td>\n",
              "      <td>0.0</td>\n",
              "      <td>1</td>\n",
              "      <td>1</td>\n",
              "      <td>1</td>\n",
              "      <td>101348.88</td>\n",
              "      <td>500-700</td>\n",
              "      <td>0-10k</td>\n",
              "      <td>40-50</td>\n",
              "      <td>1L-1.5L</td>\n",
              "      <td>0</td>\n",
              "      <td>0</td>\n",
              "      <td>1</td>\n",
              "    </tr>\n",
              "  </tbody>\n",
              "</table>\n",
              "</div>\n",
              "    <div class=\"colab-df-buttons\">\n",
              "\n",
              "  <div class=\"colab-df-container\">\n",
              "    <button class=\"colab-df-convert\" onclick=\"convertToInteractive('df-ea7b2f1a-9c74-480a-a58a-f0312260eb1c')\"\n",
              "            title=\"Convert this dataframe to an interactive table.\"\n",
              "            style=\"display:none;\">\n",
              "\n",
              "  <svg xmlns=\"http://www.w3.org/2000/svg\" height=\"24px\" viewBox=\"0 -960 960 960\">\n",
              "    <path d=\"M120-120v-720h720v720H120Zm60-500h600v-160H180v160Zm220 220h160v-160H400v160Zm0 220h160v-160H400v160ZM180-400h160v-160H180v160Zm440 0h160v-160H620v160ZM180-180h160v-160H180v160Zm440 0h160v-160H620v160Z\"/>\n",
              "  </svg>\n",
              "    </button>\n",
              "\n",
              "  <style>\n",
              "    .colab-df-container {\n",
              "      display:flex;\n",
              "      gap: 12px;\n",
              "    }\n",
              "\n",
              "    .colab-df-convert {\n",
              "      background-color: #E8F0FE;\n",
              "      border: none;\n",
              "      border-radius: 50%;\n",
              "      cursor: pointer;\n",
              "      display: none;\n",
              "      fill: #1967D2;\n",
              "      height: 32px;\n",
              "      padding: 0 0 0 0;\n",
              "      width: 32px;\n",
              "    }\n",
              "\n",
              "    .colab-df-convert:hover {\n",
              "      background-color: #E2EBFA;\n",
              "      box-shadow: 0px 1px 2px rgba(60, 64, 67, 0.3), 0px 1px 3px 1px rgba(60, 64, 67, 0.15);\n",
              "      fill: #174EA6;\n",
              "    }\n",
              "\n",
              "    .colab-df-buttons div {\n",
              "      margin-bottom: 4px;\n",
              "    }\n",
              "\n",
              "    [theme=dark] .colab-df-convert {\n",
              "      background-color: #3B4455;\n",
              "      fill: #D2E3FC;\n",
              "    }\n",
              "\n",
              "    [theme=dark] .colab-df-convert:hover {\n",
              "      background-color: #434B5C;\n",
              "      box-shadow: 0px 1px 3px 1px rgba(0, 0, 0, 0.15);\n",
              "      filter: drop-shadow(0px 1px 2px rgba(0, 0, 0, 0.3));\n",
              "      fill: #FFFFFF;\n",
              "    }\n",
              "  </style>\n",
              "\n",
              "    <script>\n",
              "      const buttonEl =\n",
              "        document.querySelector('#df-ea7b2f1a-9c74-480a-a58a-f0312260eb1c button.colab-df-convert');\n",
              "      buttonEl.style.display =\n",
              "        google.colab.kernel.accessAllowed ? 'block' : 'none';\n",
              "\n",
              "      async function convertToInteractive(key) {\n",
              "        const element = document.querySelector('#df-ea7b2f1a-9c74-480a-a58a-f0312260eb1c');\n",
              "        const dataTable =\n",
              "          await google.colab.kernel.invokeFunction('convertToInteractive',\n",
              "                                                    [key], {});\n",
              "        if (!dataTable) return;\n",
              "\n",
              "        const docLinkHtml = 'Like what you see? Visit the ' +\n",
              "          '<a target=\"_blank\" href=https://colab.research.google.com/notebooks/data_table.ipynb>data table notebook</a>'\n",
              "          + ' to learn more about interactive tables.';\n",
              "        element.innerHTML = '';\n",
              "        dataTable['output_type'] = 'display_data';\n",
              "        await google.colab.output.renderOutput(dataTable, element);\n",
              "        const docLink = document.createElement('div');\n",
              "        docLink.innerHTML = docLinkHtml;\n",
              "        element.appendChild(docLink);\n",
              "      }\n",
              "    </script>\n",
              "  </div>\n",
              "\n",
              "\n",
              "    </div>\n",
              "  </div>\n"
            ],
            "application/vnd.google.colaboratory.intrinsic+json": {
              "type": "dataframe",
              "variable_name": "v",
              "summary": "{\n  \"name\": \"v\",\n  \"rows\": 10000,\n  \"fields\": [\n    {\n      \"column\": \"CreditScore\",\n      \"properties\": {\n        \"dtype\": \"number\",\n        \"std\": 96,\n        \"min\": 350,\n        \"max\": 850,\n        \"num_unique_values\": 460,\n        \"samples\": [\n          754,\n          533,\n          744\n        ],\n        \"semantic_type\": \"\",\n        \"description\": \"\"\n      }\n    },\n    {\n      \"column\": \"Gender\",\n      \"properties\": {\n        \"dtype\": \"number\",\n        \"std\": 0,\n        \"min\": 0,\n        \"max\": 1,\n        \"num_unique_values\": 2,\n        \"samples\": [\n          1,\n          0\n        ],\n        \"semantic_type\": \"\",\n        \"description\": \"\"\n      }\n    },\n    {\n      \"column\": \"Age\",\n      \"properties\": {\n        \"dtype\": \"number\",\n        \"std\": 10,\n        \"min\": 18,\n        \"max\": 92,\n        \"num_unique_values\": 70,\n        \"samples\": [\n          61,\n          42\n        ],\n        \"semantic_type\": \"\",\n        \"description\": \"\"\n      }\n    },\n    {\n      \"column\": \"Tenure\",\n      \"properties\": {\n        \"dtype\": \"number\",\n        \"std\": 2,\n        \"min\": 0,\n        \"max\": 10,\n        \"num_unique_values\": 11,\n        \"samples\": [\n          6,\n          2\n        ],\n        \"semantic_type\": \"\",\n        \"description\": \"\"\n      }\n    },\n    {\n      \"column\": \"Balance\",\n      \"properties\": {\n        \"dtype\": \"number\",\n        \"std\": 62397.40520238623,\n        \"min\": 0.0,\n        \"max\": 250898.09,\n        \"num_unique_values\": 6382,\n        \"samples\": [\n          117707.18,\n          133050.97\n        ],\n        \"semantic_type\": \"\",\n        \"description\": \"\"\n      }\n    },\n    {\n      \"column\": \"NumOfProducts\",\n      \"properties\": {\n        \"dtype\": \"number\",\n        \"std\": 0,\n        \"min\": 1,\n        \"max\": 4,\n        \"num_unique_values\": 4,\n        \"samples\": [\n          3,\n          4\n        ],\n        \"semantic_type\": \"\",\n        \"description\": \"\"\n      }\n    },\n    {\n      \"column\": \"HasCrCard\",\n      \"properties\": {\n        \"dtype\": \"number\",\n        \"std\": 0,\n        \"min\": 0,\n        \"max\": 1,\n        \"num_unique_values\": 2,\n        \"samples\": [\n          0,\n          1\n        ],\n        \"semantic_type\": \"\",\n        \"description\": \"\"\n      }\n    },\n    {\n      \"column\": \"IsActiveMember\",\n      \"properties\": {\n        \"dtype\": \"number\",\n        \"std\": 0,\n        \"min\": 0,\n        \"max\": 1,\n        \"num_unique_values\": 2,\n        \"samples\": [\n          0,\n          1\n        ],\n        \"semantic_type\": \"\",\n        \"description\": \"\"\n      }\n    },\n    {\n      \"column\": \"EstimatedSalary\",\n      \"properties\": {\n        \"dtype\": \"number\",\n        \"std\": 57510.49281769822,\n        \"min\": 11.58,\n        \"max\": 199992.48,\n        \"num_unique_values\": 9999,\n        \"samples\": [\n          100809.99,\n          95273.73\n        ],\n        \"semantic_type\": \"\",\n        \"description\": \"\"\n      }\n    },\n    {\n      \"column\": \"CreditScoreRange\",\n      \"properties\": {\n        \"dtype\": \"category\",\n        \"num_unique_values\": 3,\n        \"samples\": [\n          \"500-700\",\n          \"700-900\"\n        ],\n        \"semantic_type\": \"\",\n        \"description\": \"\"\n      }\n    },\n    {\n      \"column\": \"BalanceRange\",\n      \"properties\": {\n        \"dtype\": \"category\",\n        \"num_unique_values\": 5,\n        \"samples\": [\n          \"50k-1L\",\n          \"10k-50k\"\n        ],\n        \"semantic_type\": \"\",\n        \"description\": \"\"\n      }\n    },\n    {\n      \"column\": \"AgeRange\",\n      \"properties\": {\n        \"dtype\": \"category\",\n        \"num_unique_values\": 7,\n        \"samples\": [\n          \"40-50\",\n          \"30-40\"\n        ],\n        \"semantic_type\": \"\",\n        \"description\": \"\"\n      }\n    },\n    {\n      \"column\": \"SalaryRange\",\n      \"properties\": {\n        \"dtype\": \"category\",\n        \"num_unique_values\": 4,\n        \"samples\": [\n          \"50k-1L\",\n          \"1.5L-2L\"\n        ],\n        \"semantic_type\": \"\",\n        \"description\": \"\"\n      }\n    },\n    {\n      \"column\": \"Germany\",\n      \"properties\": {\n        \"dtype\": \"number\",\n        \"std\": 0,\n        \"min\": 0,\n        \"max\": 1,\n        \"num_unique_values\": 2,\n        \"samples\": [\n          1,\n          0\n        ],\n        \"semantic_type\": \"\",\n        \"description\": \"\"\n      }\n    },\n    {\n      \"column\": \"Spain\",\n      \"properties\": {\n        \"dtype\": \"number\",\n        \"std\": 0,\n        \"min\": 0,\n        \"max\": 1,\n        \"num_unique_values\": 2,\n        \"samples\": [\n          1,\n          0\n        ],\n        \"semantic_type\": \"\",\n        \"description\": \"\"\n      }\n    },\n    {\n      \"column\": \"Exited\",\n      \"properties\": {\n        \"dtype\": \"number\",\n        \"std\": 0,\n        \"min\": 0,\n        \"max\": 1,\n        \"num_unique_values\": 2,\n        \"samples\": [\n          0,\n          1\n        ],\n        \"semantic_type\": \"\",\n        \"description\": \"\"\n      }\n    }\n  ]\n}"
            }
          },
          "metadata": {},
          "execution_count": 35
        }
      ]
    },
    {
      "cell_type": "code",
      "source": [
        "v = v.drop([\"CreditScoreRange\" , \t\"BalanceRange\" ,\t\"AgeRange\" ,\t\"SalaryRange\"],axis =1)"
      ],
      "metadata": {
        "id": "1rKsz0vYeI0b"
      },
      "execution_count": 36,
      "outputs": []
    },
    {
      "cell_type": "markdown",
      "source": [
        "# EDA"
      ],
      "metadata": {
        "id": "kQQlS_p3NGk_"
      }
    },
    {
      "cell_type": "code",
      "source": [
        "v.corr()"
      ],
      "metadata": {
        "id": "ud4bUQYTEhhg",
        "colab": {
          "base_uri": "https://localhost:8080/",
          "height": 445
        },
        "outputId": "c78ce010-b15e-4cc1-fe37-09b2555d23bf"
      },
      "execution_count": 37,
      "outputs": [
        {
          "output_type": "execute_result",
          "data": {
            "text/plain": [
              "                 CreditScore    Gender       Age    Tenure   Balance  \\\n",
              "CreditScore         1.000000 -0.002857 -0.003965  0.000842  0.006268   \n",
              "Gender             -0.002857  1.000000 -0.027544  0.014733  0.012087   \n",
              "Age                -0.003965 -0.027544  1.000000 -0.009997  0.028308   \n",
              "Tenure              0.000842  0.014733 -0.009997  1.000000 -0.012254   \n",
              "Balance             0.006268  0.012087  0.028308 -0.012254  1.000000   \n",
              "NumOfProducts       0.012238 -0.021859 -0.030680  0.013444 -0.304180   \n",
              "HasCrCard          -0.005458  0.005766 -0.011721  0.022583 -0.014858   \n",
              "IsActiveMember      0.025651  0.022544  0.085472 -0.028362 -0.010084   \n",
              "EstimatedSalary    -0.001384 -0.008112 -0.007201  0.007784  0.012797   \n",
              "Germany             0.005538 -0.024628  0.046897 -0.000567  0.401110   \n",
              "Spain               0.004780  0.016889 -0.001685  0.003868 -0.134892   \n",
              "Exited             -0.027094 -0.106512  0.285323 -0.014001  0.118533   \n",
              "\n",
              "                 NumOfProducts  HasCrCard  IsActiveMember  EstimatedSalary  \\\n",
              "CreditScore           0.012238  -0.005458        0.025651        -0.001384   \n",
              "Gender               -0.021859   0.005766        0.022544        -0.008112   \n",
              "Age                  -0.030680  -0.011721        0.085472        -0.007201   \n",
              "Tenure                0.013444   0.022583       -0.028362         0.007784   \n",
              "Balance              -0.304180  -0.014858       -0.010084         0.012797   \n",
              "NumOfProducts         1.000000   0.003183        0.009612         0.014204   \n",
              "HasCrCard             0.003183   1.000000       -0.011866        -0.009933   \n",
              "IsActiveMember        0.009612  -0.011866        1.000000        -0.011421   \n",
              "EstimatedSalary       0.014204  -0.009933       -0.011421         1.000000   \n",
              "Germany              -0.010419   0.010577       -0.020486         0.010297   \n",
              "Spain                 0.009039  -0.013480        0.016732        -0.006482   \n",
              "Exited               -0.047820  -0.007138       -0.156128         0.012097   \n",
              "\n",
              "                  Germany     Spain    Exited  \n",
              "CreditScore      0.005538  0.004780 -0.027094  \n",
              "Gender          -0.024628  0.016889 -0.106512  \n",
              "Age              0.046897 -0.001685  0.285323  \n",
              "Tenure          -0.000567  0.003868 -0.014001  \n",
              "Balance          0.401110 -0.134892  0.118533  \n",
              "NumOfProducts   -0.010419  0.009039 -0.047820  \n",
              "HasCrCard        0.010577 -0.013480 -0.007138  \n",
              "IsActiveMember  -0.020486  0.016732 -0.156128  \n",
              "EstimatedSalary  0.010297 -0.006482  0.012097  \n",
              "Germany          1.000000 -0.332084  0.173488  \n",
              "Spain           -0.332084  1.000000 -0.052667  \n",
              "Exited           0.173488 -0.052667  1.000000  "
            ],
            "text/html": [
              "\n",
              "  <div id=\"df-199d994f-a546-4e8b-a608-158e6b297f78\" class=\"colab-df-container\">\n",
              "    <div>\n",
              "<style scoped>\n",
              "    .dataframe tbody tr th:only-of-type {\n",
              "        vertical-align: middle;\n",
              "    }\n",
              "\n",
              "    .dataframe tbody tr th {\n",
              "        vertical-align: top;\n",
              "    }\n",
              "\n",
              "    .dataframe thead th {\n",
              "        text-align: right;\n",
              "    }\n",
              "</style>\n",
              "<table border=\"1\" class=\"dataframe\">\n",
              "  <thead>\n",
              "    <tr style=\"text-align: right;\">\n",
              "      <th></th>\n",
              "      <th>CreditScore</th>\n",
              "      <th>Gender</th>\n",
              "      <th>Age</th>\n",
              "      <th>Tenure</th>\n",
              "      <th>Balance</th>\n",
              "      <th>NumOfProducts</th>\n",
              "      <th>HasCrCard</th>\n",
              "      <th>IsActiveMember</th>\n",
              "      <th>EstimatedSalary</th>\n",
              "      <th>Germany</th>\n",
              "      <th>Spain</th>\n",
              "      <th>Exited</th>\n",
              "    </tr>\n",
              "  </thead>\n",
              "  <tbody>\n",
              "    <tr>\n",
              "      <th>CreditScore</th>\n",
              "      <td>1.000000</td>\n",
              "      <td>-0.002857</td>\n",
              "      <td>-0.003965</td>\n",
              "      <td>0.000842</td>\n",
              "      <td>0.006268</td>\n",
              "      <td>0.012238</td>\n",
              "      <td>-0.005458</td>\n",
              "      <td>0.025651</td>\n",
              "      <td>-0.001384</td>\n",
              "      <td>0.005538</td>\n",
              "      <td>0.004780</td>\n",
              "      <td>-0.027094</td>\n",
              "    </tr>\n",
              "    <tr>\n",
              "      <th>Gender</th>\n",
              "      <td>-0.002857</td>\n",
              "      <td>1.000000</td>\n",
              "      <td>-0.027544</td>\n",
              "      <td>0.014733</td>\n",
              "      <td>0.012087</td>\n",
              "      <td>-0.021859</td>\n",
              "      <td>0.005766</td>\n",
              "      <td>0.022544</td>\n",
              "      <td>-0.008112</td>\n",
              "      <td>-0.024628</td>\n",
              "      <td>0.016889</td>\n",
              "      <td>-0.106512</td>\n",
              "    </tr>\n",
              "    <tr>\n",
              "      <th>Age</th>\n",
              "      <td>-0.003965</td>\n",
              "      <td>-0.027544</td>\n",
              "      <td>1.000000</td>\n",
              "      <td>-0.009997</td>\n",
              "      <td>0.028308</td>\n",
              "      <td>-0.030680</td>\n",
              "      <td>-0.011721</td>\n",
              "      <td>0.085472</td>\n",
              "      <td>-0.007201</td>\n",
              "      <td>0.046897</td>\n",
              "      <td>-0.001685</td>\n",
              "      <td>0.285323</td>\n",
              "    </tr>\n",
              "    <tr>\n",
              "      <th>Tenure</th>\n",
              "      <td>0.000842</td>\n",
              "      <td>0.014733</td>\n",
              "      <td>-0.009997</td>\n",
              "      <td>1.000000</td>\n",
              "      <td>-0.012254</td>\n",
              "      <td>0.013444</td>\n",
              "      <td>0.022583</td>\n",
              "      <td>-0.028362</td>\n",
              "      <td>0.007784</td>\n",
              "      <td>-0.000567</td>\n",
              "      <td>0.003868</td>\n",
              "      <td>-0.014001</td>\n",
              "    </tr>\n",
              "    <tr>\n",
              "      <th>Balance</th>\n",
              "      <td>0.006268</td>\n",
              "      <td>0.012087</td>\n",
              "      <td>0.028308</td>\n",
              "      <td>-0.012254</td>\n",
              "      <td>1.000000</td>\n",
              "      <td>-0.304180</td>\n",
              "      <td>-0.014858</td>\n",
              "      <td>-0.010084</td>\n",
              "      <td>0.012797</td>\n",
              "      <td>0.401110</td>\n",
              "      <td>-0.134892</td>\n",
              "      <td>0.118533</td>\n",
              "    </tr>\n",
              "    <tr>\n",
              "      <th>NumOfProducts</th>\n",
              "      <td>0.012238</td>\n",
              "      <td>-0.021859</td>\n",
              "      <td>-0.030680</td>\n",
              "      <td>0.013444</td>\n",
              "      <td>-0.304180</td>\n",
              "      <td>1.000000</td>\n",
              "      <td>0.003183</td>\n",
              "      <td>0.009612</td>\n",
              "      <td>0.014204</td>\n",
              "      <td>-0.010419</td>\n",
              "      <td>0.009039</td>\n",
              "      <td>-0.047820</td>\n",
              "    </tr>\n",
              "    <tr>\n",
              "      <th>HasCrCard</th>\n",
              "      <td>-0.005458</td>\n",
              "      <td>0.005766</td>\n",
              "      <td>-0.011721</td>\n",
              "      <td>0.022583</td>\n",
              "      <td>-0.014858</td>\n",
              "      <td>0.003183</td>\n",
              "      <td>1.000000</td>\n",
              "      <td>-0.011866</td>\n",
              "      <td>-0.009933</td>\n",
              "      <td>0.010577</td>\n",
              "      <td>-0.013480</td>\n",
              "      <td>-0.007138</td>\n",
              "    </tr>\n",
              "    <tr>\n",
              "      <th>IsActiveMember</th>\n",
              "      <td>0.025651</td>\n",
              "      <td>0.022544</td>\n",
              "      <td>0.085472</td>\n",
              "      <td>-0.028362</td>\n",
              "      <td>-0.010084</td>\n",
              "      <td>0.009612</td>\n",
              "      <td>-0.011866</td>\n",
              "      <td>1.000000</td>\n",
              "      <td>-0.011421</td>\n",
              "      <td>-0.020486</td>\n",
              "      <td>0.016732</td>\n",
              "      <td>-0.156128</td>\n",
              "    </tr>\n",
              "    <tr>\n",
              "      <th>EstimatedSalary</th>\n",
              "      <td>-0.001384</td>\n",
              "      <td>-0.008112</td>\n",
              "      <td>-0.007201</td>\n",
              "      <td>0.007784</td>\n",
              "      <td>0.012797</td>\n",
              "      <td>0.014204</td>\n",
              "      <td>-0.009933</td>\n",
              "      <td>-0.011421</td>\n",
              "      <td>1.000000</td>\n",
              "      <td>0.010297</td>\n",
              "      <td>-0.006482</td>\n",
              "      <td>0.012097</td>\n",
              "    </tr>\n",
              "    <tr>\n",
              "      <th>Germany</th>\n",
              "      <td>0.005538</td>\n",
              "      <td>-0.024628</td>\n",
              "      <td>0.046897</td>\n",
              "      <td>-0.000567</td>\n",
              "      <td>0.401110</td>\n",
              "      <td>-0.010419</td>\n",
              "      <td>0.010577</td>\n",
              "      <td>-0.020486</td>\n",
              "      <td>0.010297</td>\n",
              "      <td>1.000000</td>\n",
              "      <td>-0.332084</td>\n",
              "      <td>0.173488</td>\n",
              "    </tr>\n",
              "    <tr>\n",
              "      <th>Spain</th>\n",
              "      <td>0.004780</td>\n",
              "      <td>0.016889</td>\n",
              "      <td>-0.001685</td>\n",
              "      <td>0.003868</td>\n",
              "      <td>-0.134892</td>\n",
              "      <td>0.009039</td>\n",
              "      <td>-0.013480</td>\n",
              "      <td>0.016732</td>\n",
              "      <td>-0.006482</td>\n",
              "      <td>-0.332084</td>\n",
              "      <td>1.000000</td>\n",
              "      <td>-0.052667</td>\n",
              "    </tr>\n",
              "    <tr>\n",
              "      <th>Exited</th>\n",
              "      <td>-0.027094</td>\n",
              "      <td>-0.106512</td>\n",
              "      <td>0.285323</td>\n",
              "      <td>-0.014001</td>\n",
              "      <td>0.118533</td>\n",
              "      <td>-0.047820</td>\n",
              "      <td>-0.007138</td>\n",
              "      <td>-0.156128</td>\n",
              "      <td>0.012097</td>\n",
              "      <td>0.173488</td>\n",
              "      <td>-0.052667</td>\n",
              "      <td>1.000000</td>\n",
              "    </tr>\n",
              "  </tbody>\n",
              "</table>\n",
              "</div>\n",
              "    <div class=\"colab-df-buttons\">\n",
              "\n",
              "  <div class=\"colab-df-container\">\n",
              "    <button class=\"colab-df-convert\" onclick=\"convertToInteractive('df-199d994f-a546-4e8b-a608-158e6b297f78')\"\n",
              "            title=\"Convert this dataframe to an interactive table.\"\n",
              "            style=\"display:none;\">\n",
              "\n",
              "  <svg xmlns=\"http://www.w3.org/2000/svg\" height=\"24px\" viewBox=\"0 -960 960 960\">\n",
              "    <path d=\"M120-120v-720h720v720H120Zm60-500h600v-160H180v160Zm220 220h160v-160H400v160Zm0 220h160v-160H400v160ZM180-400h160v-160H180v160Zm440 0h160v-160H620v160ZM180-180h160v-160H180v160Zm440 0h160v-160H620v160Z\"/>\n",
              "  </svg>\n",
              "    </button>\n",
              "\n",
              "  <style>\n",
              "    .colab-df-container {\n",
              "      display:flex;\n",
              "      gap: 12px;\n",
              "    }\n",
              "\n",
              "    .colab-df-convert {\n",
              "      background-color: #E8F0FE;\n",
              "      border: none;\n",
              "      border-radius: 50%;\n",
              "      cursor: pointer;\n",
              "      display: none;\n",
              "      fill: #1967D2;\n",
              "      height: 32px;\n",
              "      padding: 0 0 0 0;\n",
              "      width: 32px;\n",
              "    }\n",
              "\n",
              "    .colab-df-convert:hover {\n",
              "      background-color: #E2EBFA;\n",
              "      box-shadow: 0px 1px 2px rgba(60, 64, 67, 0.3), 0px 1px 3px 1px rgba(60, 64, 67, 0.15);\n",
              "      fill: #174EA6;\n",
              "    }\n",
              "\n",
              "    .colab-df-buttons div {\n",
              "      margin-bottom: 4px;\n",
              "    }\n",
              "\n",
              "    [theme=dark] .colab-df-convert {\n",
              "      background-color: #3B4455;\n",
              "      fill: #D2E3FC;\n",
              "    }\n",
              "\n",
              "    [theme=dark] .colab-df-convert:hover {\n",
              "      background-color: #434B5C;\n",
              "      box-shadow: 0px 1px 3px 1px rgba(0, 0, 0, 0.15);\n",
              "      filter: drop-shadow(0px 1px 2px rgba(0, 0, 0, 0.3));\n",
              "      fill: #FFFFFF;\n",
              "    }\n",
              "  </style>\n",
              "\n",
              "    <script>\n",
              "      const buttonEl =\n",
              "        document.querySelector('#df-199d994f-a546-4e8b-a608-158e6b297f78 button.colab-df-convert');\n",
              "      buttonEl.style.display =\n",
              "        google.colab.kernel.accessAllowed ? 'block' : 'none';\n",
              "\n",
              "      async function convertToInteractive(key) {\n",
              "        const element = document.querySelector('#df-199d994f-a546-4e8b-a608-158e6b297f78');\n",
              "        const dataTable =\n",
              "          await google.colab.kernel.invokeFunction('convertToInteractive',\n",
              "                                                    [key], {});\n",
              "        if (!dataTable) return;\n",
              "\n",
              "        const docLinkHtml = 'Like what you see? Visit the ' +\n",
              "          '<a target=\"_blank\" href=https://colab.research.google.com/notebooks/data_table.ipynb>data table notebook</a>'\n",
              "          + ' to learn more about interactive tables.';\n",
              "        element.innerHTML = '';\n",
              "        dataTable['output_type'] = 'display_data';\n",
              "        await google.colab.output.renderOutput(dataTable, element);\n",
              "        const docLink = document.createElement('div');\n",
              "        docLink.innerHTML = docLinkHtml;\n",
              "        element.appendChild(docLink);\n",
              "      }\n",
              "    </script>\n",
              "  </div>\n",
              "\n",
              "\n",
              "    <div id=\"df-92f74caa-b2bb-49bc-b791-88a686820d2e\">\n",
              "      <button class=\"colab-df-quickchart\" onclick=\"quickchart('df-92f74caa-b2bb-49bc-b791-88a686820d2e')\"\n",
              "                title=\"Suggest charts\"\n",
              "                style=\"display:none;\">\n",
              "\n",
              "<svg xmlns=\"http://www.w3.org/2000/svg\" height=\"24px\"viewBox=\"0 0 24 24\"\n",
              "     width=\"24px\">\n",
              "    <g>\n",
              "        <path d=\"M19 3H5c-1.1 0-2 .9-2 2v14c0 1.1.9 2 2 2h14c1.1 0 2-.9 2-2V5c0-1.1-.9-2-2-2zM9 17H7v-7h2v7zm4 0h-2V7h2v10zm4 0h-2v-4h2v4z\"/>\n",
              "    </g>\n",
              "</svg>\n",
              "      </button>\n",
              "\n",
              "<style>\n",
              "  .colab-df-quickchart {\n",
              "      --bg-color: #E8F0FE;\n",
              "      --fill-color: #1967D2;\n",
              "      --hover-bg-color: #E2EBFA;\n",
              "      --hover-fill-color: #174EA6;\n",
              "      --disabled-fill-color: #AAA;\n",
              "      --disabled-bg-color: #DDD;\n",
              "  }\n",
              "\n",
              "  [theme=dark] .colab-df-quickchart {\n",
              "      --bg-color: #3B4455;\n",
              "      --fill-color: #D2E3FC;\n",
              "      --hover-bg-color: #434B5C;\n",
              "      --hover-fill-color: #FFFFFF;\n",
              "      --disabled-bg-color: #3B4455;\n",
              "      --disabled-fill-color: #666;\n",
              "  }\n",
              "\n",
              "  .colab-df-quickchart {\n",
              "    background-color: var(--bg-color);\n",
              "    border: none;\n",
              "    border-radius: 50%;\n",
              "    cursor: pointer;\n",
              "    display: none;\n",
              "    fill: var(--fill-color);\n",
              "    height: 32px;\n",
              "    padding: 0;\n",
              "    width: 32px;\n",
              "  }\n",
              "\n",
              "  .colab-df-quickchart:hover {\n",
              "    background-color: var(--hover-bg-color);\n",
              "    box-shadow: 0 1px 2px rgba(60, 64, 67, 0.3), 0 1px 3px 1px rgba(60, 64, 67, 0.15);\n",
              "    fill: var(--button-hover-fill-color);\n",
              "  }\n",
              "\n",
              "  .colab-df-quickchart-complete:disabled,\n",
              "  .colab-df-quickchart-complete:disabled:hover {\n",
              "    background-color: var(--disabled-bg-color);\n",
              "    fill: var(--disabled-fill-color);\n",
              "    box-shadow: none;\n",
              "  }\n",
              "\n",
              "  .colab-df-spinner {\n",
              "    border: 2px solid var(--fill-color);\n",
              "    border-color: transparent;\n",
              "    border-bottom-color: var(--fill-color);\n",
              "    animation:\n",
              "      spin 1s steps(1) infinite;\n",
              "  }\n",
              "\n",
              "  @keyframes spin {\n",
              "    0% {\n",
              "      border-color: transparent;\n",
              "      border-bottom-color: var(--fill-color);\n",
              "      border-left-color: var(--fill-color);\n",
              "    }\n",
              "    20% {\n",
              "      border-color: transparent;\n",
              "      border-left-color: var(--fill-color);\n",
              "      border-top-color: var(--fill-color);\n",
              "    }\n",
              "    30% {\n",
              "      border-color: transparent;\n",
              "      border-left-color: var(--fill-color);\n",
              "      border-top-color: var(--fill-color);\n",
              "      border-right-color: var(--fill-color);\n",
              "    }\n",
              "    40% {\n",
              "      border-color: transparent;\n",
              "      border-right-color: var(--fill-color);\n",
              "      border-top-color: var(--fill-color);\n",
              "    }\n",
              "    60% {\n",
              "      border-color: transparent;\n",
              "      border-right-color: var(--fill-color);\n",
              "    }\n",
              "    80% {\n",
              "      border-color: transparent;\n",
              "      border-right-color: var(--fill-color);\n",
              "      border-bottom-color: var(--fill-color);\n",
              "    }\n",
              "    90% {\n",
              "      border-color: transparent;\n",
              "      border-bottom-color: var(--fill-color);\n",
              "    }\n",
              "  }\n",
              "</style>\n",
              "\n",
              "      <script>\n",
              "        async function quickchart(key) {\n",
              "          const quickchartButtonEl =\n",
              "            document.querySelector('#' + key + ' button');\n",
              "          quickchartButtonEl.disabled = true;  // To prevent multiple clicks.\n",
              "          quickchartButtonEl.classList.add('colab-df-spinner');\n",
              "          try {\n",
              "            const charts = await google.colab.kernel.invokeFunction(\n",
              "                'suggestCharts', [key], {});\n",
              "          } catch (error) {\n",
              "            console.error('Error during call to suggestCharts:', error);\n",
              "          }\n",
              "          quickchartButtonEl.classList.remove('colab-df-spinner');\n",
              "          quickchartButtonEl.classList.add('colab-df-quickchart-complete');\n",
              "        }\n",
              "        (() => {\n",
              "          let quickchartButtonEl =\n",
              "            document.querySelector('#df-92f74caa-b2bb-49bc-b791-88a686820d2e button');\n",
              "          quickchartButtonEl.style.display =\n",
              "            google.colab.kernel.accessAllowed ? 'block' : 'none';\n",
              "        })();\n",
              "      </script>\n",
              "    </div>\n",
              "\n",
              "    </div>\n",
              "  </div>\n"
            ],
            "application/vnd.google.colaboratory.intrinsic+json": {
              "type": "dataframe",
              "summary": "{\n  \"name\": \"v\",\n  \"rows\": 12,\n  \"fields\": [\n    {\n      \"column\": \"CreditScore\",\n      \"properties\": {\n        \"dtype\": \"number\",\n        \"std\": 0.2885565048976205,\n        \"min\": -0.02709353975465728,\n        \"max\": 1.0,\n        \"num_unique_values\": 12,\n        \"samples\": [\n          0.004779770274798537,\n          0.005537552606602655,\n          1.0\n        ],\n        \"semantic_type\": \"\",\n        \"description\": \"\"\n      }\n    },\n    {\n      \"column\": \"Gender\",\n      \"properties\": {\n        \"dtype\": \"number\",\n        \"std\": 0.29385277407900273,\n        \"min\": -0.10651248767347463,\n        \"max\": 1.0,\n        \"num_unique_values\": 12,\n        \"samples\": [\n          0.01688934883520518,\n          -0.02462787939211465,\n          -0.002856620120447605\n        ],\n        \"semantic_type\": \"\",\n        \"description\": \"\"\n      }\n    },\n    {\n      \"column\": \"Age\",\n      \"properties\": {\n        \"dtype\": \"number\",\n        \"std\": 0.29250106199338927,\n        \"min\": -0.030680087961508614,\n        \"max\": 1.0,\n        \"num_unique_values\": 12,\n        \"samples\": [\n          -0.0016853693311735056,\n          0.046897051163985265,\n          -0.003964905525390104\n        ],\n        \"semantic_type\": \"\",\n        \"description\": \"\"\n      }\n    },\n    {\n      \"column\": \"Tenure\",\n      \"properties\": {\n        \"dtype\": \"number\",\n        \"std\": 0.28907728137019373,\n        \"min\": -0.02836207777162841,\n        \"max\": 1.0,\n        \"num_unique_values\": 12,\n        \"samples\": [\n          0.0038684365881730296,\n          -0.0005674977245538801,\n          0.0008419418186461318\n        ],\n        \"semantic_type\": \"\",\n        \"description\": \"\"\n      }\n    },\n    {\n      \"column\": \"Balance\",\n      \"properties\": {\n        \"dtype\": \"number\",\n        \"std\": 0.32834707534847923,\n        \"min\": -0.3041797383605498,\n        \"max\": 1.0,\n        \"num_unique_values\": 12,\n        \"samples\": [\n          -0.1348919107413185,\n          0.40111024516209665,\n          0.0062683816160088975\n        ],\n        \"semantic_type\": \"\",\n        \"description\": \"\"\n      }\n    },\n    {\n      \"column\": \"NumOfProducts\",\n      \"properties\": {\n        \"dtype\": \"number\",\n        \"std\": 0.310746559870999,\n        \"min\": -0.3041797383605498,\n        \"max\": 1.0,\n        \"num_unique_values\": 12,\n        \"samples\": [\n          0.009039007105901314,\n          -0.010419006993647055,\n          0.012237879283267987\n        ],\n        \"semantic_type\": \"\",\n        \"description\": \"\"\n      }\n    },\n    {\n      \"column\": \"HasCrCard\",\n      \"properties\": {\n        \"dtype\": \"number\",\n        \"std\": 0.289748436702378,\n        \"min\": -0.0148583449445987,\n        \"max\": 1.0,\n        \"num_unique_values\": 12,\n        \"samples\": [\n          -0.013479728330052097,\n          0.010576580713803529,\n          -0.005458482094623394\n        ],\n        \"semantic_type\": \"\",\n        \"description\": \"\"\n      }\n    },\n    {\n      \"column\": \"IsActiveMember\",\n      \"properties\": {\n        \"dtype\": \"number\",\n        \"std\": 0.29603875228565846,\n        \"min\": -0.15612827818890554,\n        \"max\": 1.0,\n        \"num_unique_values\": 12,\n        \"samples\": [\n          0.0167318636818743,\n          -0.020485800270395746,\n          0.0256513232831485\n        ],\n        \"semantic_type\": \"\",\n        \"description\": \"\"\n      }\n    },\n    {\n      \"column\": \"EstimatedSalary\",\n      \"properties\": {\n        \"dtype\": \"number\",\n        \"std\": 0.2885095124348444,\n        \"min\": -0.01142143048495656,\n        \"max\": 1.0,\n        \"num_unique_values\": 12,\n        \"samples\": [\n          -0.00648236240772971,\n          0.010297067546982766,\n          -0.0013842928679844149\n        ],\n        \"semantic_type\": \"\",\n        \"description\": \"\"\n      }\n    },\n    {\n      \"column\": \"Germany\",\n      \"properties\": {\n        \"dtype\": \"number\",\n        \"std\": 0.3264977413814418,\n        \"min\": -0.3320839640331286,\n        \"max\": 1.0,\n        \"num_unique_values\": 12,\n        \"samples\": [\n          -0.3320839640331286,\n          1.0,\n          0.005537552606602655\n        ],\n        \"semantic_type\": \"\",\n        \"description\": \"\"\n      }\n    },\n    {\n      \"column\": \"Spain\",\n      \"properties\": {\n        \"dtype\": \"number\",\n        \"std\": 0.3177311758424547,\n        \"min\": -0.3320839640331286,\n        \"max\": 1.0,\n        \"num_unique_values\": 12,\n        \"samples\": [\n          1.0,\n          -0.3320839640331286,\n          0.004779770274798537\n        ],\n        \"semantic_type\": \"\",\n        \"description\": \"\"\n      }\n    },\n    {\n      \"column\": \"Exited\",\n      \"properties\": {\n        \"dtype\": \"number\",\n        \"std\": 0.3092233450182809,\n        \"min\": -0.15612827818890554,\n        \"max\": 1.0,\n        \"num_unique_values\": 12,\n        \"samples\": [\n          -0.05266676206212404,\n          0.17348787015297082,\n          -0.02709353975465728\n        ],\n        \"semantic_type\": \"\",\n        \"description\": \"\"\n      }\n    }\n  ]\n}"
            }
          },
          "metadata": {},
          "execution_count": 37
        }
      ]
    },
    {
      "cell_type": "code",
      "source": [
        "Exited = v.corr()[\"Exited\"].sort_values(ascending=False)\n",
        "print(Exited)"
      ],
      "metadata": {
        "id": "xFYr5Pr6F1wC",
        "colab": {
          "base_uri": "https://localhost:8080/"
        },
        "outputId": "7a60e2d7-fd41-46dd-8ada-d8bb7f4ee785"
      },
      "execution_count": 38,
      "outputs": [
        {
          "output_type": "stream",
          "name": "stdout",
          "text": [
            "Exited             1.000000\n",
            "Age                0.285323\n",
            "Germany            0.173488\n",
            "Balance            0.118533\n",
            "EstimatedSalary    0.012097\n",
            "HasCrCard         -0.007138\n",
            "Tenure            -0.014001\n",
            "CreditScore       -0.027094\n",
            "NumOfProducts     -0.047820\n",
            "Spain             -0.052667\n",
            "Gender            -0.106512\n",
            "IsActiveMember    -0.156128\n",
            "Name: Exited, dtype: float64\n"
          ]
        }
      ]
    },
    {
      "cell_type": "markdown",
      "source": [
        "**positive correlations**"
      ],
      "metadata": {
        "id": "6Erc37vVjgyT"
      }
    },
    {
      "cell_type": "code",
      "source": [
        "corr = v.corr()"
      ],
      "metadata": {
        "id": "CuZBhqkvFqb1"
      },
      "execution_count": 39,
      "outputs": []
    },
    {
      "cell_type": "code",
      "source": [
        "kot = corr[corr >= 0.25]\n",
        "plt.figure(figsize=(12,8))\n",
        "sns.heatmap(kot, cmap=\"Blues\")"
      ],
      "metadata": {
        "id": "w2iGQn01FMle",
        "colab": {
          "base_uri": "https://localhost:8080/",
          "height": 524
        },
        "outputId": "9382b69e-9660-490f-a756-ca296016f7a5"
      },
      "execution_count": 40,
      "outputs": [
        {
          "output_type": "execute_result",
          "data": {
            "text/plain": [
              "<Axes: >"
            ]
          },
          "metadata": {},
          "execution_count": 40
        },
        {
          "output_type": "display_data",
          "data": {
            "text/plain": [
              "<Figure size 1200x800 with 2 Axes>"
            ],
            "image/png": "[encoded data removed]"
          },
          "metadata": {}
        }
      ]
    },
    {
      "cell_type": "markdown",
      "source": [
        "**negative correlation**"
      ],
      "metadata": {
        "id": "50HrV78_jnyu"
      }
    },
    {
      "cell_type": "code",
      "source": [
        "\n",
        "kot = corr[corr <= - 0.25]\n",
        "plt.figure(figsize=(12,8))\n",
        "sns.heatmap(kot, cmap=\"Blues\")\n",
        "\n"
      ],
      "metadata": {
        "id": "Z0VB4wt7KH-R",
        "colab": {
          "base_uri": "https://localhost:8080/",
          "height": 506
        },
        "outputId": "5ed587b7-2695-4726-f250-68a5e88d820b"
      },
      "execution_count": 41,
      "outputs": [
        {
          "output_type": "execute_result",
          "data": {
            "text/plain": [
              "<Axes: >"
            ]
          },
          "metadata": {},
          "execution_count": 41
        },
        {
          "output_type": "display_data",
          "data": {
            "text/plain": [
              "<Figure size 1200x800 with 2 Axes>"
            ],
            "image/png": "[encoded data removed]"
          },
          "metadata": {}
        }
      ]
    },
    {
      "cell_type": "markdown",
      "source": [],
      "metadata": {
        "id": "pv8W158z94U8"
      }
    },
    {
      "cell_type": "markdown",
      "source": [
        "# correlation conclusion"
      ],
      "metadata": {
        "id": "3ahPhGh49yxz"
      }
    },
    {
      "cell_type": "markdown",
      "source": [
        "**correlation conclusion**\n",
        "\n",
        "    1. germany and  balance both have\n",
        "       positive correlation.\n",
        "\n",
        "       interpretation :\n",
        "          customers from Germany tends\n",
        "          to  have  higher account balances.\n",
        "    \n",
        "\n",
        "\n",
        "           2. balance and number of products  have  quite   \n",
        "          negative  correlation .\n",
        "\n",
        "          interpretation :\n",
        "             indicating that customers\n",
        "             with higher balances\n",
        "             usually hold fewer bank products .\n",
        "\n",
        "        \n",
        "\n",
        "\n",
        "\n",
        "           3. age and exited too have positive\n",
        "           correlation.\n",
        "\n",
        "            interpretation :\n",
        "            implying that older\n",
        "            customers  are  more likely to leave (exit) the bank."
      ],
      "metadata": {
        "id": "qZ_qAUgXUIyS"
      }
    },
    {
      "cell_type": "markdown",
      "source": [
        "# Feature Engineering"
      ],
      "metadata": {
        "papermill": {
          "duration": 0.071384,
          "end_time": "2025-10-02T14:17:55.679114",
          "exception": false,
          "start_time": "2025-10-02T14:17:55.607730",
          "status": "completed"
        },
        "tags": [],
        "id": "g39DNGN5xX9K"
      }
    },
    {
      "cell_type": "code",
      "source": [
        "# v['Age_bin'] = pd.cut(v['Age'], bins=[18,30,40,50,60,100], labels=[1,2,3,4,5])\n",
        "# v['Balance_bin'] = pd.qcut(v['Balance'], 4, labels=[1,2,3,4])\n"
      ],
      "metadata": {
        "id": "uThLeyCwdI8X"
      },
      "execution_count": 42,
      "outputs": []
    },
    {
      "cell_type": "markdown",
      "source": [
        "**log transformation of numerical column**"
      ],
      "metadata": {
        "id": "FSfdASsXByoL"
      }
    },
    {
      "cell_type": "code",
      "source": [
        "# log transformation of Age , estimated salary and balance column\n",
        "\n",
        "v['Log_Balance'] = np.log1p(v['Balance'])\n",
        "v['Sqrt_EstimatedSalary'] = np.sqrt(v['EstimatedSalary'])\n",
        "v['Log_Age'] = np.log1p(v['Age'])\n",
        "\n"
      ],
      "metadata": {
        "id": "AlSycgAPcm_s"
      },
      "execution_count": 43,
      "outputs": []
    },
    {
      "cell_type": "markdown",
      "source": [
        "**Merdging features for better predictions**"
      ],
      "metadata": {
        "id": "VVvbkt5WCjuZ"
      }
    },
    {
      "cell_type": "code",
      "source": [
        "# Example: avg_balance_per_product\n",
        "v['Balance_per_Product'] = v['Balance'] / (v['NumOfProducts'] + 1)  # +1 avoid division by zero\n",
        "v['Non_France'] = v['Germany'] | v['Spain']\n",
        "v['Age_Balance'] = v['Age'] * v['Balance']\n",
        "v['CreditScore_IsActive'] = v['CreditScore'] * v['IsActiveMember']\n",
        "v['Tenure_NumOfProducts'] = v['Tenure'] * v['NumOfProducts']\n",
        "v['Age_Gender'] = v['Age'] * v['Gender']\n",
        "# v['Balance_Salary_Ratio'] = v['Balance'] / (v['EstimatedSalary'] + 1)\n",
        "v['Non_France'] = v['Germany'] | v['Spain']\n",
        "# v[\"CreditScore_to_Age\"] = v[\"CreditScore\"] / (v[\"Age\"] + 1)\n"
      ],
      "metadata": {
        "id": "NjbcGVSQZNgi"
      },
      "execution_count": 44,
      "outputs": []
    },
    {
      "cell_type": "code",
      "source": [
        "v.head(1)"
      ],
      "metadata": {
        "id": "dU2CKMHRZybI",
        "colab": {
          "base_uri": "https://localhost:8080/",
          "height": 130
        },
        "outputId": "1d756093-fb40-4935-b9c6-932e6e26dd59"
      },
      "execution_count": 45,
      "outputs": [
        {
          "output_type": "execute_result",
          "data": {
            "text/plain": [
              "   CreditScore  Gender  Age  Tenure  Balance  NumOfProducts  HasCrCard  \\\n",
              "0          619       0   42       2      0.0              1          1   \n",
              "\n",
              "   IsActiveMember  EstimatedSalary  Germany  ...  Exited  Log_Balance  \\\n",
              "0               1        101348.88        0  ...       1          0.0   \n",
              "\n",
              "   Sqrt_EstimatedSalary  Log_Age  Balance_per_Product  Non_France  \\\n",
              "0            318.353389   3.7612                  0.0           0   \n",
              "\n",
              "   Age_Balance  CreditScore_IsActive  Tenure_NumOfProducts  Age_Gender  \n",
              "0          0.0                   619                     2           0  \n",
              "\n",
              "[1 rows x 21 columns]"
            ],
            "text/html": [
              "\n",
              "  <div id=\"df-0f7f7a21-e778-4cb8-861d-ac277d30e531\" class=\"colab-df-container\">\n",
              "    <div>\n",
              "<style scoped>\n",
              "    .dataframe tbody tr th:only-of-type {\n",
              "        vertical-align: middle;\n",
              "    }\n",
              "\n",
              "    .dataframe tbody tr th {\n",
              "        vertical-align: top;\n",
              "    }\n",
              "\n",
              "    .dataframe thead th {\n",
              "        text-align: right;\n",
              "    }\n",
              "</style>\n",
              "<table border=\"1\" class=\"dataframe\">\n",
              "  <thead>\n",
              "    <tr style=\"text-align: right;\">\n",
              "      <th></th>\n",
              "      <th>CreditScore</th>\n",
              "      <th>Gender</th>\n",
              "      <th>Age</th>\n",
              "      <th>Tenure</th>\n",
              "      <th>Balance</th>\n",
              "      <th>NumOfProducts</th>\n",
              "      <th>HasCrCard</th>\n",
              "      <th>IsActiveMember</th>\n",
              "      <th>EstimatedSalary</th>\n",
              "      <th>Germany</th>\n",
              "      <th>...</th>\n",
              "      <th>Exited</th>\n",
              "      <th>Log_Balance</th>\n",
              "      <th>Sqrt_EstimatedSalary</th>\n",
              "      <th>Log_Age</th>\n",
              "      <th>Balance_per_Product</th>\n",
              "      <th>Non_France</th>\n",
              "      <th>Age_Balance</th>\n",
              "      <th>CreditScore_IsActive</th>\n",
              "      <th>Tenure_NumOfProducts</th>\n",
              "      <th>Age_Gender</th>\n",
              "    </tr>\n",
              "  </thead>\n",
              "  <tbody>\n",
              "    <tr>\n",
              "      <th>0</th>\n",
              "      <td>619</td>\n",
              "      <td>0</td>\n",
              "      <td>42</td>\n",
              "      <td>2</td>\n",
              "      <td>0.0</td>\n",
              "      <td>1</td>\n",
              "      <td>1</td>\n",
              "      <td>1</td>\n",
              "      <td>101348.88</td>\n",
              "      <td>0</td>\n",
              "      <td>...</td>\n",
              "      <td>1</td>\n",
              "      <td>0.0</td>\n",
              "      <td>318.353389</td>\n",
              "      <td>3.7612</td>\n",
              "      <td>0.0</td>\n",
              "      <td>0</td>\n",
              "      <td>0.0</td>\n",
              "      <td>619</td>\n",
              "      <td>2</td>\n",
              "      <td>0</td>\n",
              "    </tr>\n",
              "  </tbody>\n",
              "</table>\n",
              "<p>1 rows × 21 columns</p>\n",
              "</div>\n",
              "    <div class=\"colab-df-buttons\">\n",
              "\n",
              "  <div class=\"colab-df-container\">\n",
              "    <button class=\"colab-df-convert\" onclick=\"convertToInteractive('df-0f7f7a21-e778-4cb8-861d-ac277d30e531')\"\n",
              "            title=\"Convert this dataframe to an interactive table.\"\n",
              "            style=\"display:none;\">\n",
              "\n",
              "  <svg xmlns=\"http://www.w3.org/2000/svg\" height=\"24px\" viewBox=\"0 -960 960 960\">\n",
              "    <path d=\"M120-120v-720h720v720H120Zm60-500h600v-160H180v160Zm220 220h160v-160H400v160Zm0 220h160v-160H400v160ZM180-400h160v-160H180v160Zm440 0h160v-160H620v160ZM180-180h160v-160H180v160Zm440 0h160v-160H620v160Z\"/>\n",
              "  </svg>\n",
              "    </button>\n",
              "\n",
              "  <style>\n",
              "    .colab-df-container {\n",
              "      display:flex;\n",
              "      gap: 12px;\n",
              "    }\n",
              "\n",
              "    .colab-df-convert {\n",
              "      background-color: #E8F0FE;\n",
              "      border: none;\n",
              "      border-radius: 50%;\n",
              "      cursor: pointer;\n",
              "      display: none;\n",
              "      fill: #1967D2;\n",
              "      height: 32px;\n",
              "      padding: 0 0 0 0;\n",
              "      width: 32px;\n",
              "    }\n",
              "\n",
              "    .colab-df-convert:hover {\n",
              "      background-color: #E2EBFA;\n",
              "      box-shadow: 0px 1px 2px rgba(60, 64, 67, 0.3), 0px 1px 3px 1px rgba(60, 64, 67, 0.15);\n",
              "      fill: #174EA6;\n",
              "    }\n",
              "\n",
              "    .colab-df-buttons div {\n",
              "      margin-bottom: 4px;\n",
              "    }\n",
              "\n",
              "    [theme=dark] .colab-df-convert {\n",
              "      background-color: #3B4455;\n",
              "      fill: #D2E3FC;\n",
              "    }\n",
              "\n",
              "    [theme=dark] .colab-df-convert:hover {\n",
              "      background-color: #434B5C;\n",
              "      box-shadow: 0px 1px 3px 1px rgba(0, 0, 0, 0.15);\n",
              "      filter: drop-shadow(0px 1px 2px rgba(0, 0, 0, 0.3));\n",
              "      fill: #FFFFFF;\n",
              "    }\n",
              "  </style>\n",
              "\n",
              "    <script>\n",
              "      const buttonEl =\n",
              "        document.querySelector('#df-0f7f7a21-e778-4cb8-861d-ac277d30e531 button.colab-df-convert');\n",
              "      buttonEl.style.display =\n",
              "        google.colab.kernel.accessAllowed ? 'block' : 'none';\n",
              "\n",
              "      async function convertToInteractive(key) {\n",
              "        const element = document.querySelector('#df-0f7f7a21-e778-4cb8-861d-ac277d30e531');\n",
              "        const dataTable =\n",
              "          await google.colab.kernel.invokeFunction('convertToInteractive',\n",
              "                                                    [key], {});\n",
              "        if (!dataTable) return;\n",
              "\n",
              "        const docLinkHtml = 'Like what you see? Visit the ' +\n",
              "          '<a target=\"_blank\" href=https://colab.research.google.com/notebooks/data_table.ipynb>data table notebook</a>'\n",
              "          + ' to learn more about interactive tables.';\n",
              "        element.innerHTML = '';\n",
              "        dataTable['output_type'] = 'display_data';\n",
              "        await google.colab.output.renderOutput(dataTable, element);\n",
              "        const docLink = document.createElement('div');\n",
              "        docLink.innerHTML = docLinkHtml;\n",
              "        element.appendChild(docLink);\n",
              "      }\n",
              "    </script>\n",
              "  </div>\n",
              "\n",
              "\n",
              "    </div>\n",
              "  </div>\n"
            ],
            "application/vnd.google.colaboratory.intrinsic+json": {
              "type": "dataframe",
              "variable_name": "v"
            }
          },
          "metadata": {},
          "execution_count": 45
        }
      ]
    },
    {
      "cell_type": "code",
      "source": [
        "v.drop([\"Tenure\" ,\t\"NumOfProducts\" ,\t\"HasCrCard\" , \t\"IsActiveMember\" \t,\"EstimatedSalary\"], axis=1).head(1)"
      ],
      "metadata": {
        "id": "9KfaMI8RuSka",
        "colab": {
          "base_uri": "https://localhost:8080/",
          "height": 101
        },
        "outputId": "c202c63a-a966-4cad-8af4-be38aa5ec3b5"
      },
      "execution_count": 46,
      "outputs": [
        {
          "output_type": "execute_result",
          "data": {
            "text/plain": [
              "   CreditScore  Gender  Age  Balance  Germany  Spain  Exited  Log_Balance  \\\n",
              "0          619       0   42      0.0        0      0       1          0.0   \n",
              "\n",
              "   Sqrt_EstimatedSalary  Log_Age  Balance_per_Product  Non_France  \\\n",
              "0            318.353389   3.7612                  0.0           0   \n",
              "\n",
              "   Age_Balance  CreditScore_IsActive  Tenure_NumOfProducts  Age_Gender  \n",
              "0          0.0                   619                     2           0  "
            ],
            "text/html": [
              "\n",
              "  <div id=\"df-ea78f3c9-f400-4c82-abd6-910734e92afa\" class=\"colab-df-container\">\n",
              "    <div>\n",
              "<style scoped>\n",
              "    .dataframe tbody tr th:only-of-type {\n",
              "        vertical-align: middle;\n",
              "    }\n",
              "\n",
              "    .dataframe tbody tr th {\n",
              "        vertical-align: top;\n",
              "    }\n",
              "\n",
              "    .dataframe thead th {\n",
              "        text-align: right;\n",
              "    }\n",
              "</style>\n",
              "<table border=\"1\" class=\"dataframe\">\n",
              "  <thead>\n",
              "    <tr style=\"text-align: right;\">\n",
              "      <th></th>\n",
              "      <th>CreditScore</th>\n",
              "      <th>Gender</th>\n",
              "      <th>Age</th>\n",
              "      <th>Balance</th>\n",
              "      <th>Germany</th>\n",
              "      <th>Spain</th>\n",
              "      <th>Exited</th>\n",
              "      <th>Log_Balance</th>\n",
              "      <th>Sqrt_EstimatedSalary</th>\n",
              "      <th>Log_Age</th>\n",
              "      <th>Balance_per_Product</th>\n",
              "      <th>Non_France</th>\n",
              "      <th>Age_Balance</th>\n",
              "      <th>CreditScore_IsActive</th>\n",
              "      <th>Tenure_NumOfProducts</th>\n",
              "      <th>Age_Gender</th>\n",
              "    </tr>\n",
              "  </thead>\n",
              "  <tbody>\n",
              "    <tr>\n",
              "      <th>0</th>\n",
              "      <td>619</td>\n",
              "      <td>0</td>\n",
              "      <td>42</td>\n",
              "      <td>0.0</td>\n",
              "      <td>0</td>\n",
              "      <td>0</td>\n",
              "      <td>1</td>\n",
              "      <td>0.0</td>\n",
              "      <td>318.353389</td>\n",
              "      <td>3.7612</td>\n",
              "      <td>0.0</td>\n",
              "      <td>0</td>\n",
              "      <td>0.0</td>\n",
              "      <td>619</td>\n",
              "      <td>2</td>\n",
              "      <td>0</td>\n",
              "    </tr>\n",
              "  </tbody>\n",
              "</table>\n",
              "</div>\n",
              "    <div class=\"colab-df-buttons\">\n",
              "\n",
              "  <div class=\"colab-df-container\">\n",
              "    <button class=\"colab-df-convert\" onclick=\"convertToInteractive('df-ea78f3c9-f400-4c82-abd6-910734e92afa')\"\n",
              "            title=\"Convert this dataframe to an interactive table.\"\n",
              "            style=\"display:none;\">\n",
              "\n",
              "  <svg xmlns=\"http://www.w3.org/2000/svg\" height=\"24px\" viewBox=\"0 -960 960 960\">\n",
              "    <path d=\"M120-120v-720h720v720H120Zm60-500h600v-160H180v160Zm220 220h160v-160H400v160Zm0 220h160v-160H400v160ZM180-400h160v-160H180v160Zm440 0h160v-160H620v160ZM180-180h160v-160H180v160Zm440 0h160v-160H620v160Z\"/>\n",
              "  </svg>\n",
              "    </button>\n",
              "\n",
              "  <style>\n",
              "    .colab-df-container {\n",
              "      display:flex;\n",
              "      gap: 12px;\n",
              "    }\n",
              "\n",
              "    .colab-df-convert {\n",
              "      background-color: #E8F0FE;\n",
              "      border: none;\n",
              "      border-radius: 50%;\n",
              "      cursor: pointer;\n",
              "      display: none;\n",
              "      fill: #1967D2;\n",
              "      height: 32px;\n",
              "      padding: 0 0 0 0;\n",
              "      width: 32px;\n",
              "    }\n",
              "\n",
              "    .colab-df-convert:hover {\n",
              "      background-color: #E2EBFA;\n",
              "      box-shadow: 0px 1px 2px rgba(60, 64, 67, 0.3), 0px 1px 3px 1px rgba(60, 64, 67, 0.15);\n",
              "      fill: #174EA6;\n",
              "    }\n",
              "\n",
              "    .colab-df-buttons div {\n",
              "      margin-bottom: 4px;\n",
              "    }\n",
              "\n",
              "    [theme=dark] .colab-df-convert {\n",
              "      background-color: #3B4455;\n",
              "      fill: #D2E3FC;\n",
              "    }\n",
              "\n",
              "    [theme=dark] .colab-df-convert:hover {\n",
              "      background-color: #434B5C;\n",
              "      box-shadow: 0px 1px 3px 1px rgba(0, 0, 0, 0.15);\n",
              "      filter: drop-shadow(0px 1px 2px rgba(0, 0, 0, 0.3));\n",
              "      fill: #FFFFFF;\n",
              "    }\n",
              "  </style>\n",
              "\n",
              "    <script>\n",
              "      const buttonEl =\n",
              "        document.querySelector('#df-ea78f3c9-f400-4c82-abd6-910734e92afa button.colab-df-convert');\n",
              "      buttonEl.style.display =\n",
              "        google.colab.kernel.accessAllowed ? 'block' : 'none';\n",
              "\n",
              "      async function convertToInteractive(key) {\n",
              "        const element = document.querySelector('#df-ea78f3c9-f400-4c82-abd6-910734e92afa');\n",
              "        const dataTable =\n",
              "          await google.colab.kernel.invokeFunction('convertToInteractive',\n",
              "                                                    [key], {});\n",
              "        if (!dataTable) return;\n",
              "\n",
              "        const docLinkHtml = 'Like what you see? Visit the ' +\n",
              "          '<a target=\"_blank\" href=https://colab.research.google.com/notebooks/data_table.ipynb>data table notebook</a>'\n",
              "          + ' to learn more about interactive tables.';\n",
              "        element.innerHTML = '';\n",
              "        dataTable['output_type'] = 'display_data';\n",
              "        await google.colab.output.renderOutput(dataTable, element);\n",
              "        const docLink = document.createElement('div');\n",
              "        docLink.innerHTML = docLinkHtml;\n",
              "        element.appendChild(docLink);\n",
              "      }\n",
              "    </script>\n",
              "  </div>\n",
              "\n",
              "\n",
              "    </div>\n",
              "  </div>\n"
            ],
            "application/vnd.google.colaboratory.intrinsic+json": {
              "type": "dataframe",
              "summary": "{\n  \"name\": \"v\",\n  \"rows\": 1,\n  \"fields\": [\n    {\n      \"column\": \"CreditScore\",\n      \"properties\": {\n        \"dtype\": \"number\",\n        \"std\": null,\n        \"min\": 619,\n        \"max\": 619,\n        \"num_unique_values\": 1,\n        \"samples\": [\n          619\n        ],\n        \"semantic_type\": \"\",\n        \"description\": \"\"\n      }\n    },\n    {\n      \"column\": \"Gender\",\n      \"properties\": {\n        \"dtype\": \"number\",\n        \"std\": null,\n        \"min\": 0,\n        \"max\": 0,\n        \"num_unique_values\": 1,\n        \"samples\": [\n          0\n        ],\n        \"semantic_type\": \"\",\n        \"description\": \"\"\n      }\n    },\n    {\n      \"column\": \"Age\",\n      \"properties\": {\n        \"dtype\": \"number\",\n        \"std\": null,\n        \"min\": 42,\n        \"max\": 42,\n        \"num_unique_values\": 1,\n        \"samples\": [\n          42\n        ],\n        \"semantic_type\": \"\",\n        \"description\": \"\"\n      }\n    },\n    {\n      \"column\": \"Balance\",\n      \"properties\": {\n        \"dtype\": \"number\",\n        \"std\": null,\n        \"min\": 0.0,\n        \"max\": 0.0,\n        \"num_unique_values\": 1,\n        \"samples\": [\n          0.0\n        ],\n        \"semantic_type\": \"\",\n        \"description\": \"\"\n      }\n    },\n    {\n      \"column\": \"Germany\",\n      \"properties\": {\n        \"dtype\": \"number\",\n        \"std\": null,\n        \"min\": 0,\n        \"max\": 0,\n        \"num_unique_values\": 1,\n        \"samples\": [\n          0\n        ],\n        \"semantic_type\": \"\",\n        \"description\": \"\"\n      }\n    },\n    {\n      \"column\": \"Spain\",\n      \"properties\": {\n        \"dtype\": \"number\",\n        \"std\": null,\n        \"min\": 0,\n        \"max\": 0,\n        \"num_unique_values\": 1,\n        \"samples\": [\n          0\n        ],\n        \"semantic_type\": \"\",\n        \"description\": \"\"\n      }\n    },\n    {\n      \"column\": \"Exited\",\n      \"properties\": {\n        \"dtype\": \"number\",\n        \"std\": null,\n        \"min\": 1,\n        \"max\": 1,\n        \"num_unique_values\": 1,\n        \"samples\": [\n          1\n        ],\n        \"semantic_type\": \"\",\n        \"description\": \"\"\n      }\n    },\n    {\n      \"column\": \"Log_Balance\",\n      \"properties\": {\n        \"dtype\": \"number\",\n        \"std\": null,\n        \"min\": 0.0,\n        \"max\": 0.0,\n        \"num_unique_values\": 1,\n        \"samples\": [\n          0.0\n        ],\n        \"semantic_type\": \"\",\n        \"description\": \"\"\n      }\n    },\n    {\n      \"column\": \"Sqrt_EstimatedSalary\",\n      \"properties\": {\n        \"dtype\": \"number\",\n        \"std\": null,\n        \"min\": 318.35338854800966,\n        \"max\": 318.35338854800966,\n        \"num_unique_values\": 1,\n        \"samples\": [\n          318.35338854800966\n        ],\n        \"semantic_type\": \"\",\n        \"description\": \"\"\n      }\n    },\n    {\n      \"column\": \"Log_Age\",\n      \"properties\": {\n        \"dtype\": \"number\",\n        \"std\": null,\n        \"min\": 3.7612001156935624,\n        \"max\": 3.7612001156935624,\n        \"num_unique_values\": 1,\n        \"samples\": [\n          3.7612001156935624\n        ],\n        \"semantic_type\": \"\",\n        \"description\": \"\"\n      }\n    },\n    {\n      \"column\": \"Balance_per_Product\",\n      \"properties\": {\n        \"dtype\": \"number\",\n        \"std\": null,\n        \"min\": 0.0,\n        \"max\": 0.0,\n        \"num_unique_values\": 1,\n        \"samples\": [\n          0.0\n        ],\n        \"semantic_type\": \"\",\n        \"description\": \"\"\n      }\n    },\n    {\n      \"column\": \"Non_France\",\n      \"properties\": {\n        \"dtype\": \"number\",\n        \"std\": null,\n        \"min\": 0,\n        \"max\": 0,\n        \"num_unique_values\": 1,\n        \"samples\": [\n          0\n        ],\n        \"semantic_type\": \"\",\n        \"description\": \"\"\n      }\n    },\n    {\n      \"column\": \"Age_Balance\",\n      \"properties\": {\n        \"dtype\": \"number\",\n        \"std\": null,\n        \"min\": 0.0,\n        \"max\": 0.0,\n        \"num_unique_values\": 1,\n        \"samples\": [\n          0.0\n        ],\n        \"semantic_type\": \"\",\n        \"description\": \"\"\n      }\n    },\n    {\n      \"column\": \"CreditScore_IsActive\",\n      \"properties\": {\n        \"dtype\": \"number\",\n        \"std\": null,\n        \"min\": 619,\n        \"max\": 619,\n        \"num_unique_values\": 1,\n        \"samples\": [\n          619\n        ],\n        \"semantic_type\": \"\",\n        \"description\": \"\"\n      }\n    },\n    {\n      \"column\": \"Tenure_NumOfProducts\",\n      \"properties\": {\n        \"dtype\": \"number\",\n        \"std\": null,\n        \"min\": 2,\n        \"max\": 2,\n        \"num_unique_values\": 1,\n        \"samples\": [\n          2\n        ],\n        \"semantic_type\": \"\",\n        \"description\": \"\"\n      }\n    },\n    {\n      \"column\": \"Age_Gender\",\n      \"properties\": {\n        \"dtype\": \"number\",\n        \"std\": null,\n        \"min\": 0,\n        \"max\": 0,\n        \"num_unique_values\": 1,\n        \"samples\": [\n          0\n        ],\n        \"semantic_type\": \"\",\n        \"description\": \"\"\n      }\n    }\n  ]\n}"
            }
          },
          "metadata": {},
          "execution_count": 46
        }
      ]
    },
    {
      "cell_type": "code",
      "source": [
        "# # Drop original Germany & Spain columns and 2 more columns\n",
        "# v.drop(['Germany', 'Spain'], axis=1).head(1)"
      ],
      "metadata": {
        "id": "Nc-qtF9naMuL"
      },
      "execution_count": 47,
      "outputs": []
    },
    {
      "cell_type": "code",
      "source": [
        "# 'Exited' column ko last me move karna\n",
        "col = v.pop('Exited')\n",
        "v['Exited'] = col"
      ],
      "metadata": {
        "id": "0BfR7ZiejEeD"
      },
      "execution_count": 48,
      "outputs": []
    },
    {
      "cell_type": "code",
      "source": [
        "v.head(1)"
      ],
      "metadata": {
        "id": "78YIlJV_jFdm",
        "colab": {
          "base_uri": "https://localhost:8080/",
          "height": 130
        },
        "outputId": "fcfc80cb-88e0-43b6-cee1-4479d592db70"
      },
      "execution_count": 49,
      "outputs": [
        {
          "output_type": "execute_result",
          "data": {
            "text/plain": [
              "   CreditScore  Gender  Age  Tenure  Balance  NumOfProducts  HasCrCard  \\\n",
              "0          619       0   42       2      0.0              1          1   \n",
              "\n",
              "   IsActiveMember  EstimatedSalary  Germany  ...  Log_Balance  \\\n",
              "0               1        101348.88        0  ...          0.0   \n",
              "\n",
              "   Sqrt_EstimatedSalary  Log_Age  Balance_per_Product  Non_France  \\\n",
              "0            318.353389   3.7612                  0.0           0   \n",
              "\n",
              "   Age_Balance  CreditScore_IsActive  Tenure_NumOfProducts  Age_Gender  Exited  \n",
              "0          0.0                   619                     2           0       1  \n",
              "\n",
              "[1 rows x 21 columns]"
            ],
            "text/html": [
              "\n",
              "  <div id=\"df-f90d762d-0bc9-496c-b3db-6422d24d477b\" class=\"colab-df-container\">\n",
              "    <div>\n",
              "<style scoped>\n",
              "    .dataframe tbody tr th:only-of-type {\n",
              "        vertical-align: middle;\n",
              "    }\n",
              "\n",
              "    .dataframe tbody tr th {\n",
              "        vertical-align: top;\n",
              "    }\n",
              "\n",
              "    .dataframe thead th {\n",
              "        text-align: right;\n",
              "    }\n",
              "</style>\n",
              "<table border=\"1\" class=\"dataframe\">\n",
              "  <thead>\n",
              "    <tr style=\"text-align: right;\">\n",
              "      <th></th>\n",
              "      <th>CreditScore</th>\n",
              "      <th>Gender</th>\n",
              "      <th>Age</th>\n",
              "      <th>Tenure</th>\n",
              "      <th>Balance</th>\n",
              "      <th>NumOfProducts</th>\n",
              "      <th>HasCrCard</th>\n",
              "      <th>IsActiveMember</th>\n",
              "      <th>EstimatedSalary</th>\n",
              "      <th>Germany</th>\n",
              "      <th>...</th>\n",
              "      <th>Log_Balance</th>\n",
              "      <th>Sqrt_EstimatedSalary</th>\n",
              "      <th>Log_Age</th>\n",
              "      <th>Balance_per_Product</th>\n",
              "      <th>Non_France</th>\n",
              "      <th>Age_Balance</th>\n",
              "      <th>CreditScore_IsActive</th>\n",
              "      <th>Tenure_NumOfProducts</th>\n",
              "      <th>Age_Gender</th>\n",
              "      <th>Exited</th>\n",
              "    </tr>\n",
              "  </thead>\n",
              "  <tbody>\n",
              "    <tr>\n",
              "      <th>0</th>\n",
              "      <td>619</td>\n",
              "      <td>0</td>\n",
              "      <td>42</td>\n",
              "      <td>2</td>\n",
              "      <td>0.0</td>\n",
              "      <td>1</td>\n",
              "      <td>1</td>\n",
              "      <td>1</td>\n",
              "      <td>101348.88</td>\n",
              "      <td>0</td>\n",
              "      <td>...</td>\n",
              "      <td>0.0</td>\n",
              "      <td>318.353389</td>\n",
              "      <td>3.7612</td>\n",
              "      <td>0.0</td>\n",
              "      <td>0</td>\n",
              "      <td>0.0</td>\n",
              "      <td>619</td>\n",
              "      <td>2</td>\n",
              "      <td>0</td>\n",
              "      <td>1</td>\n",
              "    </tr>\n",
              "  </tbody>\n",
              "</table>\n",
              "<p>1 rows × 21 columns</p>\n",
              "</div>\n",
              "    <div class=\"colab-df-buttons\">\n",
              "\n",
              "  <div class=\"colab-df-container\">\n",
              "    <button class=\"colab-df-convert\" onclick=\"convertToInteractive('df-f90d762d-0bc9-496c-b3db-6422d24d477b')\"\n",
              "            title=\"Convert this dataframe to an interactive table.\"\n",
              "            style=\"display:none;\">\n",
              "\n",
              "  <svg xmlns=\"http://www.w3.org/2000/svg\" height=\"24px\" viewBox=\"0 -960 960 960\">\n",
              "    <path d=\"M120-120v-720h720v720H120Zm60-500h600v-160H180v160Zm220 220h160v-160H400v160Zm0 220h160v-160H400v160ZM180-400h160v-160H180v160Zm440 0h160v-160H620v160ZM180-180h160v-160H180v160Zm440 0h160v-160H620v160Z\"/>\n",
              "  </svg>\n",
              "    </button>\n",
              "\n",
              "  <style>\n",
              "    .colab-df-container {\n",
              "      display:flex;\n",
              "      gap: 12px;\n",
              "    }\n",
              "\n",
              "    .colab-df-convert {\n",
              "      background-color: #E8F0FE;\n",
              "      border: none;\n",
              "      border-radius: 50%;\n",
              "      cursor: pointer;\n",
              "      display: none;\n",
              "      fill: #1967D2;\n",
              "      height: 32px;\n",
              "      padding: 0 0 0 0;\n",
              "      width: 32px;\n",
              "    }\n",
              "\n",
              "    .colab-df-convert:hover {\n",
              "      background-color: #E2EBFA;\n",
              "      box-shadow: 0px 1px 2px rgba(60, 64, 67, 0.3), 0px 1px 3px 1px rgba(60, 64, 67, 0.15);\n",
              "      fill: #174EA6;\n",
              "    }\n",
              "\n",
              "    .colab-df-buttons div {\n",
              "      margin-bottom: 4px;\n",
              "    }\n",
              "\n",
              "    [theme=dark] .colab-df-convert {\n",
              "      background-color: #3B4455;\n",
              "      fill: #D2E3FC;\n",
              "    }\n",
              "\n",
              "    [theme=dark] .colab-df-convert:hover {\n",
              "      background-color: #434B5C;\n",
              "      box-shadow: 0px 1px 3px 1px rgba(0, 0, 0, 0.15);\n",
              "      filter: drop-shadow(0px 1px 2px rgba(0, 0, 0, 0.3));\n",
              "      fill: #FFFFFF;\n",
              "    }\n",
              "  </style>\n",
              "\n",
              "    <script>\n",
              "      const buttonEl =\n",
              "        document.querySelector('#df-f90d762d-0bc9-496c-b3db-6422d24d477b button.colab-df-convert');\n",
              "      buttonEl.style.display =\n",
              "        google.colab.kernel.accessAllowed ? 'block' : 'none';\n",
              "\n",
              "      async function convertToInteractive(key) {\n",
              "        const element = document.querySelector('#df-f90d762d-0bc9-496c-b3db-6422d24d477b');\n",
              "        const dataTable =\n",
              "          await google.colab.kernel.invokeFunction('convertToInteractive',\n",
              "                                                    [key], {});\n",
              "        if (!dataTable) return;\n",
              "\n",
              "        const docLinkHtml = 'Like what you see? Visit the ' +\n",
              "          '<a target=\"_blank\" href=https://colab.research.google.com/notebooks/data_table.ipynb>data table notebook</a>'\n",
              "          + ' to learn more about interactive tables.';\n",
              "        element.innerHTML = '';\n",
              "        dataTable['output_type'] = 'display_data';\n",
              "        await google.colab.output.renderOutput(dataTable, element);\n",
              "        const docLink = document.createElement('div');\n",
              "        docLink.innerHTML = docLinkHtml;\n",
              "        element.appendChild(docLink);\n",
              "      }\n",
              "    </script>\n",
              "  </div>\n",
              "\n",
              "\n",
              "    </div>\n",
              "  </div>\n"
            ],
            "application/vnd.google.colaboratory.intrinsic+json": {
              "type": "dataframe",
              "variable_name": "v"
            }
          },
          "metadata": {},
          "execution_count": 49
        }
      ]
    },
    {
      "cell_type": "markdown",
      "source": [
        "# Data Preprocessing"
      ],
      "metadata": {
        "id": "r7OU4TIsFDWM"
      }
    },
    {
      "cell_type": "markdown",
      "source": [
        "**splitting the data**"
      ],
      "metadata": {
        "id": "hN1bv9iHnKZw"
      }
    },
    {
      "cell_type": "code",
      "source": [
        "\n",
        "x = v.drop([\"Exited\"], axis=1)\n",
        "y = v[\"Exited\"]"
      ],
      "metadata": {
        "id": "DoCak5Fbm8z-"
      },
      "execution_count": 50,
      "outputs": []
    },
    {
      "cell_type": "markdown",
      "source": [
        "**handling imbalanced Dataset**\n",
        "                   \n",
        "           we shall handle this problem\n",
        "           by making synthetic datapoints\n",
        "           by using Adasyn concepts...."
      ],
      "metadata": {
        "id": "tp9AQRfZlFeN"
      }
    },
    {
      "cell_type": "code",
      "source": [
        "#   adasyn function\n",
        "\n",
        "\n",
        "from imblearn.over_sampling import ADASYN\n",
        "adasyn = ADASYN(random_state=42)\n",
        "x , y = adasyn.fit_resample(x , y)\n",
        "\n",
        "\n",
        "\n",
        "# smote function\n",
        "\n",
        "# from imblearn.over_sampling import SMOTE\n",
        "# sm = SMOTE(random_state=42)\n",
        "# x , y = sm.fit_resample(x, y)\n"
      ],
      "metadata": {
        "id": "MsBospUJmvMj"
      },
      "execution_count": 51,
      "outputs": []
    },
    {
      "cell_type": "markdown",
      "source": [
        "**train test splitting**"
      ],
      "metadata": {
        "papermill": {
          "duration": 0.009942,
          "end_time": "2025-10-02T14:17:55.989189",
          "exception": false,
          "start_time": "2025-10-02T14:17:55.979247",
          "status": "completed"
        },
        "tags": [],
        "id": "jnjICUBSxX9L"
      }
    },
    {
      "cell_type": "code",
      "source": [
        "# splitting the dataset into Training set and test set\n",
        "from sklearn.model_selection import train_test_split\n",
        "x_train , x_test , y_train , y_test = train_test_split (x , y , test_size = 0.25 , random_state = 42)"
      ],
      "metadata": {
        "execution": {
          "iopub.status.busy": "2025-10-21T07:26:52.379444Z",
          "iopub.execute_input": "2025-10-21T07:26:52.379757Z",
          "iopub.status.idle": "2025-10-21T07:26:52.609309Z",
          "shell.execute_reply.started": "2025-10-21T07:26:52.379730Z",
          "shell.execute_reply": "2025-10-21T07:26:52.608250Z"
        },
        "papermill": {
          "duration": 0.311911,
          "end_time": "2025-10-02T14:17:56.311450",
          "exception": false,
          "start_time": "2025-10-02T14:17:55.999539",
          "status": "completed"
        },
        "tags": [],
        "trusted": true,
        "id": "17J7yCkjxX9L"
      },
      "outputs": [],
      "execution_count": 52
    },
    {
      "cell_type": "markdown",
      "source": [
        "**scaling**"
      ],
      "metadata": {
        "papermill": {
          "duration": 0.009824,
          "end_time": "2025-10-02T14:17:56.331652",
          "exception": false,
          "start_time": "2025-10-02T14:17:56.321828",
          "status": "completed"
        },
        "tags": [],
        "id": "uNFWfRJwxX9L"
      }
    },
    {
      "cell_type": "code",
      "source": [
        "from sklearn.preprocessing import StandardScaler\n",
        "sc = StandardScaler()\n",
        "x_train = sc.fit_transform(x_train)\n",
        "x_test = sc.transform(x_test)"
      ],
      "metadata": {
        "execution": {
          "iopub.status.busy": "2025-10-21T07:26:52.610439Z",
          "iopub.execute_input": "2025-10-21T07:26:52.610806Z",
          "iopub.status.idle": "2025-10-21T07:26:52.646098Z",
          "shell.execute_reply.started": "2025-10-21T07:26:52.610740Z",
          "shell.execute_reply": "2025-10-21T07:26:52.644755Z"
        },
        "papermill": {
          "duration": 0.050498,
          "end_time": "2025-10-02T14:17:56.392385",
          "exception": false,
          "start_time": "2025-10-02T14:17:56.341887",
          "status": "completed"
        },
        "tags": [],
        "trusted": true,
        "id": "n7oQZY5OxX9L"
      },
      "outputs": [],
      "execution_count": 53
    },
    {
      "cell_type": "markdown",
      "source": [
        "# Model Training"
      ],
      "metadata": {
        "id": "ZOMMtoqeFkuk"
      }
    },
    {
      "cell_type": "markdown",
      "source": [
        "**Logistic Regression**"
      ],
      "metadata": {
        "id": "RRvUzDZeFuZH"
      }
    },
    {
      "cell_type": "code",
      "source": [
        "from sklearn.linear_model import LogisticRegression\n",
        "lr = LogisticRegression()\n",
        "\n",
        "# model training\n",
        "lr.fit(x_train  , y_train)\n",
        "\n",
        "from sklearn.metrics import accuracy_score\n",
        "y_pred1 = lr.predict(x_test)\n",
        "acc = accuracy_score(y_test , y_pred1)\n",
        "\n",
        "from sklearn.metrics import precision_score, recall_score, f1_score, confusion_matrix\n",
        "\n",
        "\n",
        "precision = precision_score(y_test, y_pred1, pos_label=1)\n",
        "recall = recall_score(y_test, y_pred1, pos_label=1)\n",
        "f1 = f1_score(y_test, y_pred1, pos_label=1)\n",
        "cm = confusion_matrix(y_test, y_pred1)\n",
        "\n",
        "print(\"Accuracy:\", acc)\n",
        "print(f\"Confusion Matrix:\\n{cm}\\n\")\n",
        "print(f\"Precision : {precision:.2f}\")\n",
        "print(f\"Recall : {recall:.2f}\")\n",
        "print(f\"F1-score : {f1:.2f}\")"
      ],
      "metadata": {
        "id": "mj7Hy_WnoFtq",
        "colab": {
          "base_uri": "https://localhost:8080/"
        },
        "outputId": "237b87a2-f25d-4692-b5d5-8d0806ed6e25"
      },
      "execution_count": 54,
      "outputs": [
        {
          "output_type": "stream",
          "name": "stdout",
          "text": [
            "Accuracy: 0.8149847094801224\n",
            "Confusion Matrix:\n",
            "[[1731  322]\n",
            " [ 404 1467]]\n",
            "\n",
            "Precision : 0.82\n",
            "Recall : 0.78\n",
            "F1-score : 0.80\n"
          ]
        }
      ]
    },
    {
      "cell_type": "markdown",
      "source": [
        "**Random forest Classifier**"
      ],
      "metadata": {
        "id": "bW4Gqfo6F3Aq"
      }
    },
    {
      "cell_type": "code",
      "source": [
        "from sklearn.model_selection import GridSearchCV\n",
        "\n",
        "# param_grid = {\n",
        "#     'n_estimators': [50, 100, 200],\n",
        "#     'max_depth': [None, 5, 10, 15],\n",
        "#     'min_samples_split': [2, 5, 10]\n",
        "# }\n",
        "\n",
        "# rf = RandomForestClassifier(random_state=42)\n",
        "# grid = GridSearchCV(rf, param_grid, scoring='accuracy', cv=5)  # recall important for cancer\n",
        "# grid.fit(x_train, y_train)\n",
        "\n",
        "# print(\"Best params:\", grid.best_params_)\n",
        "# print(\"Best recall:\", grid.best_score_)"
      ],
      "metadata": {
        "id": "PkCZel6-0UD2"
      },
      "execution_count": 55,
      "outputs": []
    },
    {
      "cell_type": "code",
      "source": [
        "from sklearn.metrics import accuracy_score\n",
        "\n",
        "\n",
        "\n",
        "from sklearn.ensemble import RandomForestClassifier\n",
        "rf = RandomForestClassifier(\n",
        "    n_estimators=300,\n",
        "    max_depth=10,\n",
        "    min_samples_split=6,\n",
        "    min_samples_leaf=5,\n",
        "    class_weight='balanced',\n",
        "    random_state=42\n",
        ")\n",
        "rf.fit(x_train, y_train)\n",
        "\n",
        "y_pred9 = rf.predict(x_test)\n",
        "\n",
        "print(\"Accuracy:\", accuracy_score(y_test, y_pred9))\n"
      ],
      "metadata": {
        "id": "8CbJ6Lq76laT",
        "colab": {
          "base_uri": "https://localhost:8080/"
        },
        "outputId": "ac68e50f-4bfb-477f-9f69-052a9fff5419"
      },
      "execution_count": 56,
      "outputs": [
        {
          "output_type": "stream",
          "name": "stdout",
          "text": [
            "Accuracy: 0.8748725790010193\n"
          ]
        }
      ]
    },
    {
      "cell_type": "markdown",
      "source": [
        "**Xgboost**"
      ],
      "metadata": {
        "id": "DR_Qq5cZGKs0"
      }
    },
    {
      "cell_type": "code",
      "source": [
        "\n",
        "from xgboost import XGBClassifier\n",
        "\n",
        "# xg boost model tunning\n",
        "\n",
        "xgb = XGBClassifier(\n",
        "    n_estimators= 200,\n",
        "    learning_rate= 0.4,\n",
        "    max_depth= 6,\n",
        "    random_state= 42,\n",
        "    eval_metric='logloss'\n",
        ")\n",
        "\n",
        "# fitting xgboost to train dataset\n",
        "\n",
        "xgb.fit(x_train, y_train)\n",
        "\n",
        "# prediction xg boost model over test dataset\n",
        "y_pred5 = xgb.predict(x_test)\n",
        "\n",
        "print(\"Accuracy:\", accuracy_score(y_test, y_pred5))\n",
        "print(\"Precision:\", precision_score(y_test, y_pred5))\n",
        "print(\"Recall:\", recall_score(y_test, y_pred5))\n",
        "print(\"F1-score:\", f1_score(y_test, y_pred5))"
      ],
      "metadata": {
        "id": "Prrq06Nb4TVL",
        "colab": {
          "base_uri": "https://localhost:8080/"
        },
        "outputId": "42b45796-f0d6-49d3-f466-09cb75d31299"
      },
      "execution_count": 57,
      "outputs": [
        {
          "output_type": "stream",
          "name": "stdout",
          "text": [
            "Accuracy: 0.8965341488277269\n",
            "Precision: 0.9085331846068042\n",
            "Recall: 0.8706574024585783\n",
            "F1-score: 0.8891921397379913\n"
          ]
        }
      ]
    },
    {
      "cell_type": "markdown",
      "source": [
        "**Catboost CLassifier**"
      ],
      "metadata": {
        "id": "h1N3wfbyGaMO"
      }
    },
    {
      "cell_type": "code",
      "source": [
        "from catboost import CatBoostClassifier\n",
        "cat = CatBoostClassifier(\n",
        "    iterations=600,\n",
        "    learning_rate=0.06, # 0.05\n",
        "    depth=6,\n",
        "    eval_metric='Accuracy',\n",
        "    random_seed=42,\n",
        "    verbose=0\n",
        ")\n",
        "cat.fit(x_train, y_train)\n",
        "y_pred11 = cat.predict(x_test)\n",
        "\n",
        "y_prob = cat.predict_proba(x_test)[:, 1]\n",
        "\n",
        "\n",
        "print(\"Accuracy:\", accuracy_score(y_test, y_pred11))\n",
        "print(\"Precision:\", precision_score(y_test, y_pred11))\n",
        "print(\"Recall:\", recall_score(y_test, y_pred11))\n",
        "print(\"F1-score:\", f1_score(y_test, y_pred11))"
      ],
      "metadata": {
        "id": "elS4Y6A0_UNA",
        "colab": {
          "base_uri": "https://localhost:8080/"
        },
        "outputId": "c8f1de31-d484-4d42-9170-f4d9e3385dfc"
      },
      "execution_count": 58,
      "outputs": [
        {
          "output_type": "stream",
          "name": "stdout",
          "text": [
            "Accuracy: 0.9041794087665648\n",
            "Precision: 0.9201798763350196\n",
            "Recall: 0.874933190807055\n",
            "F1-score: 0.896986301369863\n"
          ]
        }
      ]
    },
    {
      "cell_type": "markdown",
      "source": [
        "**dumping trained model in pickle format**"
      ],
      "metadata": {
        "id": "ns9m6pwEcEmA"
      }
    },
    {
      "cell_type": "code",
      "source": [
        "import pickle\n",
        "\n",
        "# Save trained model to pickle file\n",
        "with open('catboost_cat_model.pkl', 'wb') as file:\n",
        "    pickle.dump(cat, file)\n",
        "\n",
        "print(\" 'catboost_cat_model.pkl'\")\n"
      ],
      "metadata": {
        "id": "D7MUnzNRZYKN",
        "colab": {
          "base_uri": "https://localhost:8080/"
        },
        "outputId": "b0598f84-7584-45e9-cf42-82bf49cc085d"
      },
      "execution_count": 59,
      "outputs": [
        {
          "output_type": "stream",
          "name": "stdout",
          "text": [
            " 'catboost_cat_model.pkl'\n"
          ]
        }
      ]
    },
    {
      "cell_type": "markdown",
      "source": [
        "**making predictions file in csv**"
      ],
      "metadata": {
        "id": "NNJ0qJHpcMnH"
      }
    },
    {
      "cell_type": "code",
      "source": [
        "\n",
        "\n",
        "# Convert to DataFrame\n",
        "v_pred = pd.DataFrame(y_pred11, columns=['Prediction'])\n",
        "\n",
        "# Save to CSV\n",
        "v_pred.to_csv('catboost_predictions.csv', index=False)\n",
        "\n",
        "print(\"catboost_predictions.csv'\")\n"
      ],
      "metadata": {
        "id": "4wQR7hOibQj9",
        "colab": {
          "base_uri": "https://localhost:8080/"
        },
        "outputId": "30098bca-5735-4dbd-9b48-511b7314a49f"
      },
      "execution_count": 60,
      "outputs": [
        {
          "output_type": "stream",
          "name": "stdout",
          "text": [
            "catboost_predictions.csv'\n"
          ]
        }
      ]
    },
    {
      "cell_type": "markdown",
      "source": [
        "# Final Catboost Accuracy Matrix Evaluation"
      ],
      "metadata": {
        "id": "90AekW0nW-Wr"
      }
    },
    {
      "cell_type": "code",
      "source": [
        "\n",
        "print(\"Accuracy:\", accuracy_score(y_test, y_pred11))\n",
        "print(\"Precision:\", precision_score(y_test, y_pred11))\n",
        "print(\"Recall:\", recall_score(y_test, y_pred11))\n",
        "print(\"F1-score:\", f1_score(y_test, y_pred11))"
      ],
      "metadata": {
        "id": "BuM0A5hNW89W",
        "colab": {
          "base_uri": "https://localhost:8080/"
        },
        "outputId": "c4b54bf0-1012-49a5-9c25-fb1e4a667bc5"
      },
      "execution_count": 61,
      "outputs": [
        {
          "output_type": "stream",
          "name": "stdout",
          "text": [
            "Accuracy: 0.9041794087665648\n",
            "Precision: 0.9201798763350196\n",
            "Recall: 0.874933190807055\n",
            "F1-score: 0.896986301369863\n"
          ]
        }
      ]
    },
    {
      "cell_type": "code",
      "source": [
        "from sklearn.metrics import (\n",
        "    confusion_matrix,\n",
        "    ConfusionMatrixDisplay,\n",
        "    roc_curve,\n",
        "    roc_auc_score,\n",
        "    cohen_kappa_score,\n",
        "    accuracy_score,\n",
        "    classification_report\n",
        ")"
      ],
      "metadata": {
        "id": "v-cTLA5YJHo2"
      },
      "execution_count": 62,
      "outputs": []
    },
    {
      "cell_type": "markdown",
      "source": [
        "**confusion matrix of catboost classifier**"
      ],
      "metadata": {
        "id": "BBhAfstCJ2BY"
      }
    },
    {
      "cell_type": "code",
      "source": [
        "cm = confusion_matrix(y_test, y_pred11)\n",
        "disp = ConfusionMatrixDisplay(confusion_matrix=cm)\n",
        "disp.plot(cmap = \"Greens\")\n",
        "plt.title(\"Confusion Matrix\")\n",
        "plt.show()"
      ],
      "metadata": {
        "id": "hOHDvYeoJKY8",
        "colab": {
          "base_uri": "https://localhost:8080/",
          "height": 480
        },
        "outputId": "300029d1-7085-440b-827e-d916761b320f"
      },
      "execution_count": 63,
      "outputs": [
        {
          "output_type": "display_data",
          "data": {
            "text/plain": [
              "<Figure size 640x480 with 2 Axes>"
            ],
            "image/png": "[encoded data removed]"
          },
          "metadata": {}
        }
      ]
    },
    {
      "cell_type": "markdown",
      "source": [
        "**roc curve plotting**"
      ],
      "metadata": {
        "id": "iyRUb7yPJ_UB"
      }
    },
    {
      "cell_type": "code",
      "source": [
        "# ---  ROC Curve ---\n",
        "fpr, tpr, thresholds = roc_curve(y_test, y_prob)\n",
        "plt.plot(fpr, tpr, label=f\"ROC Curve (AUC = {roc_auc_score(y_test, y_prob):.2f})\")\n",
        "plt.plot([0, 1], [0, 1], \"k--\")\n",
        "plt.xlabel(\"False Positive Rate\")\n",
        "plt.ylabel(\"True Positive Rate\")\n",
        "plt.title(\"ROC Curve\")\n",
        "plt.legend()\n",
        "plt.show()"
      ],
      "metadata": {
        "id": "tpramd1tJzrv",
        "colab": {
          "base_uri": "https://localhost:8080/",
          "height": 480
        },
        "outputId": "cb74031a-4bb4-44ac-d804-70908a443f02"
      },
      "execution_count": 64,
      "outputs": [
        {
          "output_type": "display_data",
          "data": {
            "text/plain": [
              "<Figure size 640x480 with 1 Axes>"
            ],
            "image/png": "[encoded data removed]"
          },
          "metadata": {}
        }
      ]
    },
    {
      "cell_type": "code",
      "source": [
        "# --- Cohen’s Kappa ---\n",
        "kappa = cohen_kappa_score(y_test, y_pred11)\n",
        "print(\"Cohen’s Kappa Score:\", round(kappa, 3))\n",
        "\n",
        "\n",
        "\n",
        "# ---  Extra: Accuracy & Report ---\n",
        "print(\"Accuracy:\", round(accuracy_score(y_test, y_pred11), 3))\n",
        "print(\"\\nClassification Report:\\n\", classification_report(y_test, y_pred11))"
      ],
      "metadata": {
        "id": "O_JdHjN3KOBE",
        "colab": {
          "base_uri": "https://localhost:8080/"
        },
        "outputId": "98578758-9ca4-437b-eb5f-6ff4a5d0af1a"
      },
      "execution_count": 65,
      "outputs": [
        {
          "output_type": "stream",
          "name": "stdout",
          "text": [
            "Cohen’s Kappa Score: 0.808\n",
            "Accuracy: 0.904\n",
            "\n",
            "Classification Report:\n",
            "               precision    recall  f1-score   support\n",
            "\n",
            "           0       0.89      0.93      0.91      2053\n",
            "           1       0.92      0.87      0.90      1871\n",
            "\n",
            "    accuracy                           0.90      3924\n",
            "   macro avg       0.91      0.90      0.90      3924\n",
            "weighted avg       0.90      0.90      0.90      3924\n",
            "\n"
          ]
        }
      ]
    },
    {
      "cell_type": "markdown",
      "source": [
        "# accuracy conclusion Catboost\n",
        "    \n",
        "Accuracy: 0.9041794087665648\n",
        "\n",
        "Precision: 0.9201798763350196\n",
        "\n",
        "Recall: 0.874933190807055\n",
        "\n",
        "F1-score: 0.896986301369863\n",
        "\n",
        "roc cuve = 0.96\n",
        "\n",
        "kappa score = 808"
      ],
      "metadata": {
        "id": "fbCioiS9XS_J"
      }
    },
    {
      "cell_type": "code",
      "source": [
        "import pandas as pd\n",
        "\n",
        "# Metrics dictionary\n",
        "metrics = {\n",
        "    'Model': 'CatBoost',\n",
        "    'Accuracy': 0.9041794087665648,\n",
        "    'Precision': 0.9201798763350196,\n",
        "    'Recall': 0.874933190807055,\n",
        "    'F1-score': 0.896986301369863,\n",
        "    'ROC AUC': 0.96,\n",
        "    'Kappa Score': 0.808\n",
        "}\n",
        "\n",
        "# Convert to DataFrame (vertical form)\n",
        "df_metrics = pd.DataFrame(list(metrics.items()), columns=['Metric', 'Value'])\n",
        "\n",
        "# Display\n",
        "print(df_metrics)\n",
        "\n",
        "\n"
      ],
      "metadata": {
        "id": "NNxOktqEYE2z",
        "colab": {
          "base_uri": "https://localhost:8080/"
        },
        "outputId": "94ff622f-5876-410a-f53c-826bf9c8f2f1"
      },
      "execution_count": 66,
      "outputs": [
        {
          "output_type": "stream",
          "name": "stdout",
          "text": [
            "        Metric     Value\n",
            "0        Model  CatBoost\n",
            "1     Accuracy  0.904179\n",
            "2    Precision   0.92018\n",
            "3       Recall  0.874933\n",
            "4     F1-score  0.896986\n",
            "5      ROC AUC      0.96\n",
            "6  Kappa Score     0.808\n"
          ]
        }
      ]
    },
    {
      "cell_type": "markdown",
      "source": [
        "**making csv file of accuracy evaluations matrix**"
      ],
      "metadata": {
        "id": "q2zUNuTBcU8w"
      }
    },
    {
      "cell_type": "code",
      "source": [
        "\n",
        "# Save to CSV\n",
        "df_metrics.to_csv(\"catboost_metrics.csv\", index=False)\n",
        "\n",
        "print(\" 'catboost_metrics.csv'\")"
      ],
      "metadata": {
        "id": "0re70Cb-Y-Li",
        "colab": {
          "base_uri": "https://localhost:8080/"
        },
        "outputId": "2305aba2-a925-4543-e79f-448785a39a73"
      },
      "execution_count": 67,
      "outputs": [
        {
          "output_type": "stream",
          "name": "stdout",
          "text": [
            " 'catboost_metrics.csv'\n"
          ]
        }
      ]
    }
  ]
}